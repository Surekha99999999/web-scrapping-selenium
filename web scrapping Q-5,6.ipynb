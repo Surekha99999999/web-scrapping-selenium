{
 "cells": [
  {
   "cell_type": "code",
   "execution_count": 1,
   "id": "44e2dae4",
   "metadata": {},
   "outputs": [
    {
     "name": "stdout",
     "output_type": "stream",
     "text": [
      "Requirement already satisfied: selenium in c:\\programdata\\anaconda3\\lib\\site-packages (4.1.0)\n",
      "Requirement already satisfied: urllib3[secure]~=1.26 in c:\\programdata\\anaconda3\\lib\\site-packages (from selenium) (1.26.4)\n",
      "Requirement already satisfied: trio~=0.17 in c:\\programdata\\anaconda3\\lib\\site-packages (from selenium) (0.19.0)\n",
      "Requirement already satisfied: trio-websocket~=0.9 in c:\\programdata\\anaconda3\\lib\\site-packages (from selenium) (0.9.2)\n",
      "Requirement already satisfied: idna in c:\\programdata\\anaconda3\\lib\\site-packages (from trio~=0.17->selenium) (2.10)\n",
      "Requirement already satisfied: async-generator>=1.9 in c:\\programdata\\anaconda3\\lib\\site-packages (from trio~=0.17->selenium) (1.10)\n",
      "Requirement already satisfied: sortedcontainers in c:\\programdata\\anaconda3\\lib\\site-packages (from trio~=0.17->selenium) (2.3.0)\n",
      "Requirement already satisfied: cffi>=1.14 in c:\\programdata\\anaconda3\\lib\\site-packages (from trio~=0.17->selenium) (1.14.5)\n",
      "Requirement already satisfied: outcome in c:\\programdata\\anaconda3\\lib\\site-packages (from trio~=0.17->selenium) (1.1.0)\n",
      "Requirement already satisfied: attrs>=19.2.0 in c:\\programdata\\anaconda3\\lib\\site-packages (from trio~=0.17->selenium) (20.3.0)\n",
      "Requirement already satisfied: sniffio in c:\\programdata\\anaconda3\\lib\\site-packages (from trio~=0.17->selenium) (1.2.0)\n",
      "Requirement already satisfied: pycparser in c:\\programdata\\anaconda3\\lib\\site-packages (from cffi>=1.14->trio~=0.17->selenium) (2.20)\n",
      "Requirement already satisfied: wsproto>=0.14 in c:\\programdata\\anaconda3\\lib\\site-packages (from trio-websocket~=0.9->selenium) (1.0.0)\n",
      "Requirement already satisfied: certifi in c:\\programdata\\anaconda3\\lib\\site-packages (from urllib3[secure]~=1.26->selenium) (2020.12.5)\n",
      "Requirement already satisfied: pyOpenSSL>=0.14 in c:\\programdata\\anaconda3\\lib\\site-packages (from urllib3[secure]~=1.26->selenium) (20.0.1)\n",
      "Requirement already satisfied: cryptography>=1.3.4 in c:\\programdata\\anaconda3\\lib\\site-packages (from urllib3[secure]~=1.26->selenium) (3.4.7)\n",
      "Requirement already satisfied: six>=1.5.2 in c:\\programdata\\anaconda3\\lib\\site-packages (from pyOpenSSL>=0.14->urllib3[secure]~=1.26->selenium) (1.15.0)\n",
      "Requirement already satisfied: h11<1,>=0.9.0 in c:\\programdata\\anaconda3\\lib\\site-packages (from wsproto>=0.14->trio-websocket~=0.9->selenium) (0.12.0)\n"
     ]
    }
   ],
   "source": [
    "!pip install selenium"
   ]
  },
  {
   "cell_type": "code",
   "execution_count": 2,
   "id": "998e4777",
   "metadata": {},
   "outputs": [],
   "source": [
    "import selenium\n",
    "from selenium import webdriver\n",
    "import pandas as pd \n",
    "import warnings\n",
    "warnings.filterwarnings(\"ignore\")"
   ]
  },
  {
   "cell_type": "code",
   "execution_count": 4,
   "id": "88e0a0d8",
   "metadata": {},
   "outputs": [],
   "source": [
    "driver = webdriver.Chrome(r'C:\\Users\\PC\\Downloads\\chromedriver_win32\\chromedriver.exe')"
   ]
  },
  {
   "cell_type": "code",
   "execution_count": 5,
   "id": "dd755e63",
   "metadata": {},
   "outputs": [],
   "source": [
    "url ='https://www.flipkart.com/apple-iphone-11-black-64-gb-includes- earpods-power- adapter/p/itm0f37c2240b217?pid=MOBFKCTSVZAXUHGR&lid=LSTMOBFKC TSVZAXUHGREPBFGI&marketplace.'\n",
    "driver.get(url)"
   ]
  },
  {
   "cell_type": "code",
   "execution_count": 18,
   "id": "82b25d1e",
   "metadata": {},
   "outputs": [
    {
     "data": {
      "text/plain": [
       "[<selenium.webdriver.remote.webelement.WebElement (session=\"3e5856cc81f4035f1b102e2170792f27\", element=\"dbfe3dc9-6c0f-4fd8-a88b-473e89b86330\")>]"
      ]
     },
     "execution_count": 18,
     "metadata": {},
     "output_type": "execute_result"
    }
   ],
   "source": [
    "rating = driver.find_elements_by_xpath('//div[@class=\"_3LWZlK _1BLPMq\"]')\n",
    "len(rating)\n",
    "rating[0:1]"
   ]
  },
  {
   "cell_type": "code",
   "execution_count": 19,
   "id": "4890b472",
   "metadata": {},
   "outputs": [
    {
     "data": {
      "text/plain": [
       "['5']"
      ]
     },
     "execution_count": 19,
     "metadata": {},
     "output_type": "execute_result"
    }
   ],
   "source": [
    "ratings=[]\n",
    "\n",
    "for i in rating:\n",
    "    ratings.append(i.text)\n",
    "ratings[0:1]   "
   ]
  },
  {
   "cell_type": "code",
   "execution_count": 22,
   "id": "cce44cf2",
   "metadata": {},
   "outputs": [
    {
     "data": {
      "text/plain": [
       "[<selenium.webdriver.remote.webelement.WebElement (session=\"3e5856cc81f4035f1b102e2170792f27\", element=\"4c1740b1-b781-4814-8f2b-c4c7b9d3df16\")>]"
      ]
     },
     "execution_count": 22,
     "metadata": {},
     "output_type": "execute_result"
    }
   ],
   "source": [
    "review_summary = driver.find_elements_by_xpath('//p[@class=\"_2-N8zT\"]')\n",
    "len(review_summary)\n",
    "review_summary[0:1]"
   ]
  },
  {
   "cell_type": "code",
   "execution_count": 21,
   "id": "9190f736",
   "metadata": {},
   "outputs": [
    {
     "data": {
      "text/plain": [
       "['Brilliant']"
      ]
     },
     "execution_count": 21,
     "metadata": {},
     "output_type": "execute_result"
    }
   ],
   "source": [
    "review_summarys = []\n",
    "\n",
    "for i in review_summary:\n",
    "    review_summarys.append(i.text)\n",
    "review_summarys[0:1]    "
   ]
  },
  {
   "cell_type": "code",
   "execution_count": 23,
   "id": "a31db9fa",
   "metadata": {},
   "outputs": [
    {
     "data": {
      "text/plain": [
       "[<selenium.webdriver.remote.webelement.WebElement (session=\"3e5856cc81f4035f1b102e2170792f27\", element=\"818dda29-0057-4007-84c2-02d50f19a763\")>]"
      ]
     },
     "execution_count": 23,
     "metadata": {},
     "output_type": "execute_result"
    }
   ],
   "source": [
    "full_review = driver.find_elements_by_xpath('//div[@class=\"t-ZTKy\"]')\n",
    "len(full_review)\n",
    "full_review[0:1]"
   ]
  },
  {
   "cell_type": "code",
   "execution_count": 25,
   "id": "4eb7114a",
   "metadata": {},
   "outputs": [
    {
     "data": {
      "text/plain": [
       "['The Best Phone for the Money\\n\\nThe iPhone 11 offers superb cameras, a more durable design and excellent battery life for an affordable price.\\n\\nCompelling ultra-wide camera\\nNew Night mode is excellent\\nLong battery life']"
      ]
     },
     "execution_count": 25,
     "metadata": {},
     "output_type": "execute_result"
    }
   ],
   "source": [
    "full_reviews = []\n",
    "\n",
    "for i in full_review:\n",
    "    full_reviews.append(i.text)\n",
    "full_reviews[0:1]    "
   ]
  },
  {
   "cell_type": "code",
   "execution_count": 27,
   "id": "43adac86",
   "metadata": {},
   "outputs": [
    {
     "data": {
      "text/plain": [
       "['Brilliant',\n",
       " 'Simply awesome',\n",
       " 'Best in the market!',\n",
       " '',\n",
       " '',\n",
       " '',\n",
       " '',\n",
       " '',\n",
       " '',\n",
       " '']"
      ]
     },
     "execution_count": 27,
     "metadata": {},
     "output_type": "execute_result"
    }
   ],
   "source": [
    "review_summarys = []\n",
    "\n",
    "for i in review_summary:\n",
    "    review_summarys.append(i.text)\n",
    "review_summarys[0:100]    "
   ]
  },
  {
   "cell_type": "code",
   "execution_count": 28,
   "id": "e30e114d",
   "metadata": {},
   "outputs": [],
   "source": [
    "driver = webdriver.Chrome(r'C:\\Users\\PC\\Downloads\\chromedriver_win32\\chromedriver.exe')"
   ]
  },
  {
   "cell_type": "code",
   "execution_count": 29,
   "id": "770274c7",
   "metadata": {},
   "outputs": [],
   "source": [
    "url ='https://www.flipkart.com/'\n",
    "driver.get(url)"
   ]
  },
  {
   "cell_type": "code",
   "execution_count": 30,
   "id": "42d9d213",
   "metadata": {},
   "outputs": [
    {
     "data": {
      "text/plain": [
       "<selenium.webdriver.remote.webelement.WebElement (session=\"8b548bd0565464f157ba1bd460835878\", element=\"7766769f-e811-4762-8fa1-4e103086607f\")>"
      ]
     },
     "execution_count": 30,
     "metadata": {},
     "output_type": "execute_result"
    }
   ],
   "source": [
    "search = driver.find_element_by_class_name('_3704LK')\n",
    "search"
   ]
  },
  {
   "cell_type": "code",
   "execution_count": 32,
   "id": "2d239352",
   "metadata": {},
   "outputs": [],
   "source": [
    "search.send_keys(\"sneakers\")"
   ]
  },
  {
   "cell_type": "code",
   "execution_count": 33,
   "id": "6bc5817c",
   "metadata": {},
   "outputs": [
    {
     "data": {
      "text/plain": [
       "<selenium.webdriver.remote.webelement.WebElement (session=\"8b548bd0565464f157ba1bd460835878\", element=\"76683764-836e-4478-99fa-1d20b4a5af07\")>"
      ]
     },
     "execution_count": 33,
     "metadata": {},
     "output_type": "execute_result"
    }
   ],
   "source": [
    "search_btn = driver.find_element_by_xpath('/html/body/div[1]/div/div[1]/div[1]/div[2]/div[2]/form/div/button')\n",
    "search_btn"
   ]
  },
  {
   "cell_type": "code",
   "execution_count": 34,
   "id": "cc2e7d31",
   "metadata": {},
   "outputs": [],
   "source": [
    "search_btn.click()"
   ]
  },
  {
   "cell_type": "code",
   "execution_count": 35,
   "id": "46a3b7b2",
   "metadata": {},
   "outputs": [
    {
     "data": {
      "text/plain": [
       "[<selenium.webdriver.remote.webelement.WebElement (session=\"8b548bd0565464f157ba1bd460835878\", element=\"6121f642-c99b-40a4-9799-f7562480d5a0\")>,\n",
       " <selenium.webdriver.remote.webelement.WebElement (session=\"8b548bd0565464f157ba1bd460835878\", element=\"c0975852-9b3f-44c3-ad87-32113c0a2ea9\")>,\n",
       " <selenium.webdriver.remote.webelement.WebElement (session=\"8b548bd0565464f157ba1bd460835878\", element=\"9c453269-abf8-444b-8aec-31dadc0bd6ce\")>,\n",
       " <selenium.webdriver.remote.webelement.WebElement (session=\"8b548bd0565464f157ba1bd460835878\", element=\"a435ff69-0e28-46ef-8b8b-29f72db8dc86\")>,\n",
       " <selenium.webdriver.remote.webelement.WebElement (session=\"8b548bd0565464f157ba1bd460835878\", element=\"796cbe85-a9f9-423d-85e6-d9b61d59b5b2\")>,\n",
       " <selenium.webdriver.remote.webelement.WebElement (session=\"8b548bd0565464f157ba1bd460835878\", element=\"16653fd1-242c-4e98-a3ac-8862b699ffa5\")>,\n",
       " <selenium.webdriver.remote.webelement.WebElement (session=\"8b548bd0565464f157ba1bd460835878\", element=\"9a61f2c8-5db8-4f08-97bd-a25481972baa\")>,\n",
       " <selenium.webdriver.remote.webelement.WebElement (session=\"8b548bd0565464f157ba1bd460835878\", element=\"653485a2-423c-4143-923c-feac9da40fba\")>,\n",
       " <selenium.webdriver.remote.webelement.WebElement (session=\"8b548bd0565464f157ba1bd460835878\", element=\"2884ec62-831a-481b-a99d-f584f4b28ea7\")>,\n",
       " <selenium.webdriver.remote.webelement.WebElement (session=\"8b548bd0565464f157ba1bd460835878\", element=\"60e11658-c87b-422a-97a8-7e00f7a1f139\")>,\n",
       " <selenium.webdriver.remote.webelement.WebElement (session=\"8b548bd0565464f157ba1bd460835878\", element=\"b3f19cc6-4815-4368-916d-0e44cda6b352\")>,\n",
       " <selenium.webdriver.remote.webelement.WebElement (session=\"8b548bd0565464f157ba1bd460835878\", element=\"6d52deff-9f9a-4eda-a5a4-2fed2c5836ad\")>,\n",
       " <selenium.webdriver.remote.webelement.WebElement (session=\"8b548bd0565464f157ba1bd460835878\", element=\"aa3228e4-6842-43cb-b7f5-89f7062f6b63\")>,\n",
       " <selenium.webdriver.remote.webelement.WebElement (session=\"8b548bd0565464f157ba1bd460835878\", element=\"ee689dd2-bf97-4f07-a770-ab30170101d1\")>,\n",
       " <selenium.webdriver.remote.webelement.WebElement (session=\"8b548bd0565464f157ba1bd460835878\", element=\"3a130b29-6301-4034-9400-26f8a3a93c1b\")>,\n",
       " <selenium.webdriver.remote.webelement.WebElement (session=\"8b548bd0565464f157ba1bd460835878\", element=\"27148acc-b955-4733-8390-89abaeb509de\")>,\n",
       " <selenium.webdriver.remote.webelement.WebElement (session=\"8b548bd0565464f157ba1bd460835878\", element=\"61b7dbcb-ca48-4634-9937-41f9b8341cbd\")>,\n",
       " <selenium.webdriver.remote.webelement.WebElement (session=\"8b548bd0565464f157ba1bd460835878\", element=\"742d9d39-b9f7-4411-871b-a32a160e3c1f\")>,\n",
       " <selenium.webdriver.remote.webelement.WebElement (session=\"8b548bd0565464f157ba1bd460835878\", element=\"dcb2b935-2a14-4e49-b9eb-fb3be8a39834\")>,\n",
       " <selenium.webdriver.remote.webelement.WebElement (session=\"8b548bd0565464f157ba1bd460835878\", element=\"e8981674-0017-4cf9-8617-32985646995e\")>,\n",
       " <selenium.webdriver.remote.webelement.WebElement (session=\"8b548bd0565464f157ba1bd460835878\", element=\"4c75e403-a16d-4651-9eb8-8dac867bfb34\")>,\n",
       " <selenium.webdriver.remote.webelement.WebElement (session=\"8b548bd0565464f157ba1bd460835878\", element=\"1fa16b20-1797-4a14-9f57-cfda3b7e4dff\")>,\n",
       " <selenium.webdriver.remote.webelement.WebElement (session=\"8b548bd0565464f157ba1bd460835878\", element=\"8efcefe5-b405-41de-941b-86b586cabe40\")>,\n",
       " <selenium.webdriver.remote.webelement.WebElement (session=\"8b548bd0565464f157ba1bd460835878\", element=\"0f27fca2-95a1-429c-ba7d-fb0ba72fc8e1\")>,\n",
       " <selenium.webdriver.remote.webelement.WebElement (session=\"8b548bd0565464f157ba1bd460835878\", element=\"b2366507-14d5-4cb0-a0b5-05f247576dd3\")>,\n",
       " <selenium.webdriver.remote.webelement.WebElement (session=\"8b548bd0565464f157ba1bd460835878\", element=\"8c847f30-f70e-4c23-a902-5aa5da49268c\")>,\n",
       " <selenium.webdriver.remote.webelement.WebElement (session=\"8b548bd0565464f157ba1bd460835878\", element=\"013969e6-9931-44b6-b697-84e97418bfb5\")>,\n",
       " <selenium.webdriver.remote.webelement.WebElement (session=\"8b548bd0565464f157ba1bd460835878\", element=\"fef7a852-fdfc-4c3a-94ca-b4932e7103e1\")>,\n",
       " <selenium.webdriver.remote.webelement.WebElement (session=\"8b548bd0565464f157ba1bd460835878\", element=\"416cc7e7-d56e-4a04-9b5d-38f9b8da2478\")>,\n",
       " <selenium.webdriver.remote.webelement.WebElement (session=\"8b548bd0565464f157ba1bd460835878\", element=\"d9a04792-52b8-401b-924e-bfcf21a20afb\")>,\n",
       " <selenium.webdriver.remote.webelement.WebElement (session=\"8b548bd0565464f157ba1bd460835878\", element=\"6695a07d-d435-434b-8c23-da3ee024f215\")>,\n",
       " <selenium.webdriver.remote.webelement.WebElement (session=\"8b548bd0565464f157ba1bd460835878\", element=\"62fc7f7b-ee7e-4412-abde-f3f49c284c30\")>,\n",
       " <selenium.webdriver.remote.webelement.WebElement (session=\"8b548bd0565464f157ba1bd460835878\", element=\"26672759-2f44-4c5e-901b-3c1c6b506da3\")>,\n",
       " <selenium.webdriver.remote.webelement.WebElement (session=\"8b548bd0565464f157ba1bd460835878\", element=\"77f1da29-2f6e-48d9-a60c-cb8ac21a7b71\")>,\n",
       " <selenium.webdriver.remote.webelement.WebElement (session=\"8b548bd0565464f157ba1bd460835878\", element=\"66dd9b02-234b-4acd-828c-259874a2a42d\")>,\n",
       " <selenium.webdriver.remote.webelement.WebElement (session=\"8b548bd0565464f157ba1bd460835878\", element=\"48f57362-144f-4681-b04f-4ee58dcb7d65\")>,\n",
       " <selenium.webdriver.remote.webelement.WebElement (session=\"8b548bd0565464f157ba1bd460835878\", element=\"5ead222a-d905-4114-9092-0b5ba17a083d\")>,\n",
       " <selenium.webdriver.remote.webelement.WebElement (session=\"8b548bd0565464f157ba1bd460835878\", element=\"309ff5f5-f411-44f2-ab4c-b7a72a185635\")>,\n",
       " <selenium.webdriver.remote.webelement.WebElement (session=\"8b548bd0565464f157ba1bd460835878\", element=\"6096e6bf-eb80-49a1-b55a-f7d1139fea23\")>,\n",
       " <selenium.webdriver.remote.webelement.WebElement (session=\"8b548bd0565464f157ba1bd460835878\", element=\"e1b7bd34-9a8b-453b-8cde-d5884dd83577\")>]"
      ]
     },
     "execution_count": 35,
     "metadata": {},
     "output_type": "execute_result"
    }
   ],
   "source": [
    "brand_name = driver.find_elements_by_xpath('//div[@class=\"_2WkVRV\"]')\n",
    "len(brand_name)\n",
    "brand_name[0:100]"
   ]
  },
  {
   "cell_type": "code",
   "execution_count": 36,
   "id": "a7379948",
   "metadata": {},
   "outputs": [
    {
     "data": {
      "text/plain": [
       "['ShoeFirst',\n",
       " 'Stefano Rads',\n",
       " 'URBANBOX',\n",
       " 'BRUTON',\n",
       " 'Stefano Rads',\n",
       " 'Magnolia',\n",
       " 'Extoes',\n",
       " 'NAUTICA',\n",
       " 'SCATCHITE',\n",
       " 'Kraasa',\n",
       " 'HOTSTYLE',\n",
       " 'T-ROCK',\n",
       " 'RapidBox',\n",
       " 'ASTEROID',\n",
       " 'Labbin',\n",
       " 'U.S. POLO ASSN.',\n",
       " 'Echor',\n",
       " 'DUNKASTON',\n",
       " 'Numenzo',\n",
       " 'K- FOOTLANCE',\n",
       " 'BRUTON',\n",
       " 'SPARX',\n",
       " 'PUMA',\n",
       " 'Blide',\n",
       " 'Trendmode',\n",
       " 'luxury fashion',\n",
       " 'ganpati traders',\n",
       " 'PEHANOSA',\n",
       " 'Shoes Bank',\n",
       " 'TR',\n",
       " 'Numenzo',\n",
       " 'U.S. POLO ASSN.',\n",
       " 'Kraasa',\n",
       " 'BIRDE',\n",
       " 'Robbie jones',\n",
       " 'GVR',\n",
       " 'BIRDE',\n",
       " 'PUMA',\n",
       " 'Kraasa',\n",
       " 'DUCATI']"
      ]
     },
     "execution_count": 36,
     "metadata": {},
     "output_type": "execute_result"
    }
   ],
   "source": [
    "brand_names = []\n",
    "\n",
    "for i in brand_name:\n",
    "    brand_names.append(i.text)\n",
    "brand_names[0:100]  "
   ]
  },
  {
   "cell_type": "code",
   "execution_count": 37,
   "id": "f7830f21",
   "metadata": {},
   "outputs": [
    {
     "data": {
      "text/plain": [
       "[<selenium.webdriver.remote.webelement.WebElement (session=\"8b548bd0565464f157ba1bd460835878\", element=\"9a743a5d-f0d0-4b06-b93f-47767b6235dd\")>,\n",
       " <selenium.webdriver.remote.webelement.WebElement (session=\"8b548bd0565464f157ba1bd460835878\", element=\"a5cf6999-6233-423a-b368-a93e2688a50f\")>,\n",
       " <selenium.webdriver.remote.webelement.WebElement (session=\"8b548bd0565464f157ba1bd460835878\", element=\"474cf6fc-29e6-45a5-81b3-b69e8d1c7aa6\")>,\n",
       " <selenium.webdriver.remote.webelement.WebElement (session=\"8b548bd0565464f157ba1bd460835878\", element=\"2caa9a11-b890-43c5-8ede-4ed2c1b6990e\")>,\n",
       " <selenium.webdriver.remote.webelement.WebElement (session=\"8b548bd0565464f157ba1bd460835878\", element=\"a19cd4ba-000a-4921-9d95-247684f2a2dc\")>,\n",
       " <selenium.webdriver.remote.webelement.WebElement (session=\"8b548bd0565464f157ba1bd460835878\", element=\"51f1da33-a5ea-43ea-9b7b-ce4d45713cba\")>,\n",
       " <selenium.webdriver.remote.webelement.WebElement (session=\"8b548bd0565464f157ba1bd460835878\", element=\"b058d686-c5ad-478c-b8a9-fdfc6db9edfd\")>,\n",
       " <selenium.webdriver.remote.webelement.WebElement (session=\"8b548bd0565464f157ba1bd460835878\", element=\"48b81301-b358-4db7-8c34-9a2fd555a3a9\")>,\n",
       " <selenium.webdriver.remote.webelement.WebElement (session=\"8b548bd0565464f157ba1bd460835878\", element=\"86e04143-ca63-436e-9a3d-c5f7428669bb\")>,\n",
       " <selenium.webdriver.remote.webelement.WebElement (session=\"8b548bd0565464f157ba1bd460835878\", element=\"b088fa0f-92df-4951-8302-3f977ec7e4c6\")>,\n",
       " <selenium.webdriver.remote.webelement.WebElement (session=\"8b548bd0565464f157ba1bd460835878\", element=\"e260134c-2523-4a80-8fb9-503913063b0c\")>,\n",
       " <selenium.webdriver.remote.webelement.WebElement (session=\"8b548bd0565464f157ba1bd460835878\", element=\"e19bbfd0-7fb8-4140-a809-5312039524e8\")>,\n",
       " <selenium.webdriver.remote.webelement.WebElement (session=\"8b548bd0565464f157ba1bd460835878\", element=\"06a6aac8-1964-424b-bc54-d6c3b761a680\")>,\n",
       " <selenium.webdriver.remote.webelement.WebElement (session=\"8b548bd0565464f157ba1bd460835878\", element=\"57c1c317-0067-4cf1-8676-2fe6f1f9b20c\")>,\n",
       " <selenium.webdriver.remote.webelement.WebElement (session=\"8b548bd0565464f157ba1bd460835878\", element=\"3388575b-ba12-4108-bb9e-f30d451b88d7\")>,\n",
       " <selenium.webdriver.remote.webelement.WebElement (session=\"8b548bd0565464f157ba1bd460835878\", element=\"776a1e75-5abb-4d17-8d7e-52feffa7e3ad\")>,\n",
       " <selenium.webdriver.remote.webelement.WebElement (session=\"8b548bd0565464f157ba1bd460835878\", element=\"33f8d33a-6402-49cf-9106-b326ea207dd1\")>,\n",
       " <selenium.webdriver.remote.webelement.WebElement (session=\"8b548bd0565464f157ba1bd460835878\", element=\"1f501183-6fbb-450f-b73a-9b551611155d\")>,\n",
       " <selenium.webdriver.remote.webelement.WebElement (session=\"8b548bd0565464f157ba1bd460835878\", element=\"2cbe74bb-07f8-40dd-a752-f7a91e6f4a58\")>,\n",
       " <selenium.webdriver.remote.webelement.WebElement (session=\"8b548bd0565464f157ba1bd460835878\", element=\"d18452d7-022a-46fb-adc3-41d312bea369\")>,\n",
       " <selenium.webdriver.remote.webelement.WebElement (session=\"8b548bd0565464f157ba1bd460835878\", element=\"c007e1c3-9033-4b1c-9de8-6cdd7064127a\")>,\n",
       " <selenium.webdriver.remote.webelement.WebElement (session=\"8b548bd0565464f157ba1bd460835878\", element=\"7a00382f-6243-4530-aeae-55ece32d49f9\")>,\n",
       " <selenium.webdriver.remote.webelement.WebElement (session=\"8b548bd0565464f157ba1bd460835878\", element=\"41bdf4bc-83d1-408f-9d46-23039a9a09c3\")>,\n",
       " <selenium.webdriver.remote.webelement.WebElement (session=\"8b548bd0565464f157ba1bd460835878\", element=\"b06f4c47-f240-4f71-8431-9fe8e8abf130\")>,\n",
       " <selenium.webdriver.remote.webelement.WebElement (session=\"8b548bd0565464f157ba1bd460835878\", element=\"d9ee5ddb-57b8-4431-aedb-b45b96d8453e\")>,\n",
       " <selenium.webdriver.remote.webelement.WebElement (session=\"8b548bd0565464f157ba1bd460835878\", element=\"a077f094-5c84-462c-b035-d5eddaa4e7f6\")>,\n",
       " <selenium.webdriver.remote.webelement.WebElement (session=\"8b548bd0565464f157ba1bd460835878\", element=\"a25eaac4-d99f-4004-8f9d-7d1e04016625\")>,\n",
       " <selenium.webdriver.remote.webelement.WebElement (session=\"8b548bd0565464f157ba1bd460835878\", element=\"dee1aa2b-8ea7-4193-bc6c-e3d410aa9c26\")>,\n",
       " <selenium.webdriver.remote.webelement.WebElement (session=\"8b548bd0565464f157ba1bd460835878\", element=\"715dd2dd-2bcd-4200-a736-fbefb235df0d\")>,\n",
       " <selenium.webdriver.remote.webelement.WebElement (session=\"8b548bd0565464f157ba1bd460835878\", element=\"1c2f5444-5385-4194-9550-99a2b3db59df\")>,\n",
       " <selenium.webdriver.remote.webelement.WebElement (session=\"8b548bd0565464f157ba1bd460835878\", element=\"30667445-8e59-4903-b2b9-1e6f9df865f5\")>,\n",
       " <selenium.webdriver.remote.webelement.WebElement (session=\"8b548bd0565464f157ba1bd460835878\", element=\"f380d34f-68dd-4b57-bef0-b9e83da8654f\")>,\n",
       " <selenium.webdriver.remote.webelement.WebElement (session=\"8b548bd0565464f157ba1bd460835878\", element=\"a6f6e85e-7ec2-4cb0-98bf-49f0d1895682\")>]"
      ]
     },
     "execution_count": 37,
     "metadata": {},
     "output_type": "execute_result"
    }
   ],
   "source": [
    "product_description = driver.find_elements_by_xpath('//a[@class=\"IRpwTa\"]')\n",
    "len(product_description)\n",
    "product_description[0:100]\n",
    "\n"
   ]
  },
  {
   "cell_type": "code",
   "execution_count": 38,
   "id": "eaaae9f0",
   "metadata": {},
   "outputs": [
    {
     "data": {
      "text/plain": [
       "['Modern & Trendy Collection Combo Pack of 02 Shoes for M...',\n",
       " 'Sneakers For Men',\n",
       " 'Modern Trendy Shoes Combo pack of 4 Sneakers For Men',\n",
       " 'Sneakers For Men',\n",
       " 'Sneakers Sneakers For Men',\n",
       " 'Series 7 Sneakers For Men',\n",
       " 'Sneakers For Men',\n",
       " \"Men's Stylish Sports Causal Sneakers shoes Sneakers For...\",\n",
       " \"Original Luxury Branded Fashionable Men's Casual Walkin...\",\n",
       " 'Sneakers For Men',\n",
       " 'Sneakers For Men',\n",
       " \"Men's Sneakers Fashion Lightweight Running Shoes Tennis...\",\n",
       " 'Sneakers For Men',\n",
       " '411 Casual Sneakers For Men',\n",
       " 'Sneakers For Men',\n",
       " 'Combo Pack Of 4 Casual Shoes Loafer Shoes Sneakers For ...',\n",
       " 'Men White Sneakers Sneakers For Men',\n",
       " 'Glory Sneakers For Men',\n",
       " 'Sneakers For Men',\n",
       " 'Luxury Fashionable casual sneaker shoes Sneakers For Me...',\n",
       " 'Sneakers For Men',\n",
       " \"White Sneaker For Men's/Boy's Sneakers For Men\",\n",
       " 'Sneakers For Men',\n",
       " 'White Sneaker For Men Sneakers For Men',\n",
       " 'Sneakers For Men',\n",
       " 'Shark-41 Sneakers For Men',\n",
       " 'Sports Running Shoes Sneakers For Men',\n",
       " 'Casual Sneakers Black Shoes For Men Sneakers For Men',\n",
       " 'Sneakers For Men',\n",
       " 'Combo Pack of 2 Casual Shoes Sneakers For Men',\n",
       " 'Baymax Sneakers For Men',\n",
       " 'Shark-41 Sneakers For Men',\n",
       " 'Sneakers For Men']"
      ]
     },
     "execution_count": 38,
     "metadata": {},
     "output_type": "execute_result"
    }
   ],
   "source": [
    "product_descriptions =[]\n",
    "\n",
    "for i in product_description:\n",
    "    product_descriptions.append(i.text)\n",
    "product_descriptions[0:100]    "
   ]
  },
  {
   "cell_type": "code",
   "execution_count": 39,
   "id": "f86894dc",
   "metadata": {},
   "outputs": [
    {
     "data": {
      "text/plain": [
       "[<selenium.webdriver.remote.webelement.WebElement (session=\"8b548bd0565464f157ba1bd460835878\", element=\"e47f88e2-6b49-4731-aa5d-c786877ca11e\")>,\n",
       " <selenium.webdriver.remote.webelement.WebElement (session=\"8b548bd0565464f157ba1bd460835878\", element=\"b6c04a0c-109d-43d8-a5a5-9fe998f03483\")>,\n",
       " <selenium.webdriver.remote.webelement.WebElement (session=\"8b548bd0565464f157ba1bd460835878\", element=\"9eb0701c-3e4a-4805-9007-549b08113cb2\")>,\n",
       " <selenium.webdriver.remote.webelement.WebElement (session=\"8b548bd0565464f157ba1bd460835878\", element=\"61675e2b-2459-4cba-851b-4b40f6edc120\")>,\n",
       " <selenium.webdriver.remote.webelement.WebElement (session=\"8b548bd0565464f157ba1bd460835878\", element=\"2ff5a2ef-b463-4b78-ab1d-48a732bc4c71\")>,\n",
       " <selenium.webdriver.remote.webelement.WebElement (session=\"8b548bd0565464f157ba1bd460835878\", element=\"903093d3-b388-4fef-b538-b32e683398e9\")>,\n",
       " <selenium.webdriver.remote.webelement.WebElement (session=\"8b548bd0565464f157ba1bd460835878\", element=\"6819a003-f108-4eb2-b626-3a7daa404d92\")>,\n",
       " <selenium.webdriver.remote.webelement.WebElement (session=\"8b548bd0565464f157ba1bd460835878\", element=\"be6293d8-da81-41aa-9645-2a334a0bb310\")>,\n",
       " <selenium.webdriver.remote.webelement.WebElement (session=\"8b548bd0565464f157ba1bd460835878\", element=\"7edcc8e5-5e41-4291-8630-23673ae25f27\")>,\n",
       " <selenium.webdriver.remote.webelement.WebElement (session=\"8b548bd0565464f157ba1bd460835878\", element=\"baec35f4-5724-4e5d-a226-1c18c8fafba4\")>,\n",
       " <selenium.webdriver.remote.webelement.WebElement (session=\"8b548bd0565464f157ba1bd460835878\", element=\"c42b2e1e-e94a-48e3-84c7-b3da35a320e7\")>,\n",
       " <selenium.webdriver.remote.webelement.WebElement (session=\"8b548bd0565464f157ba1bd460835878\", element=\"a2bbc103-0b2b-4ed3-a2d3-31908e651eac\")>,\n",
       " <selenium.webdriver.remote.webelement.WebElement (session=\"8b548bd0565464f157ba1bd460835878\", element=\"5e2fdd01-b470-44cf-9118-16d01c2ce1e1\")>,\n",
       " <selenium.webdriver.remote.webelement.WebElement (session=\"8b548bd0565464f157ba1bd460835878\", element=\"3b51c90e-d066-4395-a8c1-6f066c7c820b\")>,\n",
       " <selenium.webdriver.remote.webelement.WebElement (session=\"8b548bd0565464f157ba1bd460835878\", element=\"af2ba17c-57c2-4c10-b94f-8cab1b409a5f\")>,\n",
       " <selenium.webdriver.remote.webelement.WebElement (session=\"8b548bd0565464f157ba1bd460835878\", element=\"46a93ea0-01ee-4f3d-bdcf-78c25d624d89\")>,\n",
       " <selenium.webdriver.remote.webelement.WebElement (session=\"8b548bd0565464f157ba1bd460835878\", element=\"60fc37c8-3f04-4ddf-9ab5-8c5e8cdd95f8\")>,\n",
       " <selenium.webdriver.remote.webelement.WebElement (session=\"8b548bd0565464f157ba1bd460835878\", element=\"62ac32a6-0ffa-448f-896c-b3016f31aa61\")>,\n",
       " <selenium.webdriver.remote.webelement.WebElement (session=\"8b548bd0565464f157ba1bd460835878\", element=\"ecd99b73-3b10-4332-b128-30c359743349\")>,\n",
       " <selenium.webdriver.remote.webelement.WebElement (session=\"8b548bd0565464f157ba1bd460835878\", element=\"f6243ea4-2295-42bd-82cc-8e63600c8240\")>,\n",
       " <selenium.webdriver.remote.webelement.WebElement (session=\"8b548bd0565464f157ba1bd460835878\", element=\"0bc40df0-422d-43f6-b864-ab5eaae0f380\")>,\n",
       " <selenium.webdriver.remote.webelement.WebElement (session=\"8b548bd0565464f157ba1bd460835878\", element=\"09fcb26e-fdb3-4903-8d21-58c485ed0fcc\")>,\n",
       " <selenium.webdriver.remote.webelement.WebElement (session=\"8b548bd0565464f157ba1bd460835878\", element=\"c5fb870e-5d89-4538-a74a-c3cfafaedc2d\")>,\n",
       " <selenium.webdriver.remote.webelement.WebElement (session=\"8b548bd0565464f157ba1bd460835878\", element=\"149bfad0-7862-4536-adfa-81c3bd627e67\")>,\n",
       " <selenium.webdriver.remote.webelement.WebElement (session=\"8b548bd0565464f157ba1bd460835878\", element=\"d8942ee6-2084-4d16-9cdf-fb5e07b3da7a\")>,\n",
       " <selenium.webdriver.remote.webelement.WebElement (session=\"8b548bd0565464f157ba1bd460835878\", element=\"bc618df9-be4e-4a07-a5fd-8d0eb0130dfc\")>,\n",
       " <selenium.webdriver.remote.webelement.WebElement (session=\"8b548bd0565464f157ba1bd460835878\", element=\"af70fc9e-cc9e-492f-ae55-ae1c49851291\")>,\n",
       " <selenium.webdriver.remote.webelement.WebElement (session=\"8b548bd0565464f157ba1bd460835878\", element=\"351854ef-09fe-441c-8020-1b1d66f775f4\")>,\n",
       " <selenium.webdriver.remote.webelement.WebElement (session=\"8b548bd0565464f157ba1bd460835878\", element=\"d64df43d-4bad-4055-ac03-c72776e2630f\")>,\n",
       " <selenium.webdriver.remote.webelement.WebElement (session=\"8b548bd0565464f157ba1bd460835878\", element=\"cbdf94ed-fe27-4033-8ad5-6291e6405ed5\")>,\n",
       " <selenium.webdriver.remote.webelement.WebElement (session=\"8b548bd0565464f157ba1bd460835878\", element=\"44484db3-f117-45a7-9c26-6cdeddce352a\")>,\n",
       " <selenium.webdriver.remote.webelement.WebElement (session=\"8b548bd0565464f157ba1bd460835878\", element=\"5a1cd61c-8e28-4127-9486-bd0a88984b5a\")>,\n",
       " <selenium.webdriver.remote.webelement.WebElement (session=\"8b548bd0565464f157ba1bd460835878\", element=\"f326b551-d153-400b-8db6-6d93324a55c8\")>,\n",
       " <selenium.webdriver.remote.webelement.WebElement (session=\"8b548bd0565464f157ba1bd460835878\", element=\"0a3cee19-b633-41b5-a2aa-8ba14d9d4954\")>,\n",
       " <selenium.webdriver.remote.webelement.WebElement (session=\"8b548bd0565464f157ba1bd460835878\", element=\"9a50d68e-d5bd-4227-94c8-adaadd11f750\")>,\n",
       " <selenium.webdriver.remote.webelement.WebElement (session=\"8b548bd0565464f157ba1bd460835878\", element=\"8b80febc-18a3-4cf0-a7db-4cc2ebe96e81\")>,\n",
       " <selenium.webdriver.remote.webelement.WebElement (session=\"8b548bd0565464f157ba1bd460835878\", element=\"50891338-1a5c-42a3-b5ac-c12c377c279d\")>,\n",
       " <selenium.webdriver.remote.webelement.WebElement (session=\"8b548bd0565464f157ba1bd460835878\", element=\"0180bb31-8c85-42d3-a254-de131b303f7f\")>,\n",
       " <selenium.webdriver.remote.webelement.WebElement (session=\"8b548bd0565464f157ba1bd460835878\", element=\"cdc0daa5-8772-4300-801d-ca7fd6e43516\")>,\n",
       " <selenium.webdriver.remote.webelement.WebElement (session=\"8b548bd0565464f157ba1bd460835878\", element=\"74a4ce80-3a8e-4d18-8f2b-fa195e6700df\")>]"
      ]
     },
     "execution_count": 39,
     "metadata": {},
     "output_type": "execute_result"
    }
   ],
   "source": [
    "price = driver.find_elements_by_xpath('//div[@class=\"_30jeq3\"]')\n",
    "len(price)\n",
    "price[0:100]"
   ]
  },
  {
   "cell_type": "code",
   "execution_count": 40,
   "id": "37d7a95e",
   "metadata": {},
   "outputs": [
    {
     "data": {
      "text/plain": [
       "['₹449',\n",
       " '₹251',\n",
       " '₹247',\n",
       " '₹447',\n",
       " '₹242',\n",
       " '₹398',\n",
       " '₹898',\n",
       " '₹1,899',\n",
       " '₹398',\n",
       " '₹444',\n",
       " '₹296',\n",
       " '₹699',\n",
       " '₹680',\n",
       " '₹474',\n",
       " '₹499',\n",
       " '₹1,900',\n",
       " '₹499',\n",
       " '₹374',\n",
       " '₹499',\n",
       " '₹359',\n",
       " '₹777',\n",
       " '₹679',\n",
       " '₹1,379',\n",
       " '₹449',\n",
       " '₹259',\n",
       " '₹449',\n",
       " '₹189',\n",
       " '₹479',\n",
       " '₹331',\n",
       " '₹474',\n",
       " '₹407',\n",
       " '₹1,200',\n",
       " '₹444',\n",
       " '₹299',\n",
       " '₹451',\n",
       " '₹549',\n",
       " '₹535',\n",
       " '₹2,909',\n",
       " '₹449',\n",
       " '₹1,733']"
      ]
     },
     "execution_count": 40,
     "metadata": {},
     "output_type": "execute_result"
    }
   ],
   "source": [
    "prices =[]\n",
    "\n",
    "for i in price:\n",
    "    prices.append(i.text)\n",
    "prices[0:100]    "
   ]
  },
  {
   "cell_type": "code",
   "execution_count": null,
   "id": "389cb510",
   "metadata": {},
   "outputs": [],
   "source": []
  }
 ],
 "metadata": {
  "kernelspec": {
   "display_name": "Python 3",
   "language": "python",
   "name": "python3"
  },
  "language_info": {
   "codemirror_mode": {
    "name": "ipython",
    "version": 3
   },
   "file_extension": ".py",
   "mimetype": "text/x-python",
   "name": "python",
   "nbconvert_exporter": "python",
   "pygments_lexer": "ipython3",
   "version": "3.8.8"
  }
 },
 "nbformat": 4,
 "nbformat_minor": 5
}
