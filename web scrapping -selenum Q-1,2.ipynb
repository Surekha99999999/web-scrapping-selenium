{
 "cells": [
  {
   "cell_type": "code",
   "execution_count": 1,
   "id": "26fe12e7",
   "metadata": {},
   "outputs": [
    {
     "name": "stdout",
     "output_type": "stream",
     "text": [
      "Requirement already satisfied: selenium in c:\\programdata\\anaconda3\\lib\\site-packages (4.1.0)\n",
      "Requirement already satisfied: trio~=0.17 in c:\\programdata\\anaconda3\\lib\\site-packages (from selenium) (0.19.0)\n",
      "Requirement already satisfied: trio-websocket~=0.9 in c:\\programdata\\anaconda3\\lib\\site-packages (from selenium) (0.9.2)\n",
      "Requirement already satisfied: urllib3[secure]~=1.26 in c:\\programdata\\anaconda3\\lib\\site-packages (from selenium) (1.26.4)\n",
      "Requirement already satisfied: attrs>=19.2.0 in c:\\programdata\\anaconda3\\lib\\site-packages (from trio~=0.17->selenium) (20.3.0)\n",
      "Requirement already satisfied: sortedcontainers in c:\\programdata\\anaconda3\\lib\\site-packages (from trio~=0.17->selenium) (2.3.0)\n",
      "Requirement already satisfied: cffi>=1.14 in c:\\programdata\\anaconda3\\lib\\site-packages (from trio~=0.17->selenium) (1.14.5)\n",
      "Requirement already satisfied: outcome in c:\\programdata\\anaconda3\\lib\\site-packages (from trio~=0.17->selenium) (1.1.0)\n",
      "Requirement already satisfied: sniffio in c:\\programdata\\anaconda3\\lib\\site-packages (from trio~=0.17->selenium) (1.2.0)\n",
      "Requirement already satisfied: async-generator>=1.9 in c:\\programdata\\anaconda3\\lib\\site-packages (from trio~=0.17->selenium) (1.10)\n",
      "Requirement already satisfied: idna in c:\\programdata\\anaconda3\\lib\\site-packages (from trio~=0.17->selenium) (2.10)\n",
      "Requirement already satisfied: pycparser in c:\\programdata\\anaconda3\\lib\\site-packages (from cffi>=1.14->trio~=0.17->selenium) (2.20)\n",
      "Requirement already satisfied: wsproto>=0.14 in c:\\programdata\\anaconda3\\lib\\site-packages (from trio-websocket~=0.9->selenium) (1.0.0)\n",
      "Requirement already satisfied: pyOpenSSL>=0.14 in c:\\programdata\\anaconda3\\lib\\site-packages (from urllib3[secure]~=1.26->selenium) (20.0.1)\n",
      "Requirement already satisfied: certifi in c:\\programdata\\anaconda3\\lib\\site-packages (from urllib3[secure]~=1.26->selenium) (2020.12.5)\n",
      "Requirement already satisfied: cryptography>=1.3.4 in c:\\programdata\\anaconda3\\lib\\site-packages (from urllib3[secure]~=1.26->selenium) (3.4.7)\n",
      "Requirement already satisfied: six>=1.5.2 in c:\\programdata\\anaconda3\\lib\\site-packages (from pyOpenSSL>=0.14->urllib3[secure]~=1.26->selenium) (1.15.0)\n",
      "Requirement already satisfied: h11<1,>=0.9.0 in c:\\programdata\\anaconda3\\lib\\site-packages (from wsproto>=0.14->trio-websocket~=0.9->selenium) (0.12.0)\n"
     ]
    }
   ],
   "source": [
    "!pip install selenium"
   ]
  },
  {
   "cell_type": "code",
   "execution_count": 2,
   "id": "9c4446a3",
   "metadata": {},
   "outputs": [],
   "source": [
    "import selenium\n",
    "from selenium import webdriver\n",
    "import pandas as pd \n",
    "import warnings\n",
    "warnings.filterwarnings(\"ignore\")"
   ]
  },
  {
   "cell_type": "code",
   "execution_count": 18,
   "id": "27791ecf",
   "metadata": {},
   "outputs": [],
   "source": [
    "driver = webdriver.Chrome(r'C:\\Users\\PC\\Downloads\\chromedriver_win32\\chromedriver.exe')"
   ]
  },
  {
   "cell_type": "code",
   "execution_count": 19,
   "id": "abb46a98",
   "metadata": {},
   "outputs": [],
   "source": [
    "url ='https://www.naukri.com/'\n",
    "driver.get(url)"
   ]
  },
  {
   "cell_type": "code",
   "execution_count": 20,
   "id": "78eab853",
   "metadata": {},
   "outputs": [
    {
     "data": {
      "text/plain": [
       "<selenium.webdriver.remote.webelement.WebElement (session=\"b0e8f94e74706cf6c9edd1cea149595d\", element=\"ce65934a-8dde-4575-89f3-180cc6661a6f\")>"
      ]
     },
     "execution_count": 20,
     "metadata": {},
     "output_type": "execute_result"
    }
   ],
   "source": [
    "search_job = driver.find_element_by_class_name(\"suggestor-input\")\n",
    "search_job"
   ]
  },
  {
   "cell_type": "code",
   "execution_count": 21,
   "id": "b8dfc80a",
   "metadata": {},
   "outputs": [],
   "source": [
    "search_job.send_keys(\"Data Analyst\")"
   ]
  },
  {
   "cell_type": "code",
   "execution_count": 22,
   "id": "bbab72f9",
   "metadata": {
    "scrolled": true
   },
   "outputs": [
    {
     "data": {
      "text/plain": [
       "<selenium.webdriver.remote.webelement.WebElement (session=\"b0e8f94e74706cf6c9edd1cea149595d\", element=\"26ed954b-c5f3-484b-89cc-33be836e96f4\")>"
      ]
     },
     "execution_count": 22,
     "metadata": {},
     "output_type": "execute_result"
    }
   ],
   "source": [
    "search_locn = driver.find_element_by_xpath('/html/body/div/div[2]/div[3]/div/div/div[3]/div/div/div/input')\n",
    "search_locn"
   ]
  },
  {
   "cell_type": "code",
   "execution_count": 23,
   "id": "246a5e45",
   "metadata": {},
   "outputs": [],
   "source": [
    "search_locn.send_keys(\"Bangalore\")"
   ]
  },
  {
   "cell_type": "code",
   "execution_count": 24,
   "id": "5f10d689",
   "metadata": {},
   "outputs": [
    {
     "data": {
      "text/plain": [
       "<selenium.webdriver.remote.webelement.WebElement (session=\"b0e8f94e74706cf6c9edd1cea149595d\", element=\"68855566-e489-456f-9213-bdbf49b36d65\")>"
      ]
     },
     "execution_count": 24,
     "metadata": {},
     "output_type": "execute_result"
    }
   ],
   "source": [
    "search_btn = driver.find_element_by_xpath('/html/body/div/div[2]/div[3]/div/div/div[6]')\n",
    "search_btn"
   ]
  },
  {
   "cell_type": "code",
   "execution_count": 25,
   "id": "5b587802",
   "metadata": {},
   "outputs": [],
   "source": [
    "search_btn.click()"
   ]
  },
  {
   "cell_type": "code",
   "execution_count": 15,
   "id": "3e146e06",
   "metadata": {},
   "outputs": [
    {
     "data": {
      "text/plain": [
       "[<selenium.webdriver.remote.webelement.WebElement (session=\"130756dfd03360d5c6180ebc7fef3c04\", element=\"8069d7cd-37c6-4f0d-9a69-7e9820b99f53\")>,\n",
       " <selenium.webdriver.remote.webelement.WebElement (session=\"130756dfd03360d5c6180ebc7fef3c04\", element=\"134a1f73-3743-4847-8906-1d31755dcb80\")>,\n",
       " <selenium.webdriver.remote.webelement.WebElement (session=\"130756dfd03360d5c6180ebc7fef3c04\", element=\"9ff86a05-c8f7-4ae7-88b9-707f9c3989ab\")>,\n",
       " <selenium.webdriver.remote.webelement.WebElement (session=\"130756dfd03360d5c6180ebc7fef3c04\", element=\"03b88c4a-d9eb-46f7-868a-f5c5369250a4\")>,\n",
       " <selenium.webdriver.remote.webelement.WebElement (session=\"130756dfd03360d5c6180ebc7fef3c04\", element=\"3cabcda0-ea3d-4488-84cc-baf971cef228\")>,\n",
       " <selenium.webdriver.remote.webelement.WebElement (session=\"130756dfd03360d5c6180ebc7fef3c04\", element=\"dcc5ed62-1947-413e-a62c-773f9ddec854\")>,\n",
       " <selenium.webdriver.remote.webelement.WebElement (session=\"130756dfd03360d5c6180ebc7fef3c04\", element=\"e71f5602-97d0-45f4-80b2-2dbfaf7f4c8d\")>,\n",
       " <selenium.webdriver.remote.webelement.WebElement (session=\"130756dfd03360d5c6180ebc7fef3c04\", element=\"c20cde03-e6dd-4548-9876-268fd41482a4\")>,\n",
       " <selenium.webdriver.remote.webelement.WebElement (session=\"130756dfd03360d5c6180ebc7fef3c04\", element=\"2a0bfbc3-4f35-4222-abb5-542260a1f38d\")>,\n",
       " <selenium.webdriver.remote.webelement.WebElement (session=\"130756dfd03360d5c6180ebc7fef3c04\", element=\"f8aedf25-7dc2-44a5-ad97-8f2a4904b3ad\")>]"
      ]
     },
     "execution_count": 15,
     "metadata": {},
     "output_type": "execute_result"
    }
   ],
   "source": [
    "title_tags = driver.find_elements_by_xpath('//a[@class=\"title fw500 ellipsis\"]')\n",
    "len(title_tags)\n",
    "title_tags[0:10]"
   ]
  },
  {
   "cell_type": "code",
   "execution_count": 16,
   "id": "91d72c80",
   "metadata": {},
   "outputs": [
    {
     "data": {
      "text/plain": [
       "['Senior Data Analyst - Supporting Audits',\n",
       " 'Senior Data Analyst',\n",
       " 'Financial Data Analyst',\n",
       " 'Tcs Hiring For Data Analyst / Engineers',\n",
       " 'Data Analyst',\n",
       " 'Business Data Analyst - Database Design/Mining',\n",
       " 'Financial Data Analyst',\n",
       " 'Senior Data Analyst',\n",
       " 'Senior Data Analyst',\n",
       " 'Senior Data Analyst']"
      ]
     },
     "execution_count": 16,
     "metadata": {},
     "output_type": "execute_result"
    }
   ],
   "source": [
    "job_titles = []\n",
    "\n",
    "for i in title_tags:\n",
    "    job_titles.append(i.text)\n",
    "job_titles[0:10]  "
   ]
  },
  {
   "cell_type": "code",
   "execution_count": 17,
   "id": "331684e3",
   "metadata": {},
   "outputs": [
    {
     "data": {
      "text/plain": [
       "[<selenium.webdriver.remote.webelement.WebElement (session=\"130756dfd03360d5c6180ebc7fef3c04\", element=\"e07de5f9-44fa-426f-aca0-d74904f4adcb\")>,\n",
       " <selenium.webdriver.remote.webelement.WebElement (session=\"130756dfd03360d5c6180ebc7fef3c04\", element=\"ff656b9c-6403-4b0b-85ee-9066f19b7854\")>,\n",
       " <selenium.webdriver.remote.webelement.WebElement (session=\"130756dfd03360d5c6180ebc7fef3c04\", element=\"de20fc58-e2ed-43ec-bd3d-bb906b2bdfe9\")>,\n",
       " <selenium.webdriver.remote.webelement.WebElement (session=\"130756dfd03360d5c6180ebc7fef3c04\", element=\"5e3836f8-f46b-490f-be8b-08f3100f6198\")>,\n",
       " <selenium.webdriver.remote.webelement.WebElement (session=\"130756dfd03360d5c6180ebc7fef3c04\", element=\"27d348df-8457-4331-99ec-6c37b5d535ed\")>,\n",
       " <selenium.webdriver.remote.webelement.WebElement (session=\"130756dfd03360d5c6180ebc7fef3c04\", element=\"0db210af-1174-49d6-8958-1d88f1b6c3e8\")>,\n",
       " <selenium.webdriver.remote.webelement.WebElement (session=\"130756dfd03360d5c6180ebc7fef3c04\", element=\"924f8dd3-189c-4d4b-8233-3283143ae872\")>,\n",
       " <selenium.webdriver.remote.webelement.WebElement (session=\"130756dfd03360d5c6180ebc7fef3c04\", element=\"e06972fd-653a-4103-9ce0-b1e07fc7d455\")>,\n",
       " <selenium.webdriver.remote.webelement.WebElement (session=\"130756dfd03360d5c6180ebc7fef3c04\", element=\"b5909b3b-f2ff-4216-b801-cf0ea60cd357\")>,\n",
       " <selenium.webdriver.remote.webelement.WebElement (session=\"130756dfd03360d5c6180ebc7fef3c04\", element=\"d4f52c07-44da-47c0-b3c5-edd562f47fa6\")>]"
      ]
     },
     "execution_count": 17,
     "metadata": {},
     "output_type": "execute_result"
    }
   ],
   "source": [
    "comp_name = driver.find_elements_by_xpath('//a[@class=\"subTitle ellipsis fleft\"]')\n",
    "len(comp_name)\n",
    "comp_name[0:10]"
   ]
  },
  {
   "cell_type": "code",
   "execution_count": 18,
   "id": "852ae5fe",
   "metadata": {},
   "outputs": [
    {
     "data": {
      "text/plain": [
       "['Visa',\n",
       " 'Schneider Electric',\n",
       " \"Moody's\",\n",
       " 'Tata Consultancy Services Ltd.',\n",
       " 'WEIWO Communication Pvt. Ltd.',\n",
       " 'AugmatrixGo',\n",
       " \"Moody's\",\n",
       " 'NIUM',\n",
       " 'Spectraforce Technologies',\n",
       " 'Flipkart']"
      ]
     },
     "execution_count": 18,
     "metadata": {},
     "output_type": "execute_result"
    }
   ],
   "source": [
    "comp_names = []\n",
    "\n",
    "for i in comp_name:\n",
    "    comp_names.append(i.text)\n",
    "comp_names[0:10]    "
   ]
  },
  {
   "cell_type": "code",
   "execution_count": 30,
   "id": "1c2c00ce",
   "metadata": {},
   "outputs": [
    {
     "data": {
      "text/plain": [
       "[<selenium.webdriver.remote.webelement.WebElement (session=\"130756dfd03360d5c6180ebc7fef3c04\", element=\"f342d93a-c9d9-4636-98c7-70ac35220c8c\")>,\n",
       " <selenium.webdriver.remote.webelement.WebElement (session=\"130756dfd03360d5c6180ebc7fef3c04\", element=\"771c4142-e685-47da-a837-35ab3aec2196\")>,\n",
       " <selenium.webdriver.remote.webelement.WebElement (session=\"130756dfd03360d5c6180ebc7fef3c04\", element=\"d799ae1e-c9f6-4c5e-9b74-4433eaa3e860\")>,\n",
       " <selenium.webdriver.remote.webelement.WebElement (session=\"130756dfd03360d5c6180ebc7fef3c04\", element=\"61e493dd-54fc-4d0b-819c-f163daa43509\")>,\n",
       " <selenium.webdriver.remote.webelement.WebElement (session=\"130756dfd03360d5c6180ebc7fef3c04\", element=\"b06b4a54-a640-456c-8172-025635c638bb\")>,\n",
       " <selenium.webdriver.remote.webelement.WebElement (session=\"130756dfd03360d5c6180ebc7fef3c04\", element=\"72cb541a-2bce-419b-a68e-d6e90d095d43\")>,\n",
       " <selenium.webdriver.remote.webelement.WebElement (session=\"130756dfd03360d5c6180ebc7fef3c04\", element=\"99262305-40bb-412a-ba1c-9d2a10ec3f8f\")>,\n",
       " <selenium.webdriver.remote.webelement.WebElement (session=\"130756dfd03360d5c6180ebc7fef3c04\", element=\"1e5ec5a9-50b8-4175-8603-38d5616deb5d\")>,\n",
       " <selenium.webdriver.remote.webelement.WebElement (session=\"130756dfd03360d5c6180ebc7fef3c04\", element=\"f0f135ad-0d5f-459e-8504-c9280f355f9b\")>,\n",
       " <selenium.webdriver.remote.webelement.WebElement (session=\"130756dfd03360d5c6180ebc7fef3c04\", element=\"60087bb8-1f0c-45bf-862b-13d4520f1628\")>]"
      ]
     },
     "execution_count": 30,
     "metadata": {},
     "output_type": "execute_result"
    }
   ],
   "source": [
    "location = driver.find_elements_by_xpath('//li[@class=\"fleft grey-text br2 placeHolderLi location\"]/span')\n",
    "len(location)\n",
    "location[0:10]"
   ]
  },
  {
   "cell_type": "code",
   "execution_count": 31,
   "id": "a429d0fc",
   "metadata": {},
   "outputs": [
    {
     "data": {
      "text/plain": [
       "['Bangalore/Bengaluru',\n",
       " 'Bangalore/Bengaluru',\n",
       " 'Bangalore/Bengaluru',\n",
       " 'Pune, Bangalore/Bengaluru, Delhi / NCR',\n",
       " 'Bangalore/Bengaluru(Ulsoor)',\n",
       " 'Bangalore/Bengaluru',\n",
       " 'Bangalore/Bengaluru',\n",
       " 'Bangalore/Bengaluru',\n",
       " 'Bangalore/Bengaluru',\n",
       " 'Bengaluru/Bangalore']"
      ]
     },
     "execution_count": 31,
     "metadata": {},
     "output_type": "execute_result"
    }
   ],
   "source": [
    "locations =[]\n",
    "\n",
    "for i in location:\n",
    "    locations.append(i.text)\n",
    "locations[0:10]    \n",
    "    "
   ]
  },
  {
   "cell_type": "code",
   "execution_count": 32,
   "id": "d07636a2",
   "metadata": {},
   "outputs": [
    {
     "data": {
      "text/plain": [
       "[<selenium.webdriver.remote.webelement.WebElement (session=\"130756dfd03360d5c6180ebc7fef3c04\", element=\"6072fe5d-871c-45d8-ba34-9d94f0c656c0\")>,\n",
       " <selenium.webdriver.remote.webelement.WebElement (session=\"130756dfd03360d5c6180ebc7fef3c04\", element=\"c95a37e6-a9d1-49cc-a8f5-ffa85f43c1c3\")>,\n",
       " <selenium.webdriver.remote.webelement.WebElement (session=\"130756dfd03360d5c6180ebc7fef3c04\", element=\"24adeccd-a1f1-415e-a26e-3cd0b8d9c565\")>,\n",
       " <selenium.webdriver.remote.webelement.WebElement (session=\"130756dfd03360d5c6180ebc7fef3c04\", element=\"3fa83e3d-5b68-4e17-97de-e5a83c76417d\")>,\n",
       " <selenium.webdriver.remote.webelement.WebElement (session=\"130756dfd03360d5c6180ebc7fef3c04\", element=\"d585ccad-4996-4c18-85b3-e9a788cce8dc\")>,\n",
       " <selenium.webdriver.remote.webelement.WebElement (session=\"130756dfd03360d5c6180ebc7fef3c04\", element=\"60eaf9af-65f5-4747-bac1-dfb08acba316\")>,\n",
       " <selenium.webdriver.remote.webelement.WebElement (session=\"130756dfd03360d5c6180ebc7fef3c04\", element=\"012c9810-3bb0-43ce-8838-db1270f026f5\")>,\n",
       " <selenium.webdriver.remote.webelement.WebElement (session=\"130756dfd03360d5c6180ebc7fef3c04\", element=\"d7320d50-e934-40a8-a28f-1e1d7e174bc1\")>,\n",
       " <selenium.webdriver.remote.webelement.WebElement (session=\"130756dfd03360d5c6180ebc7fef3c04\", element=\"834f8b08-1b34-4233-98cb-cdcfae11a23b\")>,\n",
       " <selenium.webdriver.remote.webelement.WebElement (session=\"130756dfd03360d5c6180ebc7fef3c04\", element=\"8595ad01-6ca2-4f73-9cb5-d7f0a9b099f5\")>]"
      ]
     },
     "execution_count": 32,
     "metadata": {},
     "output_type": "execute_result"
    }
   ],
   "source": [
    "experience = driver.find_elements_by_xpath('//li[@class=\"fleft grey-text br2 placeHolderLi experience\"]')\n",
    "len(experience)\n",
    "experience[0:10]"
   ]
  },
  {
   "cell_type": "code",
   "execution_count": 33,
   "id": "3fcf4e1c",
   "metadata": {},
   "outputs": [
    {
     "data": {
      "text/plain": [
       "['5-8 Yrs',\n",
       " '0-2 Yrs',\n",
       " '0-2 Yrs',\n",
       " '4-9 Yrs',\n",
       " '2-7 Yrs',\n",
       " '2-5 Yrs',\n",
       " '0-2 Yrs',\n",
       " '2-5 Yrs',\n",
       " '5-10 Yrs',\n",
       " '2-3 Yrs']"
      ]
     },
     "execution_count": 33,
     "metadata": {},
     "output_type": "execute_result"
    }
   ],
   "source": [
    "experiences =[]\n",
    "\n",
    "for i in experience:\n",
    "    experiences.append(i.text)\n",
    "experiences[0:10]    "
   ]
  },
  {
   "cell_type": "code",
   "execution_count": 37,
   "id": "20290ce5",
   "metadata": {},
   "outputs": [
    {
     "data": {
      "text/html": [
       "<div>\n",
       "<style scoped>\n",
       "    .dataframe tbody tr th:only-of-type {\n",
       "        vertical-align: middle;\n",
       "    }\n",
       "\n",
       "    .dataframe tbody tr th {\n",
       "        vertical-align: top;\n",
       "    }\n",
       "\n",
       "    .dataframe thead th {\n",
       "        text-align: right;\n",
       "    }\n",
       "</style>\n",
       "<table border=\"1\" class=\"dataframe\">\n",
       "  <thead>\n",
       "    <tr style=\"text-align: right;\">\n",
       "      <th></th>\n",
       "      <th>Job Title</th>\n",
       "      <th>Company</th>\n",
       "      <th>Experience</th>\n",
       "      <th>Location</th>\n",
       "    </tr>\n",
       "  </thead>\n",
       "  <tbody>\n",
       "    <tr>\n",
       "      <th>0</th>\n",
       "      <td>Senior Data Analyst - Supporting Audits</td>\n",
       "      <td>Visa</td>\n",
       "      <td>5-8 Yrs</td>\n",
       "      <td>Bangalore/Bengaluru</td>\n",
       "    </tr>\n",
       "    <tr>\n",
       "      <th>1</th>\n",
       "      <td>Senior Data Analyst</td>\n",
       "      <td>Schneider Electric</td>\n",
       "      <td>0-2 Yrs</td>\n",
       "      <td>Bangalore/Bengaluru</td>\n",
       "    </tr>\n",
       "    <tr>\n",
       "      <th>2</th>\n",
       "      <td>Financial Data Analyst</td>\n",
       "      <td>Moody's</td>\n",
       "      <td>0-2 Yrs</td>\n",
       "      <td>Bangalore/Bengaluru</td>\n",
       "    </tr>\n",
       "    <tr>\n",
       "      <th>3</th>\n",
       "      <td>Tcs Hiring For Data Analyst / Engineers</td>\n",
       "      <td>Tata Consultancy Services Ltd.</td>\n",
       "      <td>4-9 Yrs</td>\n",
       "      <td>Pune, Bangalore/Bengaluru, Delhi / NCR</td>\n",
       "    </tr>\n",
       "    <tr>\n",
       "      <th>4</th>\n",
       "      <td>Data Analyst</td>\n",
       "      <td>WEIWO Communication Pvt. Ltd.</td>\n",
       "      <td>2-7 Yrs</td>\n",
       "      <td>Bangalore/Bengaluru(Ulsoor)</td>\n",
       "    </tr>\n",
       "    <tr>\n",
       "      <th>5</th>\n",
       "      <td>Business Data Analyst - Database Design/Mining</td>\n",
       "      <td>AugmatrixGo</td>\n",
       "      <td>2-5 Yrs</td>\n",
       "      <td>Bangalore/Bengaluru</td>\n",
       "    </tr>\n",
       "    <tr>\n",
       "      <th>6</th>\n",
       "      <td>Financial Data Analyst</td>\n",
       "      <td>Moody's</td>\n",
       "      <td>0-2 Yrs</td>\n",
       "      <td>Bangalore/Bengaluru</td>\n",
       "    </tr>\n",
       "    <tr>\n",
       "      <th>7</th>\n",
       "      <td>Senior Data Analyst</td>\n",
       "      <td>NIUM</td>\n",
       "      <td>2-5 Yrs</td>\n",
       "      <td>Bangalore/Bengaluru</td>\n",
       "    </tr>\n",
       "    <tr>\n",
       "      <th>8</th>\n",
       "      <td>Senior Data Analyst</td>\n",
       "      <td>Spectraforce Technologies</td>\n",
       "      <td>5-10 Yrs</td>\n",
       "      <td>Bangalore/Bengaluru</td>\n",
       "    </tr>\n",
       "    <tr>\n",
       "      <th>9</th>\n",
       "      <td>Senior Data Analyst</td>\n",
       "      <td>Flipkart</td>\n",
       "      <td>2-3 Yrs</td>\n",
       "      <td>Bengaluru/Bangalore</td>\n",
       "    </tr>\n",
       "  </tbody>\n",
       "</table>\n",
       "</div>"
      ],
      "text/plain": [
       "                                        Job Title  \\\n",
       "0         Senior Data Analyst - Supporting Audits   \n",
       "1                             Senior Data Analyst   \n",
       "2                          Financial Data Analyst   \n",
       "3         Tcs Hiring For Data Analyst / Engineers   \n",
       "4                                    Data Analyst   \n",
       "5  Business Data Analyst - Database Design/Mining   \n",
       "6                          Financial Data Analyst   \n",
       "7                             Senior Data Analyst   \n",
       "8                             Senior Data Analyst   \n",
       "9                             Senior Data Analyst   \n",
       "\n",
       "                          Company Experience  \\\n",
       "0                            Visa    5-8 Yrs   \n",
       "1              Schneider Electric    0-2 Yrs   \n",
       "2                         Moody's    0-2 Yrs   \n",
       "3  Tata Consultancy Services Ltd.    4-9 Yrs   \n",
       "4   WEIWO Communication Pvt. Ltd.    2-7 Yrs   \n",
       "5                     AugmatrixGo    2-5 Yrs   \n",
       "6                         Moody's    0-2 Yrs   \n",
       "7                            NIUM    2-5 Yrs   \n",
       "8       Spectraforce Technologies   5-10 Yrs   \n",
       "9                        Flipkart    2-3 Yrs   \n",
       "\n",
       "                                 Location  \n",
       "0                     Bangalore/Bengaluru  \n",
       "1                     Bangalore/Bengaluru  \n",
       "2                     Bangalore/Bengaluru  \n",
       "3  Pune, Bangalore/Bengaluru, Delhi / NCR  \n",
       "4             Bangalore/Bengaluru(Ulsoor)  \n",
       "5                     Bangalore/Bengaluru  \n",
       "6                     Bangalore/Bengaluru  \n",
       "7                     Bangalore/Bengaluru  \n",
       "8                     Bangalore/Bengaluru  \n",
       "9                     Bengaluru/Bangalore  "
      ]
     },
     "execution_count": 37,
     "metadata": {},
     "output_type": "execute_result"
    }
   ],
   "source": [
    "jobs = pd.DataFrame()\n",
    "jobs['Job Title']=job_titles\n",
    "jobs['Company']=comp_names\n",
    "jobs['Experience']=experiences\n",
    "jobs['Location']=locations\n",
    "jobs[0:10]"
   ]
  },
  {
   "cell_type": "code",
   "execution_count": 38,
   "id": "dd4863b0",
   "metadata": {},
   "outputs": [],
   "source": [
    "driver = webdriver.Chrome(r'C:\\Users\\PC\\Downloads\\chromedriver_win32\\chromedriver.exe')"
   ]
  },
  {
   "cell_type": "code",
   "execution_count": 39,
   "id": "69500898",
   "metadata": {},
   "outputs": [],
   "source": [
    "url ='https://www.naukri.com/'\n",
    "driver.get(url)"
   ]
  },
  {
   "cell_type": "code",
   "execution_count": 40,
   "id": "ed2b9f4e",
   "metadata": {},
   "outputs": [
    {
     "data": {
      "text/plain": [
       "<selenium.webdriver.remote.webelement.WebElement (session=\"d7016b45df2a71d245feccde69f6b22f\", element=\"6b88331d-b18c-45aa-b302-ce0145cde97d\")>"
      ]
     },
     "execution_count": 40,
     "metadata": {},
     "output_type": "execute_result"
    }
   ],
   "source": [
    "search_job = driver.find_element_by_id(\"qsb-keyword-sugg\")\n",
    "search_job"
   ]
  },
  {
   "cell_type": "code",
   "execution_count": 41,
   "id": "3e564049",
   "metadata": {},
   "outputs": [],
   "source": [
    "search_job.send_keys(\"Data Scientist\")"
   ]
  },
  {
   "cell_type": "code",
   "execution_count": 42,
   "id": "69f35736",
   "metadata": {},
   "outputs": [
    {
     "data": {
      "text/plain": [
       "<selenium.webdriver.remote.webelement.WebElement (session=\"d7016b45df2a71d245feccde69f6b22f\", element=\"b9cea3cc-d817-4ac3-95e9-a195f2702f40\")>"
      ]
     },
     "execution_count": 42,
     "metadata": {},
     "output_type": "execute_result"
    }
   ],
   "source": [
    "search_locn = driver.find_element_by_xpath('/html/body/div[1]/div[3]/div[2]/section/div/form/div[2]/div/div/div/div[1]/div[2]/input')\n",
    "search_locn"
   ]
  },
  {
   "cell_type": "code",
   "execution_count": 43,
   "id": "f2862316",
   "metadata": {},
   "outputs": [],
   "source": [
    "search_locn.send_keys(\"Bangalore\")"
   ]
  },
  {
   "cell_type": "code",
   "execution_count": 44,
   "id": "d4001fc8",
   "metadata": {},
   "outputs": [
    {
     "data": {
      "text/plain": [
       "<selenium.webdriver.remote.webelement.WebElement (session=\"d7016b45df2a71d245feccde69f6b22f\", element=\"a3edbb98-3431-4544-87d7-ef958cfd8985\")>"
      ]
     },
     "execution_count": 44,
     "metadata": {},
     "output_type": "execute_result"
    }
   ],
   "source": [
    "search_btn = driver.find_element_by_xpath('/html/body/div[1]/div[3]/div[2]/section/div/form/div[3]/button')\n",
    "search_btn"
   ]
  },
  {
   "cell_type": "code",
   "execution_count": 45,
   "id": "afd58890",
   "metadata": {},
   "outputs": [],
   "source": [
    "search_btn.click()"
   ]
  },
  {
   "cell_type": "code",
   "execution_count": 46,
   "id": "2819acf8",
   "metadata": {},
   "outputs": [
    {
     "data": {
      "text/plain": [
       "[<selenium.webdriver.remote.webelement.WebElement (session=\"d7016b45df2a71d245feccde69f6b22f\", element=\"21d08cf6-72fd-423a-8f85-b16b667d2d0e\")>,\n",
       " <selenium.webdriver.remote.webelement.WebElement (session=\"d7016b45df2a71d245feccde69f6b22f\", element=\"8ae94189-b19e-43cf-ae74-fb96dc42700f\")>,\n",
       " <selenium.webdriver.remote.webelement.WebElement (session=\"d7016b45df2a71d245feccde69f6b22f\", element=\"91f950a5-c15b-491a-a1c0-ad88c1ca9fb1\")>,\n",
       " <selenium.webdriver.remote.webelement.WebElement (session=\"d7016b45df2a71d245feccde69f6b22f\", element=\"ccab533e-c0f7-4b2e-a81d-8c9b185c805f\")>,\n",
       " <selenium.webdriver.remote.webelement.WebElement (session=\"d7016b45df2a71d245feccde69f6b22f\", element=\"a43c728e-7112-4723-839b-5417f54ffc90\")>,\n",
       " <selenium.webdriver.remote.webelement.WebElement (session=\"d7016b45df2a71d245feccde69f6b22f\", element=\"73c3a2e5-79dc-4a9b-aa45-a5bb13367740\")>,\n",
       " <selenium.webdriver.remote.webelement.WebElement (session=\"d7016b45df2a71d245feccde69f6b22f\", element=\"5c7ac4ef-d003-4684-941d-5c18948138b1\")>,\n",
       " <selenium.webdriver.remote.webelement.WebElement (session=\"d7016b45df2a71d245feccde69f6b22f\", element=\"cb63c63d-489c-4f31-893c-b75441ef1774\")>,\n",
       " <selenium.webdriver.remote.webelement.WebElement (session=\"d7016b45df2a71d245feccde69f6b22f\", element=\"80c23d5f-79fd-489a-97b3-e283473efb84\")>,\n",
       " <selenium.webdriver.remote.webelement.WebElement (session=\"d7016b45df2a71d245feccde69f6b22f\", element=\"c43d136d-7c25-4eec-9cdd-9d73590e5517\")>]"
      ]
     },
     "execution_count": 46,
     "metadata": {},
     "output_type": "execute_result"
    }
   ],
   "source": [
    "title_tags = driver.find_elements_by_xpath('//a[@class=\"title fw500 ellipsis\"]')\n",
    "len(title_tags)\n",
    "title_tags[0:10]"
   ]
  },
  {
   "cell_type": "code",
   "execution_count": 48,
   "id": "2dfc0d05",
   "metadata": {},
   "outputs": [
    {
     "data": {
      "text/plain": [
       "['Global Tax Automation & Operations | Data Scientist Senior Analyst',\n",
       " 'Lead Data Scientist',\n",
       " 'Data Scientist I',\n",
       " 'Openings For Jr/mid/Sr level data Scientists',\n",
       " 'Sr Applied Data Scientist',\n",
       " 'Senior Risk Data Scientist',\n",
       " 'Data Scientist hiring (Immediate Joiner)',\n",
       " 'Principal Data Scientist',\n",
       " 'Data Scientist',\n",
       " 'Data Scientist']"
      ]
     },
     "execution_count": 48,
     "metadata": {},
     "output_type": "execute_result"
    }
   ],
   "source": [
    "job_titles = []\n",
    "\n",
    "for i in title_tags:\n",
    "    job_titles.append(i.text)\n",
    "job_titles[0:10]  "
   ]
  },
  {
   "cell_type": "code",
   "execution_count": 49,
   "id": "d7017dbc",
   "metadata": {},
   "outputs": [
    {
     "data": {
      "text/plain": [
       "[<selenium.webdriver.remote.webelement.WebElement (session=\"d7016b45df2a71d245feccde69f6b22f\", element=\"997476fc-b5f4-47b2-bca0-4cec514d8eb1\")>,\n",
       " <selenium.webdriver.remote.webelement.WebElement (session=\"d7016b45df2a71d245feccde69f6b22f\", element=\"cf62c6bb-a67f-4f4c-8bc5-282ec8cdfbec\")>,\n",
       " <selenium.webdriver.remote.webelement.WebElement (session=\"d7016b45df2a71d245feccde69f6b22f\", element=\"882d17e3-7dfc-4e29-a5aa-d4e430484660\")>,\n",
       " <selenium.webdriver.remote.webelement.WebElement (session=\"d7016b45df2a71d245feccde69f6b22f\", element=\"a0b4b3f2-f381-4841-8b44-809b1a26c2cf\")>,\n",
       " <selenium.webdriver.remote.webelement.WebElement (session=\"d7016b45df2a71d245feccde69f6b22f\", element=\"901e2f8f-bd28-425d-9b6a-95ac0d1bc36d\")>,\n",
       " <selenium.webdriver.remote.webelement.WebElement (session=\"d7016b45df2a71d245feccde69f6b22f\", element=\"54e7ffa4-f637-477e-ba14-4afb561f8e05\")>,\n",
       " <selenium.webdriver.remote.webelement.WebElement (session=\"d7016b45df2a71d245feccde69f6b22f\", element=\"4a76feb2-4c1a-44e0-962c-8165ce57125f\")>,\n",
       " <selenium.webdriver.remote.webelement.WebElement (session=\"d7016b45df2a71d245feccde69f6b22f\", element=\"af0c690a-f55f-4b1d-9cc3-d9b03abafb32\")>,\n",
       " <selenium.webdriver.remote.webelement.WebElement (session=\"d7016b45df2a71d245feccde69f6b22f\", element=\"2a43cc8a-246f-46ee-b916-d7ef3cf8a2f1\")>,\n",
       " <selenium.webdriver.remote.webelement.WebElement (session=\"d7016b45df2a71d245feccde69f6b22f\", element=\"576eba87-a70a-4d4c-9e7b-3205856ebd3f\")>]"
      ]
     },
     "execution_count": 49,
     "metadata": {},
     "output_type": "execute_result"
    }
   ],
   "source": [
    "comp_name = driver.find_elements_by_xpath('//a[@class=\"subTitle ellipsis fleft\"]')\n",
    "len(comp_name)\n",
    "comp_name[0:10]"
   ]
  },
  {
   "cell_type": "code",
   "execution_count": 50,
   "id": "fc7e6765",
   "metadata": {},
   "outputs": [
    {
     "data": {
      "text/plain": [
       "['Dell International Services India Private Limited',\n",
       " 'First American Corporation',\n",
       " 'Delhivery',\n",
       " 'Pluto seven business solutions (p) limited',\n",
       " 'Tesco Bengaluru',\n",
       " 'GSK India',\n",
       " 'ATG BUSINESS SOLUTIONS PRIVATE LIMITED',\n",
       " 'Narayana Heath',\n",
       " 'Qualfon Advanced Technology Center LLP',\n",
       " 'ELPIS IT SOLUTIONS PVT LTD']"
      ]
     },
     "execution_count": 50,
     "metadata": {},
     "output_type": "execute_result"
    }
   ],
   "source": [
    "comp_names = []\n",
    "\n",
    "for i in comp_name:\n",
    "    comp_names.append(i.text)\n",
    "comp_names[0:10]    "
   ]
  },
  {
   "cell_type": "code",
   "execution_count": 51,
   "id": "c352a6f4",
   "metadata": {},
   "outputs": [
    {
     "data": {
      "text/plain": [
       "[<selenium.webdriver.remote.webelement.WebElement (session=\"d7016b45df2a71d245feccde69f6b22f\", element=\"363c6feb-6fcf-4529-9213-db6383f0e14b\")>,\n",
       " <selenium.webdriver.remote.webelement.WebElement (session=\"d7016b45df2a71d245feccde69f6b22f\", element=\"9dda9bb3-ce90-4f0c-b248-4ed0ecb50749\")>,\n",
       " <selenium.webdriver.remote.webelement.WebElement (session=\"d7016b45df2a71d245feccde69f6b22f\", element=\"e50c24a9-f634-4954-8b97-eb3ce5af0fd9\")>,\n",
       " <selenium.webdriver.remote.webelement.WebElement (session=\"d7016b45df2a71d245feccde69f6b22f\", element=\"26eb5d40-55bd-4460-96e3-835fca8a3fd8\")>,\n",
       " <selenium.webdriver.remote.webelement.WebElement (session=\"d7016b45df2a71d245feccde69f6b22f\", element=\"3a1c8f15-eaf5-433b-80a7-a723e8b8295b\")>,\n",
       " <selenium.webdriver.remote.webelement.WebElement (session=\"d7016b45df2a71d245feccde69f6b22f\", element=\"73619c73-4245-4e11-9e20-fc5ba9ccde8d\")>,\n",
       " <selenium.webdriver.remote.webelement.WebElement (session=\"d7016b45df2a71d245feccde69f6b22f\", element=\"f3d9b5a9-dcd4-46c8-b6f1-31dcc70ebe8b\")>,\n",
       " <selenium.webdriver.remote.webelement.WebElement (session=\"d7016b45df2a71d245feccde69f6b22f\", element=\"aa2cd3f8-e5c8-4add-bf8f-7a1e20db9091\")>,\n",
       " <selenium.webdriver.remote.webelement.WebElement (session=\"d7016b45df2a71d245feccde69f6b22f\", element=\"820c738d-4f46-4ae7-9d8f-3765ef8e9cc5\")>,\n",
       " <selenium.webdriver.remote.webelement.WebElement (session=\"d7016b45df2a71d245feccde69f6b22f\", element=\"3dfe4257-b6d6-4926-9d5f-cc86325e1583\")>]"
      ]
     },
     "execution_count": 51,
     "metadata": {},
     "output_type": "execute_result"
    }
   ],
   "source": [
    "location = driver.find_elements_by_xpath('//li[@class=\"fleft grey-text br2 placeHolderLi location\"]/span')\n",
    "len(location)\n",
    "location[0:10]"
   ]
  },
  {
   "cell_type": "code",
   "execution_count": 61,
   "id": "62316480",
   "metadata": {},
   "outputs": [
    {
     "data": {
      "text/plain": [
       "['Bangalore/Bengaluru',\n",
       " 'Bangalore/Bengaluru',\n",
       " 'Bangalore/Bengaluru',\n",
       " 'Kolkata, Hyderabad/Secunderabad, Pune, Ahmedabad, Chennai, Bangalore/Bengaluru, Delhi / NCR, Mumbai (All Areas)',\n",
       " '(WFH during Covid)',\n",
       " 'Bangalore/Bengaluru',\n",
       " 'Bangalore/Bengaluru',\n",
       " 'Hyderabad/Secunderabad, Bangalore/Bengaluru',\n",
       " 'Bangalore/Bengaluru',\n",
       " 'Mumbai, Bangalore/Bengaluru, Delhi / NCR']"
      ]
     },
     "execution_count": 61,
     "metadata": {},
     "output_type": "execute_result"
    }
   ],
   "source": [
    "locations =[]\n",
    "\n",
    "for i in location:\n",
    "    locations.append(i.text)\n",
    "locations[0:10]    \n",
    "    "
   ]
  },
  {
   "cell_type": "code",
   "execution_count": 53,
   "id": "a74e23d6",
   "metadata": {},
   "outputs": [
    {
     "data": {
      "text/plain": [
       "[<selenium.webdriver.remote.webelement.WebElement (session=\"d7016b45df2a71d245feccde69f6b22f\", element=\"74423d0f-e46a-4ea0-9f53-f29fbb935ddd\")>,\n",
       " <selenium.webdriver.remote.webelement.WebElement (session=\"d7016b45df2a71d245feccde69f6b22f\", element=\"2deefdc5-0b3d-4e8b-821d-14b2d99f9e66\")>,\n",
       " <selenium.webdriver.remote.webelement.WebElement (session=\"d7016b45df2a71d245feccde69f6b22f\", element=\"314fa740-55d7-4689-8d4c-356a576c6224\")>,\n",
       " <selenium.webdriver.remote.webelement.WebElement (session=\"d7016b45df2a71d245feccde69f6b22f\", element=\"f80107b6-0499-468d-b529-136036c1973f\")>,\n",
       " <selenium.webdriver.remote.webelement.WebElement (session=\"d7016b45df2a71d245feccde69f6b22f\", element=\"d4afa208-a712-457b-87a2-c9cb5eb063ce\")>,\n",
       " <selenium.webdriver.remote.webelement.WebElement (session=\"d7016b45df2a71d245feccde69f6b22f\", element=\"ca749aa2-a1c9-49b6-b72d-2917c5707cfa\")>,\n",
       " <selenium.webdriver.remote.webelement.WebElement (session=\"d7016b45df2a71d245feccde69f6b22f\", element=\"1d279c35-d8d8-4364-a6bc-09ed22cbc554\")>,\n",
       " <selenium.webdriver.remote.webelement.WebElement (session=\"d7016b45df2a71d245feccde69f6b22f\", element=\"5888450b-8e90-4a9b-9062-121248c7aa12\")>,\n",
       " <selenium.webdriver.remote.webelement.WebElement (session=\"d7016b45df2a71d245feccde69f6b22f\", element=\"a4f17908-1fa0-4d16-ae68-304d4549a33e\")>,\n",
       " <selenium.webdriver.remote.webelement.WebElement (session=\"d7016b45df2a71d245feccde69f6b22f\", element=\"c14f2746-9502-47f9-8be9-4b0f0bd46caf\")>]"
      ]
     },
     "execution_count": 53,
     "metadata": {},
     "output_type": "execute_result"
    }
   ],
   "source": [
    "experience = driver.find_elements_by_xpath('//li[@class=\"fleft grey-text br2 placeHolderLi experience\"]')\n",
    "len(experience)\n",
    "experience[0:10]"
   ]
  },
  {
   "cell_type": "code",
   "execution_count": 54,
   "id": "f7810d01",
   "metadata": {},
   "outputs": [
    {
     "data": {
      "text/plain": [
       "['3-5 Yrs',\n",
       " '9-14 Yrs',\n",
       " '2-5 Yrs',\n",
       " '2-6 Yrs',\n",
       " '2-4 Yrs',\n",
       " '4-9 Yrs',\n",
       " '3-7 Yrs',\n",
       " '6-9 Yrs',\n",
       " '6-10 Yrs',\n",
       " '5-7 Yrs']"
      ]
     },
     "execution_count": 54,
     "metadata": {},
     "output_type": "execute_result"
    }
   ],
   "source": [
    "experiences =[]\n",
    "\n",
    "for i in experience:\n",
    "    experiences.append(i.text)\n",
    "experiences[0:10]    "
   ]
  },
  {
   "cell_type": "code",
   "execution_count": 60,
   "id": "0d425ec7",
   "metadata": {},
   "outputs": [
    {
     "ename": "ValueError",
     "evalue": "Length of values (23) does not match length of index (20)",
     "output_type": "error",
     "traceback": [
      "\u001b[1;31m---------------------------------------------------------------------------\u001b[0m",
      "\u001b[1;31mValueError\u001b[0m                                Traceback (most recent call last)",
      "\u001b[1;32m<ipython-input-60-a0a544f431d7>\u001b[0m in \u001b[0;36m<module>\u001b[1;34m\u001b[0m\n\u001b[0;32m      2\u001b[0m \u001b[0mjobs\u001b[0m\u001b[1;33m[\u001b[0m\u001b[1;34m'Job Title'\u001b[0m\u001b[1;33m]\u001b[0m\u001b[1;33m=\u001b[0m\u001b[0mjob_titles\u001b[0m\u001b[1;33m\u001b[0m\u001b[1;33m\u001b[0m\u001b[0m\n\u001b[0;32m      3\u001b[0m \u001b[0mjobs\u001b[0m\u001b[1;33m[\u001b[0m\u001b[1;34m'Company'\u001b[0m\u001b[1;33m]\u001b[0m\u001b[1;33m=\u001b[0m\u001b[0mcomp_names\u001b[0m\u001b[1;33m\u001b[0m\u001b[1;33m\u001b[0m\u001b[0m\n\u001b[1;32m----> 4\u001b[1;33m \u001b[0mjobs\u001b[0m\u001b[1;33m[\u001b[0m\u001b[1;34m'Location'\u001b[0m\u001b[1;33m]\u001b[0m\u001b[1;33m=\u001b[0m\u001b[0mlocations\u001b[0m\u001b[1;33m\u001b[0m\u001b[1;33m\u001b[0m\u001b[0m\n\u001b[0m\u001b[0;32m      5\u001b[0m \u001b[0mjobs\u001b[0m\u001b[1;33m[\u001b[0m\u001b[1;34m'Experience'\u001b[0m\u001b[1;33m]\u001b[0m\u001b[1;33m=\u001b[0m\u001b[0mexperiences\u001b[0m\u001b[1;33m\u001b[0m\u001b[1;33m\u001b[0m\u001b[0m\n\u001b[0;32m      6\u001b[0m \u001b[0mjobs\u001b[0m\u001b[1;33m\u001b[0m\u001b[1;33m\u001b[0m\u001b[0m\n",
      "\u001b[1;32mC:\\ProgramData\\Anaconda3\\lib\\site-packages\\pandas\\core\\frame.py\u001b[0m in \u001b[0;36m__setitem__\u001b[1;34m(self, key, value)\u001b[0m\n\u001b[0;32m   3161\u001b[0m         \u001b[1;32melse\u001b[0m\u001b[1;33m:\u001b[0m\u001b[1;33m\u001b[0m\u001b[1;33m\u001b[0m\u001b[0m\n\u001b[0;32m   3162\u001b[0m             \u001b[1;31m# set column\u001b[0m\u001b[1;33m\u001b[0m\u001b[1;33m\u001b[0m\u001b[1;33m\u001b[0m\u001b[0m\n\u001b[1;32m-> 3163\u001b[1;33m             \u001b[0mself\u001b[0m\u001b[1;33m.\u001b[0m\u001b[0m_set_item\u001b[0m\u001b[1;33m(\u001b[0m\u001b[0mkey\u001b[0m\u001b[1;33m,\u001b[0m \u001b[0mvalue\u001b[0m\u001b[1;33m)\u001b[0m\u001b[1;33m\u001b[0m\u001b[1;33m\u001b[0m\u001b[0m\n\u001b[0m\u001b[0;32m   3164\u001b[0m \u001b[1;33m\u001b[0m\u001b[0m\n\u001b[0;32m   3165\u001b[0m     \u001b[1;32mdef\u001b[0m \u001b[0m_setitem_slice\u001b[0m\u001b[1;33m(\u001b[0m\u001b[0mself\u001b[0m\u001b[1;33m,\u001b[0m \u001b[0mkey\u001b[0m\u001b[1;33m:\u001b[0m \u001b[0mslice\u001b[0m\u001b[1;33m,\u001b[0m \u001b[0mvalue\u001b[0m\u001b[1;33m)\u001b[0m\u001b[1;33m:\u001b[0m\u001b[1;33m\u001b[0m\u001b[1;33m\u001b[0m\u001b[0m\n",
      "\u001b[1;32mC:\\ProgramData\\Anaconda3\\lib\\site-packages\\pandas\\core\\frame.py\u001b[0m in \u001b[0;36m_set_item\u001b[1;34m(self, key, value)\u001b[0m\n\u001b[0;32m   3240\u001b[0m         \"\"\"\n\u001b[0;32m   3241\u001b[0m         \u001b[0mself\u001b[0m\u001b[1;33m.\u001b[0m\u001b[0m_ensure_valid_index\u001b[0m\u001b[1;33m(\u001b[0m\u001b[0mvalue\u001b[0m\u001b[1;33m)\u001b[0m\u001b[1;33m\u001b[0m\u001b[1;33m\u001b[0m\u001b[0m\n\u001b[1;32m-> 3242\u001b[1;33m         \u001b[0mvalue\u001b[0m \u001b[1;33m=\u001b[0m \u001b[0mself\u001b[0m\u001b[1;33m.\u001b[0m\u001b[0m_sanitize_column\u001b[0m\u001b[1;33m(\u001b[0m\u001b[0mkey\u001b[0m\u001b[1;33m,\u001b[0m \u001b[0mvalue\u001b[0m\u001b[1;33m)\u001b[0m\u001b[1;33m\u001b[0m\u001b[1;33m\u001b[0m\u001b[0m\n\u001b[0m\u001b[0;32m   3243\u001b[0m         \u001b[0mNDFrame\u001b[0m\u001b[1;33m.\u001b[0m\u001b[0m_set_item\u001b[0m\u001b[1;33m(\u001b[0m\u001b[0mself\u001b[0m\u001b[1;33m,\u001b[0m \u001b[0mkey\u001b[0m\u001b[1;33m,\u001b[0m \u001b[0mvalue\u001b[0m\u001b[1;33m)\u001b[0m\u001b[1;33m\u001b[0m\u001b[1;33m\u001b[0m\u001b[0m\n\u001b[0;32m   3244\u001b[0m \u001b[1;33m\u001b[0m\u001b[0m\n",
      "\u001b[1;32mC:\\ProgramData\\Anaconda3\\lib\\site-packages\\pandas\\core\\frame.py\u001b[0m in \u001b[0;36m_sanitize_column\u001b[1;34m(self, key, value, broadcast)\u001b[0m\n\u001b[0;32m   3897\u001b[0m \u001b[1;33m\u001b[0m\u001b[0m\n\u001b[0;32m   3898\u001b[0m             \u001b[1;31m# turn me into an ndarray\u001b[0m\u001b[1;33m\u001b[0m\u001b[1;33m\u001b[0m\u001b[1;33m\u001b[0m\u001b[0m\n\u001b[1;32m-> 3899\u001b[1;33m             \u001b[0mvalue\u001b[0m \u001b[1;33m=\u001b[0m \u001b[0msanitize_index\u001b[0m\u001b[1;33m(\u001b[0m\u001b[0mvalue\u001b[0m\u001b[1;33m,\u001b[0m \u001b[0mself\u001b[0m\u001b[1;33m.\u001b[0m\u001b[0mindex\u001b[0m\u001b[1;33m)\u001b[0m\u001b[1;33m\u001b[0m\u001b[1;33m\u001b[0m\u001b[0m\n\u001b[0m\u001b[0;32m   3900\u001b[0m             \u001b[1;32mif\u001b[0m \u001b[1;32mnot\u001b[0m \u001b[0misinstance\u001b[0m\u001b[1;33m(\u001b[0m\u001b[0mvalue\u001b[0m\u001b[1;33m,\u001b[0m \u001b[1;33m(\u001b[0m\u001b[0mnp\u001b[0m\u001b[1;33m.\u001b[0m\u001b[0mndarray\u001b[0m\u001b[1;33m,\u001b[0m \u001b[0mIndex\u001b[0m\u001b[1;33m)\u001b[0m\u001b[1;33m)\u001b[0m\u001b[1;33m:\u001b[0m\u001b[1;33m\u001b[0m\u001b[1;33m\u001b[0m\u001b[0m\n\u001b[0;32m   3901\u001b[0m                 \u001b[1;32mif\u001b[0m \u001b[0misinstance\u001b[0m\u001b[1;33m(\u001b[0m\u001b[0mvalue\u001b[0m\u001b[1;33m,\u001b[0m \u001b[0mlist\u001b[0m\u001b[1;33m)\u001b[0m \u001b[1;32mand\u001b[0m \u001b[0mlen\u001b[0m\u001b[1;33m(\u001b[0m\u001b[0mvalue\u001b[0m\u001b[1;33m)\u001b[0m \u001b[1;33m>\u001b[0m \u001b[1;36m0\u001b[0m\u001b[1;33m:\u001b[0m\u001b[1;33m\u001b[0m\u001b[1;33m\u001b[0m\u001b[0m\n",
      "\u001b[1;32mC:\\ProgramData\\Anaconda3\\lib\\site-packages\\pandas\\core\\internals\\construction.py\u001b[0m in \u001b[0;36msanitize_index\u001b[1;34m(data, index)\u001b[0m\n\u001b[0;32m    749\u001b[0m     \"\"\"\n\u001b[0;32m    750\u001b[0m     \u001b[1;32mif\u001b[0m \u001b[0mlen\u001b[0m\u001b[1;33m(\u001b[0m\u001b[0mdata\u001b[0m\u001b[1;33m)\u001b[0m \u001b[1;33m!=\u001b[0m \u001b[0mlen\u001b[0m\u001b[1;33m(\u001b[0m\u001b[0mindex\u001b[0m\u001b[1;33m)\u001b[0m\u001b[1;33m:\u001b[0m\u001b[1;33m\u001b[0m\u001b[1;33m\u001b[0m\u001b[0m\n\u001b[1;32m--> 751\u001b[1;33m         raise ValueError(\n\u001b[0m\u001b[0;32m    752\u001b[0m             \u001b[1;34m\"Length of values \"\u001b[0m\u001b[1;33m\u001b[0m\u001b[1;33m\u001b[0m\u001b[0m\n\u001b[0;32m    753\u001b[0m             \u001b[1;34mf\"({len(data)}) \"\u001b[0m\u001b[1;33m\u001b[0m\u001b[1;33m\u001b[0m\u001b[0m\n",
      "\u001b[1;31mValueError\u001b[0m: Length of values (23) does not match length of index (20)"
     ]
    }
   ],
   "source": [
    "jobs = pd.DataFrame()\n",
    "jobs['Job Title']=job_titles\n",
    "jobs['Company']=comp_names\n",
    "jobs['Location']=locations\n",
    "jobs['Experience']=experiences\n",
    "jobs"
   ]
  },
  {
   "cell_type": "code",
   "execution_count": null,
   "id": "602f40a5",
   "metadata": {},
   "outputs": [],
   "source": []
  }
 ],
 "metadata": {
  "kernelspec": {
   "display_name": "Python 3",
   "language": "python",
   "name": "python3"
  },
  "language_info": {
   "codemirror_mode": {
    "name": "ipython",
    "version": 3
   },
   "file_extension": ".py",
   "mimetype": "text/x-python",
   "name": "python",
   "nbconvert_exporter": "python",
   "pygments_lexer": "ipython3",
   "version": "3.8.8"
  }
 },
 "nbformat": 4,
 "nbformat_minor": 5
}
