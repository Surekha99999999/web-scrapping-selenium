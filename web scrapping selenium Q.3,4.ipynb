{
 "cells": [
  {
   "cell_type": "code",
   "execution_count": 2,
   "id": "54de09bb",
   "metadata": {},
   "outputs": [
    {
     "name": "stdout",
     "output_type": "stream",
     "text": [
      "Requirement already satisfied: selenium in c:\\programdata\\anaconda3\\lib\\site-packages (4.1.0)\n",
      "Requirement already satisfied: trio-websocket~=0.9 in c:\\programdata\\anaconda3\\lib\\site-packages (from selenium) (0.9.2)\n",
      "Requirement already satisfied: urllib3[secure]~=1.26 in c:\\programdata\\anaconda3\\lib\\site-packages (from selenium) (1.26.4)\n",
      "Requirement already satisfied: trio~=0.17 in c:\\programdata\\anaconda3\\lib\\site-packages (from selenium) (0.19.0)\n",
      "Requirement already satisfied: attrs>=19.2.0 in c:\\programdata\\anaconda3\\lib\\site-packages (from trio~=0.17->selenium) (20.3.0)\n",
      "Requirement already satisfied: idna in c:\\programdata\\anaconda3\\lib\\site-packages (from trio~=0.17->selenium) (2.10)\n",
      "Requirement already satisfied: outcome in c:\\programdata\\anaconda3\\lib\\site-packages (from trio~=0.17->selenium) (1.1.0)\n",
      "Requirement already satisfied: sortedcontainers in c:\\programdata\\anaconda3\\lib\\site-packages (from trio~=0.17->selenium) (2.3.0)\n",
      "Requirement already satisfied: cffi>=1.14 in c:\\programdata\\anaconda3\\lib\\site-packages (from trio~=0.17->selenium) (1.14.5)\n",
      "Requirement already satisfied: async-generator>=1.9 in c:\\programdata\\anaconda3\\lib\\site-packages (from trio~=0.17->selenium) (1.10)\n",
      "Requirement already satisfied: sniffio in c:\\programdata\\anaconda3\\lib\\site-packages (from trio~=0.17->selenium) (1.2.0)\n",
      "Requirement already satisfied: pycparser in c:\\programdata\\anaconda3\\lib\\site-packages (from cffi>=1.14->trio~=0.17->selenium) (2.20)\n",
      "Requirement already satisfied: wsproto>=0.14 in c:\\programdata\\anaconda3\\lib\\site-packages (from trio-websocket~=0.9->selenium) (1.0.0)\n",
      "Requirement already satisfied: certifi in c:\\programdata\\anaconda3\\lib\\site-packages (from urllib3[secure]~=1.26->selenium) (2020.12.5)\n",
      "Requirement already satisfied: cryptography>=1.3.4 in c:\\programdata\\anaconda3\\lib\\site-packages (from urllib3[secure]~=1.26->selenium) (3.4.7)\n",
      "Requirement already satisfied: pyOpenSSL>=0.14 in c:\\programdata\\anaconda3\\lib\\site-packages (from urllib3[secure]~=1.26->selenium) (20.0.1)\n",
      "Requirement already satisfied: six>=1.5.2 in c:\\programdata\\anaconda3\\lib\\site-packages (from pyOpenSSL>=0.14->urllib3[secure]~=1.26->selenium) (1.15.0)\n",
      "Requirement already satisfied: h11<1,>=0.9.0 in c:\\programdata\\anaconda3\\lib\\site-packages (from wsproto>=0.14->trio-websocket~=0.9->selenium) (0.12.0)\n"
     ]
    }
   ],
   "source": [
    "!pip install selenium"
   ]
  },
  {
   "cell_type": "code",
   "execution_count": 3,
   "id": "f8a8f47c",
   "metadata": {},
   "outputs": [],
   "source": [
    "import selenium\n",
    "from selenium import webdriver\n",
    "import pandas as pd \n",
    "import warnings\n",
    "warnings.filterwarnings(\"ignore\")"
   ]
  },
  {
   "cell_type": "code",
   "execution_count": 23,
   "id": "d85ac33c",
   "metadata": {},
   "outputs": [],
   "source": [
    "driver = webdriver.Chrome(r'C:\\Users\\PC\\Downloads\\chromedriver_win32\\chromedriver.exe')"
   ]
  },
  {
   "cell_type": "code",
   "execution_count": 24,
   "id": "dec757d6",
   "metadata": {},
   "outputs": [],
   "source": [
    "url ='https://www.naukri.com/'\n",
    "driver.get(url)"
   ]
  },
  {
   "cell_type": "code",
   "execution_count": 5,
   "id": "ea0df595",
   "metadata": {},
   "outputs": [
    {
     "data": {
      "text/plain": [
       "<selenium.webdriver.remote.webelement.WebElement (session=\"1d011bfb30e3b8c230362f36c54f86a0\", element=\"ac340975-f5c2-4998-9757-b335db11f205\")>"
      ]
     },
     "execution_count": 5,
     "metadata": {},
     "output_type": "execute_result"
    }
   ],
   "source": [
    "search_job = driver.find_element_by_id(\"qsb-keyword-sugg\")\n",
    "search_job"
   ]
  },
  {
   "cell_type": "code",
   "execution_count": 6,
   "id": "1836fed0",
   "metadata": {},
   "outputs": [],
   "source": [
    "search_job.send_keys(\"Data Scientist\")"
   ]
  },
  {
   "cell_type": "code",
   "execution_count": 7,
   "id": "44c6a7c2",
   "metadata": {},
   "outputs": [
    {
     "data": {
      "text/plain": [
       "<selenium.webdriver.remote.webelement.WebElement (session=\"1d011bfb30e3b8c230362f36c54f86a0\", element=\"1f04754e-6e56-4563-b262-abe1bbb636af\")>"
      ]
     },
     "execution_count": 7,
     "metadata": {},
     "output_type": "execute_result"
    }
   ],
   "source": [
    "search_locn = driver.find_element_by_xpath('/html/body/div[1]/div[3]/div[2]/section/div/form/div[2]/div/div/div/div[1]/div[2]/input')\n",
    "search_locn"
   ]
  },
  {
   "cell_type": "code",
   "execution_count": 8,
   "id": "9a945da2",
   "metadata": {},
   "outputs": [],
   "source": [
    "search_locn.send_keys(\"Delhi/NCR\")"
   ]
  },
  {
   "cell_type": "code",
   "execution_count": 9,
   "id": "32fbdab0",
   "metadata": {},
   "outputs": [
    {
     "data": {
      "text/plain": [
       "<selenium.webdriver.remote.webelement.WebElement (session=\"1d011bfb30e3b8c230362f36c54f86a0\", element=\"14792a26-0eba-4e9e-ac36-d4965b1e8892\")>"
      ]
     },
     "execution_count": 9,
     "metadata": {},
     "output_type": "execute_result"
    }
   ],
   "source": [
    "search_btn = driver.find_element_by_xpath('/html/body/div[1]/div[3]/div[2]/section/div/form/div[3]/button')\n",
    "search_btn"
   ]
  },
  {
   "cell_type": "code",
   "execution_count": 10,
   "id": "5899cd77",
   "metadata": {},
   "outputs": [],
   "source": [
    "search_btn.click()"
   ]
  },
  {
   "cell_type": "code",
   "execution_count": 13,
   "id": "f08ee796",
   "metadata": {},
   "outputs": [],
   "source": [
    "salery_check = driver.find_element_by_xpath('/html/body/div[1]/div[3]/div[2]/section[1]/div[2]/div[2]/div[2]/div[1]/label/p/span[1]')"
   ]
  },
  {
   "cell_type": "code",
   "execution_count": 14,
   "id": "65c01375",
   "metadata": {},
   "outputs": [],
   "source": [
    "salery_check.click()"
   ]
  },
  {
   "cell_type": "code",
   "execution_count": 11,
   "id": "3e309f87",
   "metadata": {},
   "outputs": [
    {
     "data": {
      "text/plain": [
       "[<selenium.webdriver.remote.webelement.WebElement (session=\"1d011bfb30e3b8c230362f36c54f86a0\", element=\"34920388-710e-4200-abc4-aba242cb2864\")>,\n",
       " <selenium.webdriver.remote.webelement.WebElement (session=\"1d011bfb30e3b8c230362f36c54f86a0\", element=\"de350bee-e630-48e6-89a8-38723cac6b7c\")>,\n",
       " <selenium.webdriver.remote.webelement.WebElement (session=\"1d011bfb30e3b8c230362f36c54f86a0\", element=\"1e1f8132-412d-46f9-a252-3791a1ced71b\")>,\n",
       " <selenium.webdriver.remote.webelement.WebElement (session=\"1d011bfb30e3b8c230362f36c54f86a0\", element=\"b7e64f48-e103-4886-bcb0-0018d1545cb7\")>,\n",
       " <selenium.webdriver.remote.webelement.WebElement (session=\"1d011bfb30e3b8c230362f36c54f86a0\", element=\"de7ce688-022f-4f2a-952c-4c9d0fd20899\")>,\n",
       " <selenium.webdriver.remote.webelement.WebElement (session=\"1d011bfb30e3b8c230362f36c54f86a0\", element=\"2762e81f-4c41-4a31-bb50-cd861a552137\")>,\n",
       " <selenium.webdriver.remote.webelement.WebElement (session=\"1d011bfb30e3b8c230362f36c54f86a0\", element=\"f94b2e7c-b9f4-4028-b4bd-35ad8ff5e054\")>,\n",
       " <selenium.webdriver.remote.webelement.WebElement (session=\"1d011bfb30e3b8c230362f36c54f86a0\", element=\"d926bfec-388a-4519-9db5-4981b94643e6\")>,\n",
       " <selenium.webdriver.remote.webelement.WebElement (session=\"1d011bfb30e3b8c230362f36c54f86a0\", element=\"f71eb28f-bb04-4fa0-aba1-b2f5023ff251\")>,\n",
       " <selenium.webdriver.remote.webelement.WebElement (session=\"1d011bfb30e3b8c230362f36c54f86a0\", element=\"c657f956-5caa-4b90-afbe-8367199113c6\")>]"
      ]
     },
     "execution_count": 11,
     "metadata": {},
     "output_type": "execute_result"
    }
   ],
   "source": [
    "title_tags = driver.find_elements_by_xpath('//a[@class=\"title fw500 ellipsis\"]')\n",
    "len(title_tags)\n",
    "title_tags[0:10]"
   ]
  },
  {
   "cell_type": "code",
   "execution_count": 12,
   "id": "56728276",
   "metadata": {},
   "outputs": [
    {
     "data": {
      "text/plain": [
       "['Senior Data Scientist I',\n",
       " 'Senior Data Scientist I',\n",
       " 'Openings For Jr/mid/Sr level data Scientists',\n",
       " 'ML Engineer/Data Scientist',\n",
       " 'Data Scientist',\n",
       " 'Urgent Hiring For Data Scientist',\n",
       " 'Urgent Hiring For Data Scientist',\n",
       " 'Data Scientist',\n",
       " 'Data Scientist I\\\\/II\\\\/III',\n",
       " 'Assistant Manager - Data Scientist - Insurance']"
      ]
     },
     "execution_count": 12,
     "metadata": {},
     "output_type": "execute_result"
    }
   ],
   "source": [
    "job_titles = []\n",
    "\n",
    "for i in title_tags:\n",
    "    job_titles.append(i.text)\n",
    "job_titles[0:10]  "
   ]
  },
  {
   "cell_type": "code",
   "execution_count": 15,
   "id": "01fcedb9",
   "metadata": {},
   "outputs": [
    {
     "data": {
      "text/plain": [
       "[<selenium.webdriver.remote.webelement.WebElement (session=\"1d011bfb30e3b8c230362f36c54f86a0\", element=\"4e67294c-ee77-4969-bece-01e4c28cf9a1\")>,\n",
       " <selenium.webdriver.remote.webelement.WebElement (session=\"1d011bfb30e3b8c230362f36c54f86a0\", element=\"5d5fcaf4-d0f6-4991-a49c-4538f81da193\")>,\n",
       " <selenium.webdriver.remote.webelement.WebElement (session=\"1d011bfb30e3b8c230362f36c54f86a0\", element=\"08bbb84e-64c5-468d-a0a5-4752fa6ac148\")>,\n",
       " <selenium.webdriver.remote.webelement.WebElement (session=\"1d011bfb30e3b8c230362f36c54f86a0\", element=\"3ba56291-a07b-463c-9c85-06fc6fef33ea\")>,\n",
       " <selenium.webdriver.remote.webelement.WebElement (session=\"1d011bfb30e3b8c230362f36c54f86a0\", element=\"9c275840-028b-44b1-8e64-81bd87eee8f2\")>,\n",
       " <selenium.webdriver.remote.webelement.WebElement (session=\"1d011bfb30e3b8c230362f36c54f86a0\", element=\"f60fff15-e921-4b64-93f1-3c83389623aa\")>,\n",
       " <selenium.webdriver.remote.webelement.WebElement (session=\"1d011bfb30e3b8c230362f36c54f86a0\", element=\"584c084f-abc5-4787-b054-a4458db516f8\")>,\n",
       " <selenium.webdriver.remote.webelement.WebElement (session=\"1d011bfb30e3b8c230362f36c54f86a0\", element=\"dc6b0953-edd9-403e-b8ce-e6826c07aab5\")>,\n",
       " <selenium.webdriver.remote.webelement.WebElement (session=\"1d011bfb30e3b8c230362f36c54f86a0\", element=\"87f22caa-6ccc-4c55-b8a9-d132cabae778\")>,\n",
       " <selenium.webdriver.remote.webelement.WebElement (session=\"1d011bfb30e3b8c230362f36c54f86a0\", element=\"c5a8bfd6-cff5-4987-ad4e-3581a45bb3b1\")>]"
      ]
     },
     "execution_count": 15,
     "metadata": {},
     "output_type": "execute_result"
    }
   ],
   "source": [
    "comp_name = driver.find_elements_by_xpath('//a[@class=\"subTitle ellipsis fleft\"]')\n",
    "len(comp_name)\n",
    "comp_name[0:10]"
   ]
  },
  {
   "cell_type": "code",
   "execution_count": 16,
   "id": "273e3077",
   "metadata": {},
   "outputs": [
    {
     "data": {
      "text/plain": [
       "['Delhivery',\n",
       " 'Delhivery',\n",
       " 'Pluto seven business solutions (p) limited',\n",
       " 'Rapid Talent Solutions',\n",
       " 'Qualfon Advanced Technology Center LLP',\n",
       " 'Mount Talent Consulting Private Limited',\n",
       " 'Mount Talent Consulting Private Limited',\n",
       " 'DigilyticsAI',\n",
       " 'ExecBoardinAsia',\n",
       " 'Huquo Consulting Pvt. Ltd']"
      ]
     },
     "execution_count": 16,
     "metadata": {},
     "output_type": "execute_result"
    }
   ],
   "source": [
    "comp_names = []\n",
    "\n",
    "for i in comp_name:\n",
    "    comp_names.append(i.text)\n",
    "comp_names[0:10]    "
   ]
  },
  {
   "cell_type": "code",
   "execution_count": 17,
   "id": "70c8418a",
   "metadata": {},
   "outputs": [
    {
     "data": {
      "text/plain": [
       "[<selenium.webdriver.remote.webelement.WebElement (session=\"1d011bfb30e3b8c230362f36c54f86a0\", element=\"fd27f06c-6cd2-41bb-8131-efbc8bea8acc\")>,\n",
       " <selenium.webdriver.remote.webelement.WebElement (session=\"1d011bfb30e3b8c230362f36c54f86a0\", element=\"e4990b1c-5169-4cbb-9ca2-1892a8755cfc\")>,\n",
       " <selenium.webdriver.remote.webelement.WebElement (session=\"1d011bfb30e3b8c230362f36c54f86a0\", element=\"f7d1b60a-4969-464b-b9a5-9d544fea2482\")>,\n",
       " <selenium.webdriver.remote.webelement.WebElement (session=\"1d011bfb30e3b8c230362f36c54f86a0\", element=\"3fb9a48d-34be-43c7-8a04-33ed6d6340d9\")>,\n",
       " <selenium.webdriver.remote.webelement.WebElement (session=\"1d011bfb30e3b8c230362f36c54f86a0\", element=\"6dc553be-4985-48b1-8118-4a131515f98d\")>,\n",
       " <selenium.webdriver.remote.webelement.WebElement (session=\"1d011bfb30e3b8c230362f36c54f86a0\", element=\"ded13175-ca48-4518-b904-9460f4790473\")>,\n",
       " <selenium.webdriver.remote.webelement.WebElement (session=\"1d011bfb30e3b8c230362f36c54f86a0\", element=\"9a344904-3e98-4994-ada7-0a814f95a77e\")>,\n",
       " <selenium.webdriver.remote.webelement.WebElement (session=\"1d011bfb30e3b8c230362f36c54f86a0\", element=\"18569b91-7c86-40de-8ace-2bde9f3ca205\")>,\n",
       " <selenium.webdriver.remote.webelement.WebElement (session=\"1d011bfb30e3b8c230362f36c54f86a0\", element=\"b86acba2-2024-4695-9765-ce62e0272c24\")>,\n",
       " <selenium.webdriver.remote.webelement.WebElement (session=\"1d011bfb30e3b8c230362f36c54f86a0\", element=\"8138af3d-532c-408a-93f1-0c836d25976f\")>]"
      ]
     },
     "execution_count": 17,
     "metadata": {},
     "output_type": "execute_result"
    }
   ],
   "source": [
    "location = driver.find_elements_by_xpath('//li[@class=\"fleft grey-text br2 placeHolderLi location\"]/span')\n",
    "len(location)\n",
    "location[0:10]"
   ]
  },
  {
   "cell_type": "code",
   "execution_count": 18,
   "id": "781346c0",
   "metadata": {},
   "outputs": [
    {
     "data": {
      "text/plain": [
       "['Gurgaon/Gurugram',\n",
       " 'Gurgaon/Gurugram',\n",
       " 'Kolkata, Hyderabad/Secunderabad, Pune, Ahmedabad, Chennai, Bangalore/Bengaluru, Delhi / NCR, Mumbai (All Areas)',\n",
       " '(WFH during Covid)',\n",
       " 'Kolkata, Mumbai, Visakhapatnam, Hyderabad/Secunderabad, Pune, Chennai, Ahmedabad, Delhi / NCR, Bangalore/Bengaluru',\n",
       " '(WFH during Covid)',\n",
       " 'Mumbai, Bangalore/Bengaluru, Delhi / NCR',\n",
       " 'Gurgaon/Gurugram, Bangalore/Bengaluru',\n",
       " 'Gurgaon/Gurugram, Bangalore/Bengaluru',\n",
       " 'Gurgaon/Gurugram']"
      ]
     },
     "execution_count": 18,
     "metadata": {},
     "output_type": "execute_result"
    }
   ],
   "source": [
    "locations =[]\n",
    "\n",
    "for i in location:\n",
    "    locations.append(i.text)\n",
    "locations[0:10]    \n",
    "    "
   ]
  },
  {
   "cell_type": "code",
   "execution_count": 19,
   "id": "d08f343b",
   "metadata": {},
   "outputs": [
    {
     "data": {
      "text/plain": [
       "[<selenium.webdriver.remote.webelement.WebElement (session=\"1d011bfb30e3b8c230362f36c54f86a0\", element=\"19f37f77-15bd-4ea1-b877-39e6eec20f05\")>,\n",
       " <selenium.webdriver.remote.webelement.WebElement (session=\"1d011bfb30e3b8c230362f36c54f86a0\", element=\"cd9a5eec-1166-452b-a5d3-2e5eba558c0b\")>,\n",
       " <selenium.webdriver.remote.webelement.WebElement (session=\"1d011bfb30e3b8c230362f36c54f86a0\", element=\"deb5c957-67ff-4065-a63b-c6e6f846e23e\")>,\n",
       " <selenium.webdriver.remote.webelement.WebElement (session=\"1d011bfb30e3b8c230362f36c54f86a0\", element=\"cdf6b9da-b355-4734-a0e2-e555a681cc18\")>,\n",
       " <selenium.webdriver.remote.webelement.WebElement (session=\"1d011bfb30e3b8c230362f36c54f86a0\", element=\"22a933fb-5061-46f3-b184-9c83b2d14481\")>,\n",
       " <selenium.webdriver.remote.webelement.WebElement (session=\"1d011bfb30e3b8c230362f36c54f86a0\", element=\"422b4638-dccf-4b25-84d4-1b793c650ccd\")>,\n",
       " <selenium.webdriver.remote.webelement.WebElement (session=\"1d011bfb30e3b8c230362f36c54f86a0\", element=\"ba353a28-1c93-4128-af95-c3fa48f652d5\")>,\n",
       " <selenium.webdriver.remote.webelement.WebElement (session=\"1d011bfb30e3b8c230362f36c54f86a0\", element=\"0c7d87b9-269b-4fc0-9cf2-a2c569878f5b\")>,\n",
       " <selenium.webdriver.remote.webelement.WebElement (session=\"1d011bfb30e3b8c230362f36c54f86a0\", element=\"36117b36-6646-492c-b567-69d78544302a\")>,\n",
       " <selenium.webdriver.remote.webelement.WebElement (session=\"1d011bfb30e3b8c230362f36c54f86a0\", element=\"0135ffc3-5df1-40e0-b911-4685380a47a1\")>]"
      ]
     },
     "execution_count": 19,
     "metadata": {},
     "output_type": "execute_result"
    }
   ],
   "source": [
    "experience = driver.find_elements_by_xpath('//li[@class=\"fleft grey-text br2 placeHolderLi experience\"]')\n",
    "len(experience)\n",
    "experience[0:10]"
   ]
  },
  {
   "cell_type": "code",
   "execution_count": 20,
   "id": "7f4d768c",
   "metadata": {},
   "outputs": [
    {
     "data": {
      "text/plain": [
       "['3-7 Yrs',\n",
       " '3-7 Yrs',\n",
       " '2-6 Yrs',\n",
       " '6-11 Yrs',\n",
       " '6-10 Yrs',\n",
       " '1-6 Yrs',\n",
       " '1-6 Yrs',\n",
       " '3-6 Yrs',\n",
       " '5-10 Yrs',\n",
       " '2-7 Yrs']"
      ]
     },
     "execution_count": 20,
     "metadata": {},
     "output_type": "execute_result"
    }
   ],
   "source": [
    "experiences =[]\n",
    "\n",
    "for i in experience:\n",
    "    experiences.append(i.text)\n",
    "experiences[0:10]    "
   ]
  },
  {
   "cell_type": "code",
   "execution_count": 21,
   "id": "41a8d963",
   "metadata": {},
   "outputs": [],
   "source": [
    "driver = webdriver.Chrome(r'C:\\Users\\PC\\Downloads\\chromedriver_win32\\chromedriver.exe')"
   ]
  },
  {
   "cell_type": "code",
   "execution_count": 22,
   "id": "138cdb2b",
   "metadata": {},
   "outputs": [],
   "source": [
    "url ='https://www.flipkart.com/'\n",
    "driver.get(url)"
   ]
  },
  {
   "cell_type": "code",
   "execution_count": 23,
   "id": "d4bf2d3e",
   "metadata": {},
   "outputs": [
    {
     "data": {
      "text/plain": [
       "<selenium.webdriver.remote.webelement.WebElement (session=\"4fb9bbfc8db69436de196813c0831d63\", element=\"c5cafa74-16eb-4e2c-92a8-8f9408a69c72\")>"
      ]
     },
     "execution_count": 23,
     "metadata": {},
     "output_type": "execute_result"
    }
   ],
   "source": [
    "search_glass = driver.find_element_by_class_name('_3704LK')\n",
    "search_glass"
   ]
  },
  {
   "cell_type": "code",
   "execution_count": 24,
   "id": "0cb63f4d",
   "metadata": {},
   "outputs": [],
   "source": [
    "search_glass.send_keys(\"sunglasses\")"
   ]
  },
  {
   "cell_type": "code",
   "execution_count": 26,
   "id": "ff7efa3b",
   "metadata": {},
   "outputs": [
    {
     "data": {
      "text/plain": [
       "<selenium.webdriver.remote.webelement.WebElement (session=\"4fb9bbfc8db69436de196813c0831d63\", element=\"a05721c3-1507-41af-a355-8b60f91979a9\")>"
      ]
     },
     "execution_count": 26,
     "metadata": {},
     "output_type": "execute_result"
    }
   ],
   "source": [
    "search_btn = driver.find_element_by_xpath('/html/body/div[1]/div/div[1]/div[1]/div[2]/div[2]/form/div/button')\n",
    "search_btn"
   ]
  },
  {
   "cell_type": "code",
   "execution_count": 27,
   "id": "49b8a07c",
   "metadata": {},
   "outputs": [],
   "source": [
    "search_btn.click()"
   ]
  },
  {
   "cell_type": "code",
   "execution_count": 28,
   "id": "57a0171c",
   "metadata": {},
   "outputs": [
    {
     "data": {
      "text/plain": [
       "[<selenium.webdriver.remote.webelement.WebElement (session=\"4fb9bbfc8db69436de196813c0831d63\", element=\"283a5c66-e934-49c7-9653-3444f7426f20\")>,\n",
       " <selenium.webdriver.remote.webelement.WebElement (session=\"4fb9bbfc8db69436de196813c0831d63\", element=\"53ee3299-f9e6-4359-ac88-594a2b239868\")>,\n",
       " <selenium.webdriver.remote.webelement.WebElement (session=\"4fb9bbfc8db69436de196813c0831d63\", element=\"a304e9e2-ac0a-4ae0-aa21-29477effce5d\")>,\n",
       " <selenium.webdriver.remote.webelement.WebElement (session=\"4fb9bbfc8db69436de196813c0831d63\", element=\"dade4e45-ca4b-43e0-be8b-4fb2e8609756\")>,\n",
       " <selenium.webdriver.remote.webelement.WebElement (session=\"4fb9bbfc8db69436de196813c0831d63\", element=\"ff8a8878-3c09-475f-b6fe-1fa44e3ee181\")>,\n",
       " <selenium.webdriver.remote.webelement.WebElement (session=\"4fb9bbfc8db69436de196813c0831d63\", element=\"6f92d269-2ff6-4bd9-a2a2-a2f04eaa3249\")>,\n",
       " <selenium.webdriver.remote.webelement.WebElement (session=\"4fb9bbfc8db69436de196813c0831d63\", element=\"cbffc6a6-7b1b-4731-9c9a-6d25c7d51ae1\")>,\n",
       " <selenium.webdriver.remote.webelement.WebElement (session=\"4fb9bbfc8db69436de196813c0831d63\", element=\"8d4c07cd-74d1-4ddf-aa43-75bb491c5947\")>,\n",
       " <selenium.webdriver.remote.webelement.WebElement (session=\"4fb9bbfc8db69436de196813c0831d63\", element=\"3a4ec058-a0d8-4c31-93fc-0f7e37fbb7ee\")>,\n",
       " <selenium.webdriver.remote.webelement.WebElement (session=\"4fb9bbfc8db69436de196813c0831d63\", element=\"67c928ce-9324-47a5-a573-45fdace98c3a\")>,\n",
       " <selenium.webdriver.remote.webelement.WebElement (session=\"4fb9bbfc8db69436de196813c0831d63\", element=\"8af576f8-a60c-4d37-9b0a-22beae0ed903\")>,\n",
       " <selenium.webdriver.remote.webelement.WebElement (session=\"4fb9bbfc8db69436de196813c0831d63\", element=\"059d3308-ffd2-49e1-8159-527e072cdc71\")>,\n",
       " <selenium.webdriver.remote.webelement.WebElement (session=\"4fb9bbfc8db69436de196813c0831d63\", element=\"e0292ef0-0422-4ac1-9117-3c92461d9dde\")>,\n",
       " <selenium.webdriver.remote.webelement.WebElement (session=\"4fb9bbfc8db69436de196813c0831d63\", element=\"100c535d-cc96-4f9b-9788-e71cf6b310c7\")>,\n",
       " <selenium.webdriver.remote.webelement.WebElement (session=\"4fb9bbfc8db69436de196813c0831d63\", element=\"39c5a73e-f061-452c-8c3d-4de26ab3bd9e\")>,\n",
       " <selenium.webdriver.remote.webelement.WebElement (session=\"4fb9bbfc8db69436de196813c0831d63\", element=\"5e6bb49b-66a6-43c4-9a9c-8884c6435baa\")>,\n",
       " <selenium.webdriver.remote.webelement.WebElement (session=\"4fb9bbfc8db69436de196813c0831d63\", element=\"4d4c6977-625e-448c-8507-92ff5c140f15\")>,\n",
       " <selenium.webdriver.remote.webelement.WebElement (session=\"4fb9bbfc8db69436de196813c0831d63\", element=\"48117b70-445c-4c53-9a17-4c1c908e44df\")>,\n",
       " <selenium.webdriver.remote.webelement.WebElement (session=\"4fb9bbfc8db69436de196813c0831d63\", element=\"8d5e94cc-df97-4927-b889-928b33578a65\")>,\n",
       " <selenium.webdriver.remote.webelement.WebElement (session=\"4fb9bbfc8db69436de196813c0831d63\", element=\"bd318d54-a094-4846-9691-add907fa6948\")>,\n",
       " <selenium.webdriver.remote.webelement.WebElement (session=\"4fb9bbfc8db69436de196813c0831d63\", element=\"3feb998a-e239-4457-9dc0-b82da6e68fb4\")>,\n",
       " <selenium.webdriver.remote.webelement.WebElement (session=\"4fb9bbfc8db69436de196813c0831d63\", element=\"e838b3b6-5e7a-426c-9194-e1a711c7a0fb\")>,\n",
       " <selenium.webdriver.remote.webelement.WebElement (session=\"4fb9bbfc8db69436de196813c0831d63\", element=\"fab6c62d-1820-4a68-8143-a2049c3df66e\")>,\n",
       " <selenium.webdriver.remote.webelement.WebElement (session=\"4fb9bbfc8db69436de196813c0831d63\", element=\"aa4e8afc-0566-44f7-a641-9b19b3d2e228\")>,\n",
       " <selenium.webdriver.remote.webelement.WebElement (session=\"4fb9bbfc8db69436de196813c0831d63\", element=\"ca404d9f-153c-4114-91a7-91df66bf16fd\")>,\n",
       " <selenium.webdriver.remote.webelement.WebElement (session=\"4fb9bbfc8db69436de196813c0831d63\", element=\"0cb97501-65c2-4d47-a603-16b715785409\")>,\n",
       " <selenium.webdriver.remote.webelement.WebElement (session=\"4fb9bbfc8db69436de196813c0831d63\", element=\"64fc0a47-e3e2-4902-9fa6-6b1797b58017\")>,\n",
       " <selenium.webdriver.remote.webelement.WebElement (session=\"4fb9bbfc8db69436de196813c0831d63\", element=\"c3c9e322-470d-45f4-a309-8b3997c83330\")>,\n",
       " <selenium.webdriver.remote.webelement.WebElement (session=\"4fb9bbfc8db69436de196813c0831d63\", element=\"028c568d-50ee-4f28-abd0-067824bee953\")>,\n",
       " <selenium.webdriver.remote.webelement.WebElement (session=\"4fb9bbfc8db69436de196813c0831d63\", element=\"99473d40-fff7-4c93-bcbc-f03ef343dea5\")>,\n",
       " <selenium.webdriver.remote.webelement.WebElement (session=\"4fb9bbfc8db69436de196813c0831d63\", element=\"6210547f-2a26-4bdf-87cd-0e602cea7727\")>,\n",
       " <selenium.webdriver.remote.webelement.WebElement (session=\"4fb9bbfc8db69436de196813c0831d63\", element=\"ce84d0d3-5e91-4863-bf4a-6ee05ee2d660\")>,\n",
       " <selenium.webdriver.remote.webelement.WebElement (session=\"4fb9bbfc8db69436de196813c0831d63\", element=\"c9f06af3-0b8b-4ce1-a4dc-8b5d8abdf4b7\")>,\n",
       " <selenium.webdriver.remote.webelement.WebElement (session=\"4fb9bbfc8db69436de196813c0831d63\", element=\"514a70ea-8f8b-4998-9be2-e7faaf7b96c7\")>,\n",
       " <selenium.webdriver.remote.webelement.WebElement (session=\"4fb9bbfc8db69436de196813c0831d63\", element=\"a675d547-0507-4b18-80ba-d89dc443f56e\")>,\n",
       " <selenium.webdriver.remote.webelement.WebElement (session=\"4fb9bbfc8db69436de196813c0831d63\", element=\"94ea21a5-c35b-4337-af72-87f1a8b6ef43\")>,\n",
       " <selenium.webdriver.remote.webelement.WebElement (session=\"4fb9bbfc8db69436de196813c0831d63\", element=\"714bb1a0-d747-428b-9685-b7f24b3f330f\")>,\n",
       " <selenium.webdriver.remote.webelement.WebElement (session=\"4fb9bbfc8db69436de196813c0831d63\", element=\"e248ef06-7307-487d-9649-8b11b216ac7c\")>,\n",
       " <selenium.webdriver.remote.webelement.WebElement (session=\"4fb9bbfc8db69436de196813c0831d63\", element=\"b2e507f7-a70f-4c09-8e23-f6a25a16e913\")>,\n",
       " <selenium.webdriver.remote.webelement.WebElement (session=\"4fb9bbfc8db69436de196813c0831d63\", element=\"ae4465c7-9d25-4884-9d9e-ad67b130e609\")>]"
      ]
     },
     "execution_count": 28,
     "metadata": {},
     "output_type": "execute_result"
    }
   ],
   "source": [
    "brand_name = driver.find_elements_by_xpath('//div[@class=\"_2WkVRV\"]')\n",
    "len(brand_name)\n",
    "brand_name[0:100]"
   ]
  },
  {
   "cell_type": "code",
   "execution_count": 29,
   "id": "7667f9b5",
   "metadata": {},
   "outputs": [
    {
     "data": {
      "text/plain": [
       "['PIRASO',\n",
       " 'PIRASO',\n",
       " 'SRPM',\n",
       " 'Elligator',\n",
       " 'kingsunglasses',\n",
       " 'PIRASO',\n",
       " 'SHAAH COLLECTIONS',\n",
       " 'PIRASO',\n",
       " 'New Specs',\n",
       " 'Fastrack',\n",
       " 'kingsunglasses',\n",
       " 'PIRASO',\n",
       " 'Johaena',\n",
       " 'PIRASO',\n",
       " 'ROZZETTA CRAFT',\n",
       " 'Fair-x',\n",
       " 'SUNBEE',\n",
       " 'ROZZETTA CRAFT',\n",
       " 'PIRASO',\n",
       " 'Stysol',\n",
       " 'New Specs',\n",
       " 'ROYAL SON',\n",
       " 'Rich Club',\n",
       " 'EYELLUSION',\n",
       " 'Lee Topper',\n",
       " 'PHENOMENAL',\n",
       " 'PHENOMENAL',\n",
       " 'NuVew',\n",
       " 'PIRASO',\n",
       " 'SHAAH COLLECTIONS',\n",
       " 'ROYAL SON',\n",
       " 'Fair-x',\n",
       " 'agera',\n",
       " 'DEIXELS',\n",
       " 'kingsunglasses',\n",
       " 'RBILZ',\n",
       " 'Fastrack',\n",
       " 'New Specs',\n",
       " 'ROYAL SON',\n",
       " 'NuVew']"
      ]
     },
     "execution_count": 29,
     "metadata": {},
     "output_type": "execute_result"
    }
   ],
   "source": [
    "brand_names = []\n",
    "\n",
    "for i in brand_name:\n",
    "    brand_names.append(i.text)\n",
    "brand_names[0:100]  "
   ]
  },
  {
   "cell_type": "code",
   "execution_count": 30,
   "id": "168f60b5",
   "metadata": {},
   "outputs": [
    {
     "data": {
      "text/plain": [
       "[<selenium.webdriver.remote.webelement.WebElement (session=\"4fb9bbfc8db69436de196813c0831d63\", element=\"8e6fc69b-2b84-420c-ac8f-78ddca1a926e\")>,\n",
       " <selenium.webdriver.remote.webelement.WebElement (session=\"4fb9bbfc8db69436de196813c0831d63\", element=\"83b6c17a-bf12-4817-9fb2-5c2ac3fd99bc\")>,\n",
       " <selenium.webdriver.remote.webelement.WebElement (session=\"4fb9bbfc8db69436de196813c0831d63\", element=\"51bf261f-2104-4e4c-8071-0f8fc40dbffb\")>,\n",
       " <selenium.webdriver.remote.webelement.WebElement (session=\"4fb9bbfc8db69436de196813c0831d63\", element=\"f8d5e99e-b703-4162-8701-1afd3f9236a4\")>,\n",
       " <selenium.webdriver.remote.webelement.WebElement (session=\"4fb9bbfc8db69436de196813c0831d63\", element=\"5a2c6e6c-08a0-4d58-acc2-d7a4123435d8\")>,\n",
       " <selenium.webdriver.remote.webelement.WebElement (session=\"4fb9bbfc8db69436de196813c0831d63\", element=\"76c2f0ca-673f-4630-951b-567bb02e60f5\")>,\n",
       " <selenium.webdriver.remote.webelement.WebElement (session=\"4fb9bbfc8db69436de196813c0831d63\", element=\"71fee549-efb3-4506-b94c-67e67411fd27\")>,\n",
       " <selenium.webdriver.remote.webelement.WebElement (session=\"4fb9bbfc8db69436de196813c0831d63\", element=\"8cc705e4-057e-41df-a57f-431d93c5dda0\")>,\n",
       " <selenium.webdriver.remote.webelement.WebElement (session=\"4fb9bbfc8db69436de196813c0831d63\", element=\"97794905-c31e-46f7-ba59-ea26c04d9232\")>,\n",
       " <selenium.webdriver.remote.webelement.WebElement (session=\"4fb9bbfc8db69436de196813c0831d63\", element=\"6a8d1f19-ebad-4ba6-9b7b-368010dc5a51\")>,\n",
       " <selenium.webdriver.remote.webelement.WebElement (session=\"4fb9bbfc8db69436de196813c0831d63\", element=\"d1e25bea-f75c-47b3-af3f-aa5ff5f1c27d\")>,\n",
       " <selenium.webdriver.remote.webelement.WebElement (session=\"4fb9bbfc8db69436de196813c0831d63\", element=\"21e0ee9d-e6ab-4d89-bb76-eea09685fe0b\")>,\n",
       " <selenium.webdriver.remote.webelement.WebElement (session=\"4fb9bbfc8db69436de196813c0831d63\", element=\"4eabba5d-a389-4737-8979-45a3c4fc0207\")>,\n",
       " <selenium.webdriver.remote.webelement.WebElement (session=\"4fb9bbfc8db69436de196813c0831d63\", element=\"f0901e47-64e1-4020-beb5-dd900f960927\")>,\n",
       " <selenium.webdriver.remote.webelement.WebElement (session=\"4fb9bbfc8db69436de196813c0831d63\", element=\"f9e28cf8-690f-41e5-bd4b-23d5d666b0bb\")>,\n",
       " <selenium.webdriver.remote.webelement.WebElement (session=\"4fb9bbfc8db69436de196813c0831d63\", element=\"40ced86d-6594-41dd-ad60-75e443443241\")>,\n",
       " <selenium.webdriver.remote.webelement.WebElement (session=\"4fb9bbfc8db69436de196813c0831d63\", element=\"778e8f67-c289-40b9-892e-34422fa7495a\")>,\n",
       " <selenium.webdriver.remote.webelement.WebElement (session=\"4fb9bbfc8db69436de196813c0831d63\", element=\"9d8eb5b7-29cc-4e5f-b023-87c29f15a76f\")>,\n",
       " <selenium.webdriver.remote.webelement.WebElement (session=\"4fb9bbfc8db69436de196813c0831d63\", element=\"4639fe0e-c8a5-47c1-87e8-8dc3a5eea235\")>,\n",
       " <selenium.webdriver.remote.webelement.WebElement (session=\"4fb9bbfc8db69436de196813c0831d63\", element=\"00d6025d-3014-4af6-8c42-51ba46695999\")>,\n",
       " <selenium.webdriver.remote.webelement.WebElement (session=\"4fb9bbfc8db69436de196813c0831d63\", element=\"23b8cfdf-7775-42f6-a702-8d581b7e83ba\")>,\n",
       " <selenium.webdriver.remote.webelement.WebElement (session=\"4fb9bbfc8db69436de196813c0831d63\", element=\"dfd65f9c-e037-4a19-a15f-446d69b1ffed\")>,\n",
       " <selenium.webdriver.remote.webelement.WebElement (session=\"4fb9bbfc8db69436de196813c0831d63\", element=\"b6bf60c3-ca02-4987-9cb4-6a15750aa2a2\")>,\n",
       " <selenium.webdriver.remote.webelement.WebElement (session=\"4fb9bbfc8db69436de196813c0831d63\", element=\"5f0c4166-30f9-4325-8687-4c841f2b2ee7\")>,\n",
       " <selenium.webdriver.remote.webelement.WebElement (session=\"4fb9bbfc8db69436de196813c0831d63\", element=\"1dfaaac3-f551-4e2b-911e-a9f9055a8621\")>,\n",
       " <selenium.webdriver.remote.webelement.WebElement (session=\"4fb9bbfc8db69436de196813c0831d63\", element=\"e1a0fd4b-b136-4e6c-8c96-fb9edf23ff09\")>,\n",
       " <selenium.webdriver.remote.webelement.WebElement (session=\"4fb9bbfc8db69436de196813c0831d63\", element=\"cd5599eb-0edf-48a4-abe4-96019268a86b\")>,\n",
       " <selenium.webdriver.remote.webelement.WebElement (session=\"4fb9bbfc8db69436de196813c0831d63\", element=\"8c1a4e30-6495-4b04-b47e-bdab5c9d0b03\")>,\n",
       " <selenium.webdriver.remote.webelement.WebElement (session=\"4fb9bbfc8db69436de196813c0831d63\", element=\"29b54396-2994-438a-a6eb-235eed81b041\")>,\n",
       " <selenium.webdriver.remote.webelement.WebElement (session=\"4fb9bbfc8db69436de196813c0831d63\", element=\"c4fb5be8-398a-4509-a327-676170b945d4\")>,\n",
       " <selenium.webdriver.remote.webelement.WebElement (session=\"4fb9bbfc8db69436de196813c0831d63\", element=\"e9c961a2-d1e2-4f3b-ab07-03fc9bb0845c\")>,\n",
       " <selenium.webdriver.remote.webelement.WebElement (session=\"4fb9bbfc8db69436de196813c0831d63\", element=\"03b46763-d441-4614-b6d2-fca342a4044d\")>,\n",
       " <selenium.webdriver.remote.webelement.WebElement (session=\"4fb9bbfc8db69436de196813c0831d63\", element=\"966686de-548e-4777-9024-fef24bbe6760\")>,\n",
       " <selenium.webdriver.remote.webelement.WebElement (session=\"4fb9bbfc8db69436de196813c0831d63\", element=\"60115c97-8a23-4ba0-974c-f5158d6f5f8c\")>,\n",
       " <selenium.webdriver.remote.webelement.WebElement (session=\"4fb9bbfc8db69436de196813c0831d63\", element=\"98f56647-0da5-4e8c-923c-0191f75a543a\")>,\n",
       " <selenium.webdriver.remote.webelement.WebElement (session=\"4fb9bbfc8db69436de196813c0831d63\", element=\"a62a2535-ab01-48f4-8c3b-a9c4ecf898d8\")>,\n",
       " <selenium.webdriver.remote.webelement.WebElement (session=\"4fb9bbfc8db69436de196813c0831d63\", element=\"67d06537-8f54-4465-a4f7-d9016e2a5121\")>]"
      ]
     },
     "execution_count": 30,
     "metadata": {},
     "output_type": "execute_result"
    }
   ],
   "source": [
    "product_description = driver.find_elements_by_xpath('//a[@class=\"IRpwTa\"]')\n",
    "len(product_description)\n",
    "product_description[0:100]\n",
    "\n"
   ]
  },
  {
   "cell_type": "code",
   "execution_count": 31,
   "id": "87f1a93c",
   "metadata": {},
   "outputs": [
    {
     "data": {
      "text/plain": [
       "['UV Protection Round Sunglasses (Free Size)',\n",
       " 'UV Protection Oval Sunglasses (55)',\n",
       " 'UV Protection Wayfarer Sunglasses (56)',\n",
       " 'UV Protection Round Sunglasses (54)',\n",
       " 'UV Protection Round Sunglasses (54)',\n",
       " 'UV Protection Aviator Sunglasses (54)',\n",
       " 'UV Protection, Polarized, Mirrored Rectangular Sunglass...',\n",
       " 'Mirrored Aviator Sunglasses (32)',\n",
       " 'UV Protection Rectangular Sunglasses (Free Size)',\n",
       " 'UV Protection Wayfarer Sunglasses (Free Size)',\n",
       " 'Mirrored, UV Protection Wayfarer Sunglasses (53)',\n",
       " 'UV Protection Aviator Sunglasses (54)',\n",
       " 'Riding Glasses, UV Protection Oval Sunglasses (48)',\n",
       " 'UV Protection Wayfarer Sunglasses (32)',\n",
       " 'UV Protection Retro Square Sunglasses (Free Size)',\n",
       " 'UV Protection, Polarized, Mirrored Round Sunglasses (Fr...',\n",
       " 'UV Protection, Gradient Rectangular Sunglasses (Free Si...',\n",
       " 'UV Protection Aviator Sunglasses (54)',\n",
       " 'UV Protection Wayfarer, Retro Square Sunglasses (52)',\n",
       " 'Mirrored, UV Protection, Riding Glasses, Others Round S...',\n",
       " 'Mirrored Aviator Sunglasses (55)',\n",
       " 'Polarized Round Sunglasses (48)',\n",
       " 'Gradient, Riding Glasses, Night Vision Retro Square Sun...',\n",
       " 'Riding Glasses, Night Vision Wrap-around Sunglasses (Fr...',\n",
       " 'UV Protection Retro Square Sunglasses (Free Size)',\n",
       " 'UV Protection, Mirrored Retro Square Sunglasses (53)',\n",
       " 'UV Protection, Night Vision Wayfarer Sunglasses (51)',\n",
       " 'UV Protection Aviator Sunglasses (54)',\n",
       " 'UV Protection, Polarized, Mirrored Rectangular Sunglass...',\n",
       " 'Mirrored Aviator Sunglasses (55)',\n",
       " 'Gradient Aviator Sunglasses (55)',\n",
       " 'UV Protection Aviator, Wayfarer Sunglasses (Free Size)',\n",
       " 'UV Protection, Night Vision Wayfarer Sunglasses (Free S...',\n",
       " 'UV Protection Shield Sunglasses (Free Size)',\n",
       " 'UV Protection Rectangular Sunglasses (Free Size)',\n",
       " 'UV Protection Rectangular Sunglasses (58)',\n",
       " 'UV Protection Sports Sunglasses (65)']"
      ]
     },
     "execution_count": 31,
     "metadata": {},
     "output_type": "execute_result"
    }
   ],
   "source": [
    "product_descriptions =[]\n",
    "\n",
    "for i in product_description:\n",
    "    product_descriptions.append(i.text)\n",
    "product_descriptions[0:100]   "
   ]
  },
  {
   "cell_type": "code",
   "execution_count": 32,
   "id": "e2ca0246",
   "metadata": {},
   "outputs": [
    {
     "data": {
      "text/plain": [
       "[<selenium.webdriver.remote.webelement.WebElement (session=\"4fb9bbfc8db69436de196813c0831d63\", element=\"d7f0a75b-a5fd-4be3-80ba-6bd8f0e42f55\")>,\n",
       " <selenium.webdriver.remote.webelement.WebElement (session=\"4fb9bbfc8db69436de196813c0831d63\", element=\"1b0eb981-57cd-4fc5-97dc-0ad6d6e80256\")>,\n",
       " <selenium.webdriver.remote.webelement.WebElement (session=\"4fb9bbfc8db69436de196813c0831d63\", element=\"e2c0439c-67cb-49d2-a896-46120d63150d\")>,\n",
       " <selenium.webdriver.remote.webelement.WebElement (session=\"4fb9bbfc8db69436de196813c0831d63\", element=\"e8b269a6-d5c1-462b-b20f-decdc38b408e\")>,\n",
       " <selenium.webdriver.remote.webelement.WebElement (session=\"4fb9bbfc8db69436de196813c0831d63\", element=\"43422d6a-4ea6-4782-b823-e58096e17628\")>,\n",
       " <selenium.webdriver.remote.webelement.WebElement (session=\"4fb9bbfc8db69436de196813c0831d63\", element=\"aa491498-69b9-4ed2-b733-01809d967f1b\")>,\n",
       " <selenium.webdriver.remote.webelement.WebElement (session=\"4fb9bbfc8db69436de196813c0831d63\", element=\"2abece34-db6e-465a-8dd3-de517fd7c2cd\")>,\n",
       " <selenium.webdriver.remote.webelement.WebElement (session=\"4fb9bbfc8db69436de196813c0831d63\", element=\"46443344-f123-42cf-a1d8-26289c4a55c5\")>,\n",
       " <selenium.webdriver.remote.webelement.WebElement (session=\"4fb9bbfc8db69436de196813c0831d63\", element=\"a4641773-250d-4106-af4b-bb7ae9c8b20c\")>,\n",
       " <selenium.webdriver.remote.webelement.WebElement (session=\"4fb9bbfc8db69436de196813c0831d63\", element=\"b326c7f8-801d-47e2-a78f-6a384879fbfd\")>,\n",
       " <selenium.webdriver.remote.webelement.WebElement (session=\"4fb9bbfc8db69436de196813c0831d63\", element=\"3f04e742-964c-4267-8504-8302819ecf14\")>,\n",
       " <selenium.webdriver.remote.webelement.WebElement (session=\"4fb9bbfc8db69436de196813c0831d63\", element=\"28c78db4-acb8-422c-8256-d6018fdd8ca3\")>,\n",
       " <selenium.webdriver.remote.webelement.WebElement (session=\"4fb9bbfc8db69436de196813c0831d63\", element=\"808abe4a-554d-4f16-9242-532a834400cf\")>,\n",
       " <selenium.webdriver.remote.webelement.WebElement (session=\"4fb9bbfc8db69436de196813c0831d63\", element=\"be3117e1-24d5-4857-abcf-8ce3f7ef6ffc\")>,\n",
       " <selenium.webdriver.remote.webelement.WebElement (session=\"4fb9bbfc8db69436de196813c0831d63\", element=\"1cc6bb6c-c068-4863-a44a-6e243560ed93\")>,\n",
       " <selenium.webdriver.remote.webelement.WebElement (session=\"4fb9bbfc8db69436de196813c0831d63\", element=\"b2315acc-c172-43ed-9812-e971b9b548ce\")>,\n",
       " <selenium.webdriver.remote.webelement.WebElement (session=\"4fb9bbfc8db69436de196813c0831d63\", element=\"82b34c00-3b69-4377-b047-95327fd07151\")>,\n",
       " <selenium.webdriver.remote.webelement.WebElement (session=\"4fb9bbfc8db69436de196813c0831d63\", element=\"f8958639-582a-4d23-942f-4763b67c79aa\")>,\n",
       " <selenium.webdriver.remote.webelement.WebElement (session=\"4fb9bbfc8db69436de196813c0831d63\", element=\"200a1d7f-6433-490d-bde6-6d8529d28e95\")>,\n",
       " <selenium.webdriver.remote.webelement.WebElement (session=\"4fb9bbfc8db69436de196813c0831d63\", element=\"6363ef29-f54c-47fd-bec0-93e0e143a2db\")>,\n",
       " <selenium.webdriver.remote.webelement.WebElement (session=\"4fb9bbfc8db69436de196813c0831d63\", element=\"b12841d3-35b7-4489-b444-eecf7cbdcc99\")>,\n",
       " <selenium.webdriver.remote.webelement.WebElement (session=\"4fb9bbfc8db69436de196813c0831d63\", element=\"d3c9e35b-dc54-47c4-84f5-19f00f8ac31c\")>,\n",
       " <selenium.webdriver.remote.webelement.WebElement (session=\"4fb9bbfc8db69436de196813c0831d63\", element=\"014e01c8-c915-4d1a-9c37-3c66de5ecb8b\")>,\n",
       " <selenium.webdriver.remote.webelement.WebElement (session=\"4fb9bbfc8db69436de196813c0831d63\", element=\"83970f1a-079b-4df0-89ca-12e74c1c9c0f\")>,\n",
       " <selenium.webdriver.remote.webelement.WebElement (session=\"4fb9bbfc8db69436de196813c0831d63\", element=\"6a403a97-e5bd-40fe-b342-10593881bf28\")>,\n",
       " <selenium.webdriver.remote.webelement.WebElement (session=\"4fb9bbfc8db69436de196813c0831d63\", element=\"3400ed2d-ddf8-4969-b73b-cf297ebd3409\")>,\n",
       " <selenium.webdriver.remote.webelement.WebElement (session=\"4fb9bbfc8db69436de196813c0831d63\", element=\"0876b3d2-3f3e-4bad-9d70-5fca42e64455\")>,\n",
       " <selenium.webdriver.remote.webelement.WebElement (session=\"4fb9bbfc8db69436de196813c0831d63\", element=\"45ad2192-e6e2-40c9-bbcc-7520f77b1072\")>,\n",
       " <selenium.webdriver.remote.webelement.WebElement (session=\"4fb9bbfc8db69436de196813c0831d63\", element=\"fc2f777f-46c5-4987-8131-8909c822cde5\")>,\n",
       " <selenium.webdriver.remote.webelement.WebElement (session=\"4fb9bbfc8db69436de196813c0831d63\", element=\"a62a9c0f-17e4-446d-958b-9d4831eb7fcf\")>,\n",
       " <selenium.webdriver.remote.webelement.WebElement (session=\"4fb9bbfc8db69436de196813c0831d63\", element=\"c367ea1f-9551-4790-958c-4a93efba5d66\")>,\n",
       " <selenium.webdriver.remote.webelement.WebElement (session=\"4fb9bbfc8db69436de196813c0831d63\", element=\"5e5bbae4-1ffe-4e8d-839b-fa91e9fe9887\")>,\n",
       " <selenium.webdriver.remote.webelement.WebElement (session=\"4fb9bbfc8db69436de196813c0831d63\", element=\"d2f629d1-f19f-444b-a059-cc5a67523393\")>,\n",
       " <selenium.webdriver.remote.webelement.WebElement (session=\"4fb9bbfc8db69436de196813c0831d63\", element=\"0f79a3bb-bb1f-4bbe-9a4a-4ac1d2c686b6\")>,\n",
       " <selenium.webdriver.remote.webelement.WebElement (session=\"4fb9bbfc8db69436de196813c0831d63\", element=\"41060fc6-199e-45fc-9195-33ffe6909934\")>,\n",
       " <selenium.webdriver.remote.webelement.WebElement (session=\"4fb9bbfc8db69436de196813c0831d63\", element=\"2c1b61e3-648e-4e97-aa33-8525b02b7a1c\")>,\n",
       " <selenium.webdriver.remote.webelement.WebElement (session=\"4fb9bbfc8db69436de196813c0831d63\", element=\"6a9e2fb6-f4a8-4578-8759-ea32f9fbc528\")>,\n",
       " <selenium.webdriver.remote.webelement.WebElement (session=\"4fb9bbfc8db69436de196813c0831d63\", element=\"50ea20c2-41ce-4c74-96d2-b5e3464a2a83\")>,\n",
       " <selenium.webdriver.remote.webelement.WebElement (session=\"4fb9bbfc8db69436de196813c0831d63\", element=\"adee7b62-20ca-487c-8b8b-4fb7e60b9a7c\")>,\n",
       " <selenium.webdriver.remote.webelement.WebElement (session=\"4fb9bbfc8db69436de196813c0831d63\", element=\"1e5c5b2e-2d04-4723-9aa6-1307a69d5dd2\")>]"
      ]
     },
     "execution_count": 32,
     "metadata": {},
     "output_type": "execute_result"
    }
   ],
   "source": [
    "price = driver.find_elements_by_xpath('//div[@class=\"_30jeq3\"]')\n",
    "len(price)\n",
    "price[0:100]"
   ]
  },
  {
   "cell_type": "code",
   "execution_count": 33,
   "id": "ca1b3ebf",
   "metadata": {},
   "outputs": [
    {
     "data": {
      "text/plain": [
       "['₹171',\n",
       " '₹158',\n",
       " '₹188',\n",
       " '₹248',\n",
       " '₹188',\n",
       " '₹200',\n",
       " '₹156',\n",
       " '₹164',\n",
       " '₹259',\n",
       " '₹679',\n",
       " '₹274',\n",
       " '₹187',\n",
       " '₹156',\n",
       " '₹187',\n",
       " '₹474',\n",
       " '₹190',\n",
       " '₹261',\n",
       " '₹383',\n",
       " '₹187',\n",
       " '₹195',\n",
       " '₹262',\n",
       " '₹359',\n",
       " '₹165',\n",
       " '₹172',\n",
       " '₹276',\n",
       " '₹309',\n",
       " '₹299',\n",
       " '₹195',\n",
       " '₹187',\n",
       " '₹179',\n",
       " '₹359',\n",
       " '₹180',\n",
       " '₹196',\n",
       " '₹229',\n",
       " '₹273',\n",
       " '₹199',\n",
       " '₹729',\n",
       " '₹169',\n",
       " '₹449',\n",
       " '₹188']"
      ]
     },
     "execution_count": 33,
     "metadata": {},
     "output_type": "execute_result"
    }
   ],
   "source": [
    "prices =[]\n",
    "\n",
    "for i in price:\n",
    "    prices.append(i.text)\n",
    "prices[0:100]    "
   ]
  },
  {
   "cell_type": "code",
   "execution_count": 34,
   "id": "3d5d6e11",
   "metadata": {},
   "outputs": [
    {
     "ename": "ValueError",
     "evalue": "Length of values (37) does not match length of index (40)",
     "output_type": "error",
     "traceback": [
      "\u001b[1;31m---------------------------------------------------------------------------\u001b[0m",
      "\u001b[1;31mValueError\u001b[0m                                Traceback (most recent call last)",
      "\u001b[1;32m<ipython-input-34-5a9856957389>\u001b[0m in \u001b[0;36m<module>\u001b[1;34m\u001b[0m\n\u001b[0;32m      1\u001b[0m \u001b[0msunglasses\u001b[0m \u001b[1;33m=\u001b[0m \u001b[0mpd\u001b[0m\u001b[1;33m.\u001b[0m\u001b[0mDataFrame\u001b[0m\u001b[1;33m(\u001b[0m\u001b[1;33m)\u001b[0m\u001b[1;33m\u001b[0m\u001b[1;33m\u001b[0m\u001b[0m\n\u001b[0;32m      2\u001b[0m \u001b[0msunglasses\u001b[0m\u001b[1;33m[\u001b[0m\u001b[1;34m'Brands'\u001b[0m\u001b[1;33m]\u001b[0m\u001b[1;33m=\u001b[0m\u001b[0mbrand_names\u001b[0m\u001b[1;33m\u001b[0m\u001b[1;33m\u001b[0m\u001b[0m\n\u001b[1;32m----> 3\u001b[1;33m \u001b[0msunglasses\u001b[0m\u001b[1;33m[\u001b[0m\u001b[1;34m'Description'\u001b[0m\u001b[1;33m]\u001b[0m\u001b[1;33m=\u001b[0m\u001b[0mproduct_descriptions\u001b[0m\u001b[1;33m\u001b[0m\u001b[1;33m\u001b[0m\u001b[0m\n\u001b[0m\u001b[0;32m      4\u001b[0m \u001b[0msunglasses\u001b[0m\u001b[1;33m[\u001b[0m\u001b[1;34m'price'\u001b[0m\u001b[1;33m]\u001b[0m\u001b[1;33m=\u001b[0m\u001b[0mprices\u001b[0m\u001b[1;33m\u001b[0m\u001b[1;33m\u001b[0m\u001b[0m\n\u001b[0;32m      5\u001b[0m \u001b[0msunglasses\u001b[0m\u001b[1;33m[\u001b[0m\u001b[1;36m0\u001b[0m\u001b[1;33m:\u001b[0m\u001b[1;36m100\u001b[0m\u001b[1;33m]\u001b[0m\u001b[1;33m\u001b[0m\u001b[1;33m\u001b[0m\u001b[0m\n",
      "\u001b[1;32mC:\\ProgramData\\Anaconda3\\lib\\site-packages\\pandas\\core\\frame.py\u001b[0m in \u001b[0;36m__setitem__\u001b[1;34m(self, key, value)\u001b[0m\n\u001b[0;32m   3161\u001b[0m         \u001b[1;32melse\u001b[0m\u001b[1;33m:\u001b[0m\u001b[1;33m\u001b[0m\u001b[1;33m\u001b[0m\u001b[0m\n\u001b[0;32m   3162\u001b[0m             \u001b[1;31m# set column\u001b[0m\u001b[1;33m\u001b[0m\u001b[1;33m\u001b[0m\u001b[1;33m\u001b[0m\u001b[0m\n\u001b[1;32m-> 3163\u001b[1;33m             \u001b[0mself\u001b[0m\u001b[1;33m.\u001b[0m\u001b[0m_set_item\u001b[0m\u001b[1;33m(\u001b[0m\u001b[0mkey\u001b[0m\u001b[1;33m,\u001b[0m \u001b[0mvalue\u001b[0m\u001b[1;33m)\u001b[0m\u001b[1;33m\u001b[0m\u001b[1;33m\u001b[0m\u001b[0m\n\u001b[0m\u001b[0;32m   3164\u001b[0m \u001b[1;33m\u001b[0m\u001b[0m\n\u001b[0;32m   3165\u001b[0m     \u001b[1;32mdef\u001b[0m \u001b[0m_setitem_slice\u001b[0m\u001b[1;33m(\u001b[0m\u001b[0mself\u001b[0m\u001b[1;33m,\u001b[0m \u001b[0mkey\u001b[0m\u001b[1;33m:\u001b[0m \u001b[0mslice\u001b[0m\u001b[1;33m,\u001b[0m \u001b[0mvalue\u001b[0m\u001b[1;33m)\u001b[0m\u001b[1;33m:\u001b[0m\u001b[1;33m\u001b[0m\u001b[1;33m\u001b[0m\u001b[0m\n",
      "\u001b[1;32mC:\\ProgramData\\Anaconda3\\lib\\site-packages\\pandas\\core\\frame.py\u001b[0m in \u001b[0;36m_set_item\u001b[1;34m(self, key, value)\u001b[0m\n\u001b[0;32m   3240\u001b[0m         \"\"\"\n\u001b[0;32m   3241\u001b[0m         \u001b[0mself\u001b[0m\u001b[1;33m.\u001b[0m\u001b[0m_ensure_valid_index\u001b[0m\u001b[1;33m(\u001b[0m\u001b[0mvalue\u001b[0m\u001b[1;33m)\u001b[0m\u001b[1;33m\u001b[0m\u001b[1;33m\u001b[0m\u001b[0m\n\u001b[1;32m-> 3242\u001b[1;33m         \u001b[0mvalue\u001b[0m \u001b[1;33m=\u001b[0m \u001b[0mself\u001b[0m\u001b[1;33m.\u001b[0m\u001b[0m_sanitize_column\u001b[0m\u001b[1;33m(\u001b[0m\u001b[0mkey\u001b[0m\u001b[1;33m,\u001b[0m \u001b[0mvalue\u001b[0m\u001b[1;33m)\u001b[0m\u001b[1;33m\u001b[0m\u001b[1;33m\u001b[0m\u001b[0m\n\u001b[0m\u001b[0;32m   3243\u001b[0m         \u001b[0mNDFrame\u001b[0m\u001b[1;33m.\u001b[0m\u001b[0m_set_item\u001b[0m\u001b[1;33m(\u001b[0m\u001b[0mself\u001b[0m\u001b[1;33m,\u001b[0m \u001b[0mkey\u001b[0m\u001b[1;33m,\u001b[0m \u001b[0mvalue\u001b[0m\u001b[1;33m)\u001b[0m\u001b[1;33m\u001b[0m\u001b[1;33m\u001b[0m\u001b[0m\n\u001b[0;32m   3244\u001b[0m \u001b[1;33m\u001b[0m\u001b[0m\n",
      "\u001b[1;32mC:\\ProgramData\\Anaconda3\\lib\\site-packages\\pandas\\core\\frame.py\u001b[0m in \u001b[0;36m_sanitize_column\u001b[1;34m(self, key, value, broadcast)\u001b[0m\n\u001b[0;32m   3897\u001b[0m \u001b[1;33m\u001b[0m\u001b[0m\n\u001b[0;32m   3898\u001b[0m             \u001b[1;31m# turn me into an ndarray\u001b[0m\u001b[1;33m\u001b[0m\u001b[1;33m\u001b[0m\u001b[1;33m\u001b[0m\u001b[0m\n\u001b[1;32m-> 3899\u001b[1;33m             \u001b[0mvalue\u001b[0m \u001b[1;33m=\u001b[0m \u001b[0msanitize_index\u001b[0m\u001b[1;33m(\u001b[0m\u001b[0mvalue\u001b[0m\u001b[1;33m,\u001b[0m \u001b[0mself\u001b[0m\u001b[1;33m.\u001b[0m\u001b[0mindex\u001b[0m\u001b[1;33m)\u001b[0m\u001b[1;33m\u001b[0m\u001b[1;33m\u001b[0m\u001b[0m\n\u001b[0m\u001b[0;32m   3900\u001b[0m             \u001b[1;32mif\u001b[0m \u001b[1;32mnot\u001b[0m \u001b[0misinstance\u001b[0m\u001b[1;33m(\u001b[0m\u001b[0mvalue\u001b[0m\u001b[1;33m,\u001b[0m \u001b[1;33m(\u001b[0m\u001b[0mnp\u001b[0m\u001b[1;33m.\u001b[0m\u001b[0mndarray\u001b[0m\u001b[1;33m,\u001b[0m \u001b[0mIndex\u001b[0m\u001b[1;33m)\u001b[0m\u001b[1;33m)\u001b[0m\u001b[1;33m:\u001b[0m\u001b[1;33m\u001b[0m\u001b[1;33m\u001b[0m\u001b[0m\n\u001b[0;32m   3901\u001b[0m                 \u001b[1;32mif\u001b[0m \u001b[0misinstance\u001b[0m\u001b[1;33m(\u001b[0m\u001b[0mvalue\u001b[0m\u001b[1;33m,\u001b[0m \u001b[0mlist\u001b[0m\u001b[1;33m)\u001b[0m \u001b[1;32mand\u001b[0m \u001b[0mlen\u001b[0m\u001b[1;33m(\u001b[0m\u001b[0mvalue\u001b[0m\u001b[1;33m)\u001b[0m \u001b[1;33m>\u001b[0m \u001b[1;36m0\u001b[0m\u001b[1;33m:\u001b[0m\u001b[1;33m\u001b[0m\u001b[1;33m\u001b[0m\u001b[0m\n",
      "\u001b[1;32mC:\\ProgramData\\Anaconda3\\lib\\site-packages\\pandas\\core\\internals\\construction.py\u001b[0m in \u001b[0;36msanitize_index\u001b[1;34m(data, index)\u001b[0m\n\u001b[0;32m    749\u001b[0m     \"\"\"\n\u001b[0;32m    750\u001b[0m     \u001b[1;32mif\u001b[0m \u001b[0mlen\u001b[0m\u001b[1;33m(\u001b[0m\u001b[0mdata\u001b[0m\u001b[1;33m)\u001b[0m \u001b[1;33m!=\u001b[0m \u001b[0mlen\u001b[0m\u001b[1;33m(\u001b[0m\u001b[0mindex\u001b[0m\u001b[1;33m)\u001b[0m\u001b[1;33m:\u001b[0m\u001b[1;33m\u001b[0m\u001b[1;33m\u001b[0m\u001b[0m\n\u001b[1;32m--> 751\u001b[1;33m         raise ValueError(\n\u001b[0m\u001b[0;32m    752\u001b[0m             \u001b[1;34m\"Length of values \"\u001b[0m\u001b[1;33m\u001b[0m\u001b[1;33m\u001b[0m\u001b[0m\n\u001b[0;32m    753\u001b[0m             \u001b[1;34mf\"({len(data)}) \"\u001b[0m\u001b[1;33m\u001b[0m\u001b[1;33m\u001b[0m\u001b[0m\n",
      "\u001b[1;31mValueError\u001b[0m: Length of values (37) does not match length of index (40)"
     ]
    }
   ],
   "source": [
    "sunglasses = pd.DataFrame()\n",
    "sunglasses['Brands']=brand_names\n",
    "sunglasses['Description']=product_descriptions\n",
    "sunglasses['price']=prices\n",
    "sunglasses[0:100]"
   ]
  },
  {
   "cell_type": "code",
   "execution_count": null,
   "id": "690d53aa",
   "metadata": {},
   "outputs": [],
   "source": []
  }
 ],
 "metadata": {
  "kernelspec": {
   "display_name": "Python 3",
   "language": "python",
   "name": "python3"
  },
  "language_info": {
   "codemirror_mode": {
    "name": "ipython",
    "version": 3
   },
   "file_extension": ".py",
   "mimetype": "text/x-python",
   "name": "python",
   "nbconvert_exporter": "python",
   "pygments_lexer": "ipython3",
   "version": "3.8.8"
  }
 },
 "nbformat": 4,
 "nbformat_minor": 5
}
