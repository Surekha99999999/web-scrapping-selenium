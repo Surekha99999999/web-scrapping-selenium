{
 "cells": [
  {
   "cell_type": "code",
   "execution_count": 1,
   "id": "2de0a1a0",
   "metadata": {},
   "outputs": [
    {
     "name": "stdout",
     "output_type": "stream",
     "text": [
      "Requirement already satisfied: selenium in c:\\programdata\\anaconda3\\lib\\site-packages (4.1.0)\n",
      "Requirement already satisfied: urllib3[secure]~=1.26 in c:\\programdata\\anaconda3\\lib\\site-packages (from selenium) (1.26.4)\n",
      "Requirement already satisfied: trio~=0.17 in c:\\programdata\\anaconda3\\lib\\site-packages (from selenium) (0.19.0)\n",
      "Requirement already satisfied: trio-websocket~=0.9 in c:\\programdata\\anaconda3\\lib\\site-packages (from selenium) (0.9.2)\n",
      "Requirement already satisfied: async-generator>=1.9 in c:\\programdata\\anaconda3\\lib\\site-packages (from trio~=0.17->selenium) (1.10)\n",
      "Requirement already satisfied: idna in c:\\programdata\\anaconda3\\lib\\site-packages (from trio~=0.17->selenium) (2.10)\n",
      "Requirement already satisfied: attrs>=19.2.0 in c:\\programdata\\anaconda3\\lib\\site-packages (from trio~=0.17->selenium) (20.3.0)\n",
      "Requirement already satisfied: cffi>=1.14 in c:\\programdata\\anaconda3\\lib\\site-packages (from trio~=0.17->selenium) (1.14.5)\n",
      "Requirement already satisfied: sniffio in c:\\programdata\\anaconda3\\lib\\site-packages (from trio~=0.17->selenium) (1.2.0)\n",
      "Requirement already satisfied: sortedcontainers in c:\\programdata\\anaconda3\\lib\\site-packages (from trio~=0.17->selenium) (2.3.0)\n",
      "Requirement already satisfied: outcome in c:\\programdata\\anaconda3\\lib\\site-packages (from trio~=0.17->selenium) (1.1.0)\n",
      "Requirement already satisfied: pycparser in c:\\programdata\\anaconda3\\lib\\site-packages (from cffi>=1.14->trio~=0.17->selenium) (2.20)\n",
      "Requirement already satisfied: wsproto>=0.14 in c:\\programdata\\anaconda3\\lib\\site-packages (from trio-websocket~=0.9->selenium) (1.0.0)\n",
      "Requirement already satisfied: cryptography>=1.3.4 in c:\\programdata\\anaconda3\\lib\\site-packages (from urllib3[secure]~=1.26->selenium) (3.4.7)\n",
      "Requirement already satisfied: pyOpenSSL>=0.14 in c:\\programdata\\anaconda3\\lib\\site-packages (from urllib3[secure]~=1.26->selenium) (20.0.1)\n",
      "Requirement already satisfied: certifi in c:\\programdata\\anaconda3\\lib\\site-packages (from urllib3[secure]~=1.26->selenium) (2020.12.5)\n",
      "Requirement already satisfied: six>=1.5.2 in c:\\programdata\\anaconda3\\lib\\site-packages (from pyOpenSSL>=0.14->urllib3[secure]~=1.26->selenium) (1.15.0)\n",
      "Requirement already satisfied: h11<1,>=0.9.0 in c:\\programdata\\anaconda3\\lib\\site-packages (from wsproto>=0.14->trio-websocket~=0.9->selenium) (0.12.0)\n"
     ]
    }
   ],
   "source": [
    "!pip install selenium"
   ]
  },
  {
   "cell_type": "code",
   "execution_count": 2,
   "id": "3d9eaa1c",
   "metadata": {},
   "outputs": [],
   "source": [
    "import selenium\n",
    "from selenium import webdriver\n",
    "import pandas as pd \n",
    "import warnings\n",
    "warnings.filterwarnings(\"ignore\")"
   ]
  },
  {
   "cell_type": "code",
   "execution_count": 7,
   "id": "c74c342d",
   "metadata": {},
   "outputs": [],
   "source": [
    "driver = webdriver.Chrome(r'C:\\Users\\PC\\Downloads\\chromedriver_win32\\chromedriver.exe')"
   ]
  },
  {
   "cell_type": "code",
   "execution_count": 8,
   "id": "98e1a64a",
   "metadata": {},
   "outputs": [],
   "source": [
    "url ='https://www.myntra.com/shoes'\n",
    "driver.get(url)"
   ]
  },
  {
   "cell_type": "code",
   "execution_count": 13,
   "id": "cf45091e",
   "metadata": {},
   "outputs": [
    {
     "data": {
      "text/plain": [
       "[<selenium.webdriver.remote.webelement.WebElement (session=\"baa8344639c7b98ed6f193692e129019\", element=\"3ad46a95-2542-4d6e-abdc-dadece1fafc1\")>]"
      ]
     },
     "execution_count": 13,
     "metadata": {},
     "output_type": "execute_result"
    }
   ],
   "source": [
    "price = driver.find_elements_by_xpath('/html/body/div[2]/div/div/main/div[3]/div[1]/section/div/div[5]/ul/li[2]/label')\n",
    "len(price)\n",
    "price[0:1]"
   ]
  },
  {
   "cell_type": "code",
   "execution_count": 14,
   "id": "bdbef270",
   "metadata": {},
   "outputs": [
    {
     "data": {
      "text/plain": [
       "['Rs. 7149 to Rs. 14099']"
      ]
     },
     "execution_count": 14,
     "metadata": {},
     "output_type": "execute_result"
    }
   ],
   "source": [
    "prices=[]\n",
    "\n",
    "for i in price:\n",
    "    prices.append(i.text)\n",
    "prices[0:1]    "
   ]
  },
  {
   "cell_type": "code",
   "execution_count": 15,
   "id": "2a81458f",
   "metadata": {},
   "outputs": [
    {
     "data": {
      "text/plain": [
       "[<selenium.webdriver.remote.webelement.WebElement (session=\"baa8344639c7b98ed6f193692e129019\", element=\"81d62c6b-a6da-4403-a837-be65c8d46cb7\")>]"
      ]
     },
     "execution_count": 15,
     "metadata": {},
     "output_type": "execute_result"
    }
   ],
   "source": [
    "colour = driver.find_elements_by_xpath('/html/body/div[2]/div/div/main/div[3]/div[1]/section/div/div[6]/ul/li[1]/label')\n",
    "len(price)\n",
    "colour[0:1]"
   ]
  },
  {
   "cell_type": "code",
   "execution_count": 16,
   "id": "ab6ce8f6",
   "metadata": {},
   "outputs": [
    {
     "data": {
      "text/plain": [
       "['Black (536)']"
      ]
     },
     "execution_count": 16,
     "metadata": {},
     "output_type": "execute_result"
    }
   ],
   "source": [
    "colours=[]\n",
    "for i in colour:\n",
    "    colours.append(i.text)\n",
    "colours[0:1]    "
   ]
  },
  {
   "cell_type": "code",
   "execution_count": 18,
   "id": "bcdf5012",
   "metadata": {},
   "outputs": [
    {
     "data": {
      "text/plain": [
       "[<selenium.webdriver.remote.webelement.WebElement (session=\"baa8344639c7b98ed6f193692e129019\", element=\"06b0f765-778c-4f23-a6a0-affea5dd2944\")>,\n",
       " <selenium.webdriver.remote.webelement.WebElement (session=\"baa8344639c7b98ed6f193692e129019\", element=\"cf267d15-9043-40ed-9e11-b881e69a77fd\")>,\n",
       " <selenium.webdriver.remote.webelement.WebElement (session=\"baa8344639c7b98ed6f193692e129019\", element=\"d29e90db-5b12-48dc-82d3-9ee277d0dd31\")>,\n",
       " <selenium.webdriver.remote.webelement.WebElement (session=\"baa8344639c7b98ed6f193692e129019\", element=\"e1e1f0ce-baed-4d30-80eb-8685cfbf0069\")>,\n",
       " <selenium.webdriver.remote.webelement.WebElement (session=\"baa8344639c7b98ed6f193692e129019\", element=\"1b6da4a7-51c6-467a-a057-d6ad1f6473eb\")>,\n",
       " <selenium.webdriver.remote.webelement.WebElement (session=\"baa8344639c7b98ed6f193692e129019\", element=\"665f6513-a1bd-49f8-9b00-8eeb80b51c9e\")>,\n",
       " <selenium.webdriver.remote.webelement.WebElement (session=\"baa8344639c7b98ed6f193692e129019\", element=\"047238ab-7f7d-4044-a250-8750559ecf06\")>,\n",
       " <selenium.webdriver.remote.webelement.WebElement (session=\"baa8344639c7b98ed6f193692e129019\", element=\"4edb18ed-082b-4606-9630-a1c50f623999\")>,\n",
       " <selenium.webdriver.remote.webelement.WebElement (session=\"baa8344639c7b98ed6f193692e129019\", element=\"1bbd6f91-a7c6-4db5-8df5-b54119f6cabf\")>,\n",
       " <selenium.webdriver.remote.webelement.WebElement (session=\"baa8344639c7b98ed6f193692e129019\", element=\"4958e911-0d36-431c-a6d1-3f8ae558e0ef\")>,\n",
       " <selenium.webdriver.remote.webelement.WebElement (session=\"baa8344639c7b98ed6f193692e129019\", element=\"4b759ac2-7938-4418-977d-67a63f5eeaf5\")>,\n",
       " <selenium.webdriver.remote.webelement.WebElement (session=\"baa8344639c7b98ed6f193692e129019\", element=\"1f2b095e-3321-41ff-89f4-009534278133\")>,\n",
       " <selenium.webdriver.remote.webelement.WebElement (session=\"baa8344639c7b98ed6f193692e129019\", element=\"974b0ca2-6aca-40f3-9d8e-a0c893744583\")>,\n",
       " <selenium.webdriver.remote.webelement.WebElement (session=\"baa8344639c7b98ed6f193692e129019\", element=\"0c5d922b-273a-4d57-bf81-e720a7561577\")>,\n",
       " <selenium.webdriver.remote.webelement.WebElement (session=\"baa8344639c7b98ed6f193692e129019\", element=\"bb5c9d89-4be0-4545-94b1-3c6bc8c913d2\")>,\n",
       " <selenium.webdriver.remote.webelement.WebElement (session=\"baa8344639c7b98ed6f193692e129019\", element=\"0f8a01af-10ea-4667-9ce5-2b1290f1a290\")>,\n",
       " <selenium.webdriver.remote.webelement.WebElement (session=\"baa8344639c7b98ed6f193692e129019\", element=\"108edd69-bc82-4d93-9162-048768048fbf\")>,\n",
       " <selenium.webdriver.remote.webelement.WebElement (session=\"baa8344639c7b98ed6f193692e129019\", element=\"98aada9c-df0e-4c5c-bb3d-f165e30662ab\")>,\n",
       " <selenium.webdriver.remote.webelement.WebElement (session=\"baa8344639c7b98ed6f193692e129019\", element=\"0b17197e-37a4-450e-9dbc-5aa53be9c63a\")>,\n",
       " <selenium.webdriver.remote.webelement.WebElement (session=\"baa8344639c7b98ed6f193692e129019\", element=\"6cc2f6a4-0454-4da9-b6d8-dfedbd319a8a\")>,\n",
       " <selenium.webdriver.remote.webelement.WebElement (session=\"baa8344639c7b98ed6f193692e129019\", element=\"e77a1699-382b-4d16-91c7-312311255005\")>,\n",
       " <selenium.webdriver.remote.webelement.WebElement (session=\"baa8344639c7b98ed6f193692e129019\", element=\"2e7c7432-807a-43b8-8046-18e0cbf69624\")>,\n",
       " <selenium.webdriver.remote.webelement.WebElement (session=\"baa8344639c7b98ed6f193692e129019\", element=\"3d123223-b364-45f8-9c96-1917c1e40776\")>,\n",
       " <selenium.webdriver.remote.webelement.WebElement (session=\"baa8344639c7b98ed6f193692e129019\", element=\"f87d5bbb-7033-46ff-9c85-38e22c72316b\")>,\n",
       " <selenium.webdriver.remote.webelement.WebElement (session=\"baa8344639c7b98ed6f193692e129019\", element=\"2d4fb7bd-2732-48af-bd54-83c0ec0379f3\")>,\n",
       " <selenium.webdriver.remote.webelement.WebElement (session=\"baa8344639c7b98ed6f193692e129019\", element=\"90df832e-e141-4408-8dbd-994d80900249\")>,\n",
       " <selenium.webdriver.remote.webelement.WebElement (session=\"baa8344639c7b98ed6f193692e129019\", element=\"b0ed4b28-6b8b-4428-8925-2a3244b831fc\")>,\n",
       " <selenium.webdriver.remote.webelement.WebElement (session=\"baa8344639c7b98ed6f193692e129019\", element=\"403e2746-49d3-4e66-836f-2f6784f01169\")>,\n",
       " <selenium.webdriver.remote.webelement.WebElement (session=\"baa8344639c7b98ed6f193692e129019\", element=\"181db453-81bf-4070-8543-703348518132\")>,\n",
       " <selenium.webdriver.remote.webelement.WebElement (session=\"baa8344639c7b98ed6f193692e129019\", element=\"62caf875-a702-4891-a49f-c8cc1f48a586\")>,\n",
       " <selenium.webdriver.remote.webelement.WebElement (session=\"baa8344639c7b98ed6f193692e129019\", element=\"c07d8184-257a-41f5-bfb0-cb9b0ebb3568\")>,\n",
       " <selenium.webdriver.remote.webelement.WebElement (session=\"baa8344639c7b98ed6f193692e129019\", element=\"0eb56703-d4db-4070-8eb4-84d21f35c364\")>,\n",
       " <selenium.webdriver.remote.webelement.WebElement (session=\"baa8344639c7b98ed6f193692e129019\", element=\"6830feb9-e6b5-40fc-9902-9e5a16d3c20f\")>,\n",
       " <selenium.webdriver.remote.webelement.WebElement (session=\"baa8344639c7b98ed6f193692e129019\", element=\"ad029faa-55cb-4664-b18a-ea05d19fb61d\")>,\n",
       " <selenium.webdriver.remote.webelement.WebElement (session=\"baa8344639c7b98ed6f193692e129019\", element=\"be829729-7559-4f95-b0d7-c11afa2ad1c7\")>,\n",
       " <selenium.webdriver.remote.webelement.WebElement (session=\"baa8344639c7b98ed6f193692e129019\", element=\"e4a9c26c-bdc1-42c5-af5b-2bc193fbf0da\")>,\n",
       " <selenium.webdriver.remote.webelement.WebElement (session=\"baa8344639c7b98ed6f193692e129019\", element=\"3c96295f-0841-407b-a589-b09622de3cae\")>,\n",
       " <selenium.webdriver.remote.webelement.WebElement (session=\"baa8344639c7b98ed6f193692e129019\", element=\"238182ee-23f5-4791-b965-d1ac06afbb96\")>,\n",
       " <selenium.webdriver.remote.webelement.WebElement (session=\"baa8344639c7b98ed6f193692e129019\", element=\"d06192cc-5118-4558-a4f5-dcb6896a2277\")>,\n",
       " <selenium.webdriver.remote.webelement.WebElement (session=\"baa8344639c7b98ed6f193692e129019\", element=\"c0daeb19-fb13-45ad-985c-ed77314f9230\")>,\n",
       " <selenium.webdriver.remote.webelement.WebElement (session=\"baa8344639c7b98ed6f193692e129019\", element=\"4e0c0139-2675-45a6-9d87-71437980bc1a\")>,\n",
       " <selenium.webdriver.remote.webelement.WebElement (session=\"baa8344639c7b98ed6f193692e129019\", element=\"07fd9e89-e4c5-4f26-83f8-84309f563e97\")>,\n",
       " <selenium.webdriver.remote.webelement.WebElement (session=\"baa8344639c7b98ed6f193692e129019\", element=\"069bab8e-620a-48a4-827d-75c23300cb6f\")>,\n",
       " <selenium.webdriver.remote.webelement.WebElement (session=\"baa8344639c7b98ed6f193692e129019\", element=\"92132e19-4ca4-4243-a74e-1aaf1eb8fcb7\")>,\n",
       " <selenium.webdriver.remote.webelement.WebElement (session=\"baa8344639c7b98ed6f193692e129019\", element=\"ea463baf-0b36-49a0-9903-683e84dc8d04\")>,\n",
       " <selenium.webdriver.remote.webelement.WebElement (session=\"baa8344639c7b98ed6f193692e129019\", element=\"80a80444-e5c3-46e0-bac9-afd1641577a2\")>,\n",
       " <selenium.webdriver.remote.webelement.WebElement (session=\"baa8344639c7b98ed6f193692e129019\", element=\"706f93f3-3c11-4917-bb10-e3a4cff6d3df\")>,\n",
       " <selenium.webdriver.remote.webelement.WebElement (session=\"baa8344639c7b98ed6f193692e129019\", element=\"04239c22-ed5f-457a-883f-3cc0e49b143f\")>,\n",
       " <selenium.webdriver.remote.webelement.WebElement (session=\"baa8344639c7b98ed6f193692e129019\", element=\"f1ce310b-4826-4a3e-89a1-1bcc5ebea534\")>,\n",
       " <selenium.webdriver.remote.webelement.WebElement (session=\"baa8344639c7b98ed6f193692e129019\", element=\"57091837-22e5-4e1e-8089-26b421c132e0\")>]"
      ]
     },
     "execution_count": 18,
     "metadata": {},
     "output_type": "execute_result"
    }
   ],
   "source": [
    "brand = driver.find_elements_by_xpath('//h3[@class=\"product-brand\"]')\n",
    "len(brand)\n",
    "brand[0:100]"
   ]
  },
  {
   "cell_type": "code",
   "execution_count": 19,
   "id": "ddff7dfa",
   "metadata": {},
   "outputs": [
    {
     "data": {
      "text/plain": [
       "['Puma',\n",
       " 'Puma',\n",
       " 'Puma',\n",
       " 'Saint G',\n",
       " 'Puma',\n",
       " 'RARE RABBIT',\n",
       " 'Cole Haan',\n",
       " 'Calvin Klein',\n",
       " 'ASICS',\n",
       " 'Bugatti',\n",
       " 'Bugatti',\n",
       " 'Saint G',\n",
       " 'DAVINCHI',\n",
       " 'DAVINCHI',\n",
       " 'Saint G',\n",
       " 'Geox',\n",
       " 'RARE RABBIT',\n",
       " 'Heel & Buckle London',\n",
       " 'Saint G',\n",
       " 'Saint G',\n",
       " 'Saint G',\n",
       " 'Geox',\n",
       " 'Puma',\n",
       " 'Tommy Hilfiger',\n",
       " 'Bugatti',\n",
       " 'J.FONTINI',\n",
       " 'J.FONTINI',\n",
       " 'Louis Philippe',\n",
       " 'Xtep',\n",
       " 'J.FONTINI',\n",
       " 'DAVINCHI',\n",
       " 'DAVINCHI',\n",
       " 'Geox',\n",
       " 'DAVINCHI',\n",
       " 'Geox',\n",
       " 'Geox',\n",
       " 'Pavers England',\n",
       " 'Saint G',\n",
       " 'Cole Haan',\n",
       " 'Geox',\n",
       " 'Cole Haan',\n",
       " 'DAVINCHI',\n",
       " 'Pavers England',\n",
       " 'Saint G',\n",
       " 'Pavers England',\n",
       " 'Saint G',\n",
       " 'Pavers England',\n",
       " 'Geox',\n",
       " 'Saint G',\n",
       " 'Saint G']"
      ]
     },
     "execution_count": 19,
     "metadata": {},
     "output_type": "execute_result"
    }
   ],
   "source": [
    "brands = []\n",
    "\n",
    "for i in brand:\n",
    "    brands.append(i.text)\n",
    "brands[0:100]    "
   ]
  },
  {
   "cell_type": "code",
   "execution_count": 20,
   "id": "d6134c80",
   "metadata": {},
   "outputs": [
    {
     "data": {
      "text/plain": [
       "[<selenium.webdriver.remote.webelement.WebElement (session=\"baa8344639c7b98ed6f193692e129019\", element=\"458107b0-ac3a-41cb-a733-cb5b0cce0fd5\")>,\n",
       " <selenium.webdriver.remote.webelement.WebElement (session=\"baa8344639c7b98ed6f193692e129019\", element=\"b3a1bee9-5f91-4328-a5db-9c4b7f9c4900\")>,\n",
       " <selenium.webdriver.remote.webelement.WebElement (session=\"baa8344639c7b98ed6f193692e129019\", element=\"308844ee-9636-4187-b868-0c3a044b1c03\")>,\n",
       " <selenium.webdriver.remote.webelement.WebElement (session=\"baa8344639c7b98ed6f193692e129019\", element=\"87cd6814-8f08-4679-8128-0e699be40e64\")>,\n",
       " <selenium.webdriver.remote.webelement.WebElement (session=\"baa8344639c7b98ed6f193692e129019\", element=\"83e62102-6f13-40d0-83bb-e028cd45c613\")>,\n",
       " <selenium.webdriver.remote.webelement.WebElement (session=\"baa8344639c7b98ed6f193692e129019\", element=\"06aa76e6-e142-4eb0-a20d-f9e1dcbf3ac7\")>,\n",
       " <selenium.webdriver.remote.webelement.WebElement (session=\"baa8344639c7b98ed6f193692e129019\", element=\"e6c03c29-604a-4379-9138-759e5bd207eb\")>,\n",
       " <selenium.webdriver.remote.webelement.WebElement (session=\"baa8344639c7b98ed6f193692e129019\", element=\"3186e91f-2cc9-4e78-a0b0-7d6effa085a5\")>,\n",
       " <selenium.webdriver.remote.webelement.WebElement (session=\"baa8344639c7b98ed6f193692e129019\", element=\"4d80ed37-8eb8-4997-8a09-9025157a4242\")>,\n",
       " <selenium.webdriver.remote.webelement.WebElement (session=\"baa8344639c7b98ed6f193692e129019\", element=\"b264afa2-d2ae-40bd-869c-a689060d27de\")>,\n",
       " <selenium.webdriver.remote.webelement.WebElement (session=\"baa8344639c7b98ed6f193692e129019\", element=\"12d5d4bc-7cf9-4758-9fef-d4225e66ee68\")>,\n",
       " <selenium.webdriver.remote.webelement.WebElement (session=\"baa8344639c7b98ed6f193692e129019\", element=\"f4abbb07-942a-4f34-b933-7d8d21e134ea\")>,\n",
       " <selenium.webdriver.remote.webelement.WebElement (session=\"baa8344639c7b98ed6f193692e129019\", element=\"b72a9ac0-50da-44d6-bf65-b8c29ceedd9e\")>,\n",
       " <selenium.webdriver.remote.webelement.WebElement (session=\"baa8344639c7b98ed6f193692e129019\", element=\"df94939f-56f5-4d88-a536-cef436c3a8e6\")>,\n",
       " <selenium.webdriver.remote.webelement.WebElement (session=\"baa8344639c7b98ed6f193692e129019\", element=\"715f4403-acc7-4e7d-8c8e-afc4d158e7d9\")>,\n",
       " <selenium.webdriver.remote.webelement.WebElement (session=\"baa8344639c7b98ed6f193692e129019\", element=\"120c86c0-02f3-4614-93fd-0ae7e686052a\")>,\n",
       " <selenium.webdriver.remote.webelement.WebElement (session=\"baa8344639c7b98ed6f193692e129019\", element=\"b89457b2-dc23-4160-a8ec-f9534848b339\")>,\n",
       " <selenium.webdriver.remote.webelement.WebElement (session=\"baa8344639c7b98ed6f193692e129019\", element=\"0da0f507-c00e-4fc2-a9c0-e77799eb4006\")>,\n",
       " <selenium.webdriver.remote.webelement.WebElement (session=\"baa8344639c7b98ed6f193692e129019\", element=\"f9936581-5f8a-40ac-8d7d-b8d7808b7c2e\")>,\n",
       " <selenium.webdriver.remote.webelement.WebElement (session=\"baa8344639c7b98ed6f193692e129019\", element=\"1e433172-ad8f-4fe5-8cb8-d449653af9f9\")>,\n",
       " <selenium.webdriver.remote.webelement.WebElement (session=\"baa8344639c7b98ed6f193692e129019\", element=\"69144d33-7801-47bf-bd5c-ee9a13766a9d\")>,\n",
       " <selenium.webdriver.remote.webelement.WebElement (session=\"baa8344639c7b98ed6f193692e129019\", element=\"ebf28929-c85b-4541-9e97-a9a1fdbc021d\")>,\n",
       " <selenium.webdriver.remote.webelement.WebElement (session=\"baa8344639c7b98ed6f193692e129019\", element=\"2fe372ba-f09d-4af1-9f57-e9e22434ca4b\")>,\n",
       " <selenium.webdriver.remote.webelement.WebElement (session=\"baa8344639c7b98ed6f193692e129019\", element=\"a98ef764-5f97-4c93-96e3-60c6e56d6900\")>,\n",
       " <selenium.webdriver.remote.webelement.WebElement (session=\"baa8344639c7b98ed6f193692e129019\", element=\"8b506436-cbcc-4f7a-99cb-68e1cf471b06\")>,\n",
       " <selenium.webdriver.remote.webelement.WebElement (session=\"baa8344639c7b98ed6f193692e129019\", element=\"768be04d-1e2c-488a-8186-375363140f83\")>,\n",
       " <selenium.webdriver.remote.webelement.WebElement (session=\"baa8344639c7b98ed6f193692e129019\", element=\"06fb0520-9e41-42a9-9503-2994b469c737\")>,\n",
       " <selenium.webdriver.remote.webelement.WebElement (session=\"baa8344639c7b98ed6f193692e129019\", element=\"389b3aa4-c61c-497b-94be-b52688d2f058\")>,\n",
       " <selenium.webdriver.remote.webelement.WebElement (session=\"baa8344639c7b98ed6f193692e129019\", element=\"d673fce2-f971-48e7-9ae8-4aeb16b57633\")>,\n",
       " <selenium.webdriver.remote.webelement.WebElement (session=\"baa8344639c7b98ed6f193692e129019\", element=\"40cd92a1-34e5-49c1-a25f-000acf628a48\")>,\n",
       " <selenium.webdriver.remote.webelement.WebElement (session=\"baa8344639c7b98ed6f193692e129019\", element=\"aca95e02-f558-4e37-96e5-f9204737539a\")>,\n",
       " <selenium.webdriver.remote.webelement.WebElement (session=\"baa8344639c7b98ed6f193692e129019\", element=\"1afaca42-437d-40a0-8f7d-ab39d72ab27f\")>,\n",
       " <selenium.webdriver.remote.webelement.WebElement (session=\"baa8344639c7b98ed6f193692e129019\", element=\"a5def3b8-376e-4218-a988-cef870480566\")>,\n",
       " <selenium.webdriver.remote.webelement.WebElement (session=\"baa8344639c7b98ed6f193692e129019\", element=\"56aa37c0-02a0-4567-8bd1-edaac57be46b\")>,\n",
       " <selenium.webdriver.remote.webelement.WebElement (session=\"baa8344639c7b98ed6f193692e129019\", element=\"8f21d279-0345-495f-8a1d-e9c27610b6e4\")>,\n",
       " <selenium.webdriver.remote.webelement.WebElement (session=\"baa8344639c7b98ed6f193692e129019\", element=\"40d100dd-444a-4e35-ae9d-0f6d3ead83d5\")>,\n",
       " <selenium.webdriver.remote.webelement.WebElement (session=\"baa8344639c7b98ed6f193692e129019\", element=\"639b51ab-2381-4c48-bede-2e527904ba24\")>,\n",
       " <selenium.webdriver.remote.webelement.WebElement (session=\"baa8344639c7b98ed6f193692e129019\", element=\"92e9cd06-a953-4bcb-ad7c-b28dc8a893b6\")>,\n",
       " <selenium.webdriver.remote.webelement.WebElement (session=\"baa8344639c7b98ed6f193692e129019\", element=\"1fdb7553-a38a-4bab-a080-937ffd072e51\")>,\n",
       " <selenium.webdriver.remote.webelement.WebElement (session=\"baa8344639c7b98ed6f193692e129019\", element=\"767cbee2-88df-4806-abe8-4cbe2dec4e51\")>,\n",
       " <selenium.webdriver.remote.webelement.WebElement (session=\"baa8344639c7b98ed6f193692e129019\", element=\"481adc3a-8751-4c00-a897-367972438528\")>,\n",
       " <selenium.webdriver.remote.webelement.WebElement (session=\"baa8344639c7b98ed6f193692e129019\", element=\"35da9b96-c096-42e5-9d45-50ec09ac76bd\")>,\n",
       " <selenium.webdriver.remote.webelement.WebElement (session=\"baa8344639c7b98ed6f193692e129019\", element=\"6262275e-a0b4-4edb-8dde-e21f269f5eab\")>,\n",
       " <selenium.webdriver.remote.webelement.WebElement (session=\"baa8344639c7b98ed6f193692e129019\", element=\"e9d42fbf-10c3-4476-a419-68d9a5ea9398\")>,\n",
       " <selenium.webdriver.remote.webelement.WebElement (session=\"baa8344639c7b98ed6f193692e129019\", element=\"0736999f-20b9-4b18-9127-9ce080061597\")>,\n",
       " <selenium.webdriver.remote.webelement.WebElement (session=\"baa8344639c7b98ed6f193692e129019\", element=\"ce9ee247-bcb2-48b3-ab3a-a5d316be3f4f\")>,\n",
       " <selenium.webdriver.remote.webelement.WebElement (session=\"baa8344639c7b98ed6f193692e129019\", element=\"66e1bd5d-fd1a-4224-b06c-7a706cc15358\")>,\n",
       " <selenium.webdriver.remote.webelement.WebElement (session=\"baa8344639c7b98ed6f193692e129019\", element=\"5a7436ed-18f2-4e95-ac34-480dd94f71fb\")>,\n",
       " <selenium.webdriver.remote.webelement.WebElement (session=\"baa8344639c7b98ed6f193692e129019\", element=\"c5db6343-1dc7-4a2b-bad6-d4d23b8140cd\")>,\n",
       " <selenium.webdriver.remote.webelement.WebElement (session=\"baa8344639c7b98ed6f193692e129019\", element=\"3cb1a0c0-9c7d-4ee9-ab4e-46c6441de95d\")>]"
      ]
     },
     "execution_count": 20,
     "metadata": {},
     "output_type": "execute_result"
    }
   ],
   "source": [
    "description = driver.find_elements_by_xpath('//h4[@class=\"product-product\"]')\n",
    "len(description)\n",
    "description[0:100]"
   ]
  },
  {
   "cell_type": "code",
   "execution_count": 21,
   "id": "be5e9fb0",
   "metadata": {},
   "outputs": [
    {
     "data": {
      "text/plain": [
       "['Men Magnify Nitro Running',\n",
       " 'Men Running Shoes',\n",
       " 'Men Electrify Nitro Running',\n",
       " 'Men Mid-Top Chelsea Boots',\n",
       " 'Women Magnify Nitro Shoes',\n",
       " 'Men Leather Flat Boots',\n",
       " 'Men GENERATION ZEROGRAND STITCHLITE',\n",
       " 'Men Solid Suede Sneakers',\n",
       " 'Men Colourblocked PU Sneakers',\n",
       " 'Men Running Shoes',\n",
       " 'Men Textured Leather High-Top Flat Boots',\n",
       " 'Men Leather Chelsea Boots',\n",
       " 'Men Solid Leather Formal Derbys',\n",
       " 'Men Textured Formal Leather Loafers',\n",
       " 'Women Leather Loafers',\n",
       " 'Men Leather Flat Boots',\n",
       " 'Men Textured Leather Loafers',\n",
       " 'Men Formal Leather Derby',\n",
       " 'Leather Wedge Heeled Boots with Buckles',\n",
       " 'Suede High-Top Flatform Heeled Boots',\n",
       " 'Embellished Leather Block Heeled Boots',\n",
       " 'Women Leather Pumps',\n",
       " 'Women Velocity NITRO Runners',\n",
       " 'Women Hybrid Leather Sneakers',\n",
       " 'Men Black Walking Shoes',\n",
       " 'Men Textured Leather Loafers',\n",
       " 'Men Textured Leather Loafers',\n",
       " 'Men Leather Formal Slip-Ons',\n",
       " 'Men Running Shoes',\n",
       " 'Men Black Leather Loafers',\n",
       " 'Ustraa black',\n",
       " 'Men Formal Leather Slip-Ons',\n",
       " 'Men Leather Loafers',\n",
       " 'Men Textured Formal Leather Loafers',\n",
       " 'Women Solid Leather Pumps',\n",
       " 'Women Solid Leather Pumps',\n",
       " 'Men Leather Driving Shoes',\n",
       " 'Women Leather Heeled Boots',\n",
       " 'Women Open Toe Flats',\n",
       " 'Women Solid Leather Ballerinas',\n",
       " 'Women Solid Leather Ballerinas',\n",
       " 'Men Textured Leather Formal Slip-Ons',\n",
       " 'Men Solid Leather Formal Loafers',\n",
       " 'Leather Block Heeled Boots',\n",
       " 'Men Textured Leather Formal Slip-On Shoes',\n",
       " 'Leather Kitten Heeled Boots',\n",
       " 'Men Solid Leather Formal Derbys',\n",
       " 'Women Chunky Sneakers',\n",
       " 'Leather Block Heeled Boots with Bows',\n",
       " 'Suede Party High-Top Block Heeled Boots']"
      ]
     },
     "execution_count": 21,
     "metadata": {},
     "output_type": "execute_result"
    }
   ],
   "source": [
    "descriptions = []\n",
    "\n",
    "for i in description:\n",
    "    descriptions.append(i.text)\n",
    "descriptions[0:100]    "
   ]
  },
  {
   "cell_type": "code",
   "execution_count": 22,
   "id": "6e5ce988",
   "metadata": {},
   "outputs": [
    {
     "data": {
      "text/plain": [
       "[<selenium.webdriver.remote.webelement.WebElement (session=\"baa8344639c7b98ed6f193692e129019\", element=\"db6e730b-7dbe-475f-a357-61a14cd55f59\")>,\n",
       " <selenium.webdriver.remote.webelement.WebElement (session=\"baa8344639c7b98ed6f193692e129019\", element=\"738be45f-1bd4-40d0-a3bd-b0c2d67df605\")>,\n",
       " <selenium.webdriver.remote.webelement.WebElement (session=\"baa8344639c7b98ed6f193692e129019\", element=\"30925bae-ebbf-4711-825b-9833f69f1199\")>,\n",
       " <selenium.webdriver.remote.webelement.WebElement (session=\"baa8344639c7b98ed6f193692e129019\", element=\"ed7ce13a-04af-4b9d-8383-b995b805a6ac\")>,\n",
       " <selenium.webdriver.remote.webelement.WebElement (session=\"baa8344639c7b98ed6f193692e129019\", element=\"fa174b50-0df8-4ab1-bf61-203eb1dfdc34\")>,\n",
       " <selenium.webdriver.remote.webelement.WebElement (session=\"baa8344639c7b98ed6f193692e129019\", element=\"2afdbf7c-c65d-4c7a-8c0d-c8d801ec4fb7\")>,\n",
       " <selenium.webdriver.remote.webelement.WebElement (session=\"baa8344639c7b98ed6f193692e129019\", element=\"d6a8c08f-5895-447c-acbc-b4a5c70b1101\")>,\n",
       " <selenium.webdriver.remote.webelement.WebElement (session=\"baa8344639c7b98ed6f193692e129019\", element=\"1f27ac1f-d527-493e-adef-b6993c37a87e\")>,\n",
       " <selenium.webdriver.remote.webelement.WebElement (session=\"baa8344639c7b98ed6f193692e129019\", element=\"75afaa25-b1eb-4c5d-be77-9241fb1046bb\")>,\n",
       " <selenium.webdriver.remote.webelement.WebElement (session=\"baa8344639c7b98ed6f193692e129019\", element=\"84b54faa-46c9-4e19-a2c9-cc266b991fb7\")>,\n",
       " <selenium.webdriver.remote.webelement.WebElement (session=\"baa8344639c7b98ed6f193692e129019\", element=\"88639f69-18c7-4273-bd58-e8564bc97b2b\")>,\n",
       " <selenium.webdriver.remote.webelement.WebElement (session=\"baa8344639c7b98ed6f193692e129019\", element=\"8ea23229-0bb1-4a89-b75d-0c8a38f008d4\")>,\n",
       " <selenium.webdriver.remote.webelement.WebElement (session=\"baa8344639c7b98ed6f193692e129019\", element=\"9869fe4f-12b9-4638-81ef-8ca7f1584b1a\")>,\n",
       " <selenium.webdriver.remote.webelement.WebElement (session=\"baa8344639c7b98ed6f193692e129019\", element=\"7a12ce4c-0b33-4dc0-8c7c-effaa3119616\")>,\n",
       " <selenium.webdriver.remote.webelement.WebElement (session=\"baa8344639c7b98ed6f193692e129019\", element=\"71bca834-4b42-461c-9f03-bfc1fd9dd61d\")>,\n",
       " <selenium.webdriver.remote.webelement.WebElement (session=\"baa8344639c7b98ed6f193692e129019\", element=\"352b7ec2-f117-4c5e-9dfc-e7d942d9755c\")>,\n",
       " <selenium.webdriver.remote.webelement.WebElement (session=\"baa8344639c7b98ed6f193692e129019\", element=\"2e8f4f4d-2be8-4323-87b0-8ecbb3120832\")>,\n",
       " <selenium.webdriver.remote.webelement.WebElement (session=\"baa8344639c7b98ed6f193692e129019\", element=\"b01d6e0a-9aa5-4ca1-a134-d3f03b75f3ec\")>,\n",
       " <selenium.webdriver.remote.webelement.WebElement (session=\"baa8344639c7b98ed6f193692e129019\", element=\"d6720394-dea2-4ff3-a239-b121a454e133\")>,\n",
       " <selenium.webdriver.remote.webelement.WebElement (session=\"baa8344639c7b98ed6f193692e129019\", element=\"5f2d1caf-9460-472f-9c0e-f0a4fb30722d\")>,\n",
       " <selenium.webdriver.remote.webelement.WebElement (session=\"baa8344639c7b98ed6f193692e129019\", element=\"425b6755-0860-4b55-9ba6-dd8fce3191d3\")>,\n",
       " <selenium.webdriver.remote.webelement.WebElement (session=\"baa8344639c7b98ed6f193692e129019\", element=\"6aa01e08-3637-4a57-88bc-dbdedef27eae\")>]"
      ]
     },
     "execution_count": 22,
     "metadata": {},
     "output_type": "execute_result"
    }
   ],
   "source": [
    "price = driver.find_elements_by_xpath('//span[@class=\"product-discountedPrice\"]')\n",
    "len(price)\n",
    "price[0:100]"
   ]
  },
  {
   "cell_type": "code",
   "execution_count": 23,
   "id": "c3dc5eed",
   "metadata": {},
   "outputs": [
    {
     "data": {
      "text/plain": [
       "['Rs. 8449',\n",
       " 'Rs. 7149',\n",
       " 'Rs. 7499',\n",
       " 'Rs. 9810',\n",
       " 'Rs. 8449',\n",
       " 'Rs. 7999',\n",
       " 'Rs. 7999',\n",
       " 'Rs. 8399',\n",
       " 'Rs. 10710',\n",
       " 'Rs. 7500',\n",
       " 'Rs. 8399',\n",
       " 'Rs. 7149',\n",
       " 'Rs. 13410',\n",
       " 'Rs. 12150',\n",
       " 'Rs. 9546',\n",
       " 'Rs. 7699',\n",
       " 'Rs. 7199',\n",
       " 'Rs. 10710',\n",
       " 'Rs. 8550',\n",
       " 'Rs. 8910',\n",
       " 'Rs. 12510',\n",
       " 'Rs. 9450']"
      ]
     },
     "execution_count": 23,
     "metadata": {},
     "output_type": "execute_result"
    }
   ],
   "source": [
    "prices = []\n",
    "\n",
    "for i in price:\n",
    "    prices.append(i.text)\n",
    "prices[0:100]    "
   ]
  },
  {
   "cell_type": "code",
   "execution_count": 24,
   "id": "2715f3d4",
   "metadata": {},
   "outputs": [],
   "source": [
    "driver = webdriver.Chrome(r'C:\\Users\\PC\\Downloads\\chromedriver_win32\\chromedriver.exe')"
   ]
  },
  {
   "cell_type": "code",
   "execution_count": 25,
   "id": "3baea966",
   "metadata": {},
   "outputs": [],
   "source": [
    "url ='https://www.amazon.in/'\n",
    "driver.get(url)"
   ]
  },
  {
   "cell_type": "code",
   "execution_count": 26,
   "id": "e635ac12",
   "metadata": {},
   "outputs": [
    {
     "data": {
      "text/plain": [
       "<selenium.webdriver.remote.webelement.WebElement (session=\"2140722c72614f08d20886afcbc34c12\", element=\"e5a060a5-6bbf-4d51-8021-f23c11f25916\")>"
      ]
     },
     "execution_count": 26,
     "metadata": {},
     "output_type": "execute_result"
    }
   ],
   "source": [
    "search = driver.find_element_by_id('twotabsearchtextbox')\n",
    "search"
   ]
  },
  {
   "cell_type": "code",
   "execution_count": 27,
   "id": "8af612b6",
   "metadata": {},
   "outputs": [],
   "source": [
    "search.send_keys(\"laptop\")"
   ]
  },
  {
   "cell_type": "code",
   "execution_count": 28,
   "id": "1cf7cfc7",
   "metadata": {},
   "outputs": [
    {
     "data": {
      "text/plain": [
       "<selenium.webdriver.remote.webelement.WebElement (session=\"2140722c72614f08d20886afcbc34c12\", element=\"192d60b9-456a-424b-abc5-5b54b4096998\")>"
      ]
     },
     "execution_count": 28,
     "metadata": {},
     "output_type": "execute_result"
    }
   ],
   "source": [
    "search_btn = driver.find_element_by_xpath('/html/body/div[1]/header/div/div[1]/div[2]/div/form/div[3]/div/span/input')\n",
    "search_btn"
   ]
  },
  {
   "cell_type": "code",
   "execution_count": 29,
   "id": "ceb82774",
   "metadata": {},
   "outputs": [],
   "source": [
    "search_btn.click()"
   ]
  },
  {
   "cell_type": "code",
   "execution_count": 30,
   "id": "f08e969a",
   "metadata": {},
   "outputs": [
    {
     "data": {
      "text/plain": [
       "[<selenium.webdriver.remote.webelement.WebElement (session=\"2140722c72614f08d20886afcbc34c12\", element=\"13154cc8-ae8c-42f9-95b0-aabde295cadb\")>]"
      ]
     },
     "execution_count": 30,
     "metadata": {},
     "output_type": "execute_result"
    }
   ],
   "source": [
    "cpu = driver.find_elements_by_xpath('/html/body/div[1]/div[2]/div[1]/div[2]/div/div[3]/span/div[1]/span/div/div/div[6]/ul[1]/li[2]/span/a/span')\n",
    "cpu"
   ]
  },
  {
   "cell_type": "code",
   "execution_count": 31,
   "id": "4ecabcb2",
   "metadata": {},
   "outputs": [
    {
     "data": {
      "text/plain": [
       "[<selenium.webdriver.remote.webelement.WebElement (session=\"2140722c72614f08d20886afcbc34c12\", element=\"13df042d-6fd3-43eb-accd-7e5d98810a45\")>]"
      ]
     },
     "execution_count": 31,
     "metadata": {},
     "output_type": "execute_result"
    }
   ],
   "source": [
    "cpu = driver.find_elements_by_xpath('/html/body/div[1]/div[2]/div[1]/div[2]/div/div[3]/span/div[1]/span/div/div/div[6]/ul[1]/li[13]/span/a/span')\n",
    "cpu"
   ]
  },
  {
   "cell_type": "code",
   "execution_count": 33,
   "id": "fdb12fbb",
   "metadata": {},
   "outputs": [
    {
     "data": {
      "text/plain": [
       "[<selenium.webdriver.remote.webelement.WebElement (session=\"2140722c72614f08d20886afcbc34c12\", element=\"67227133-6b68-4ee6-bd5e-2679f0e3ad87\")>,\n",
       " <selenium.webdriver.remote.webelement.WebElement (session=\"2140722c72614f08d20886afcbc34c12\", element=\"766c6a3c-9865-4015-95ab-81905ff96a36\")>,\n",
       " <selenium.webdriver.remote.webelement.WebElement (session=\"2140722c72614f08d20886afcbc34c12\", element=\"89b80077-0bd2-475e-bf15-fdc7262b8377\")>,\n",
       " <selenium.webdriver.remote.webelement.WebElement (session=\"2140722c72614f08d20886afcbc34c12\", element=\"cba253f5-7439-4b50-bd71-a1f626088a36\")>,\n",
       " <selenium.webdriver.remote.webelement.WebElement (session=\"2140722c72614f08d20886afcbc34c12\", element=\"63451ed1-632e-4480-9c9b-e0aa23cd6d26\")>,\n",
       " <selenium.webdriver.remote.webelement.WebElement (session=\"2140722c72614f08d20886afcbc34c12\", element=\"5f0b60e1-3155-4bd5-8d70-b8fc0cd2983c\")>,\n",
       " <selenium.webdriver.remote.webelement.WebElement (session=\"2140722c72614f08d20886afcbc34c12\", element=\"723aa2c6-3135-4cfe-8390-9f22fbdb9b8f\")>,\n",
       " <selenium.webdriver.remote.webelement.WebElement (session=\"2140722c72614f08d20886afcbc34c12\", element=\"205a2c8d-f82d-4a2e-8d79-e3e9c2f8fd0e\")>,\n",
       " <selenium.webdriver.remote.webelement.WebElement (session=\"2140722c72614f08d20886afcbc34c12\", element=\"07988406-eff2-47fb-9123-5d5e8e07c972\")>]"
      ]
     },
     "execution_count": 33,
     "metadata": {},
     "output_type": "execute_result"
    }
   ],
   "source": [
    "title = driver.find_elements_by_xpath('//div[@class=\"a-section a-spacing-none s-title-instructions-style\"]')\n",
    "len(title)\n",
    "title[0:10]"
   ]
  },
  {
   "cell_type": "code",
   "execution_count": 34,
   "id": "0c28544e",
   "metadata": {},
   "outputs": [
    {
     "data": {
      "text/plain": [
       "['ASUS TUF Gaming F15 (2021), 15.6-inch (39.62 cms) FHD 240Hz/3ms, Intel Core i9-11900H 11th Gen, RTX 3060 6GB Graphics Gaming Laptop (16GB/1TB SSD/Office 2019/Windows 10/Black/2.3 kg), FX506HM-AZ099TS',\n",
       " 'ASUS TUF Gaming F15 (2021), 15.6\" (39.62 cms) FHD 240Hz, Intel Core i9-11900H 11th Gen, GeForce RTX 3060 6GB Graphics, Gaming Laptop(16GB/1TB SSD/Office 2019/Windows 10/Gray/2.3 Kg), FX566HM-AZ096TS',\n",
       " 'ASUS TUF Gaming F15 (2021), 15.6-inch (39.62 cms) FHD 144Hz, Intel Core i9-11900H 11th Gen, RTX 3060 6GB Graphics Gaming Laptop (16GB RAM/1TB SSD/Office 2019/Windows 10/Gray/2.3 kg), FX566HM-HN097TS',\n",
       " 'Lenovo Legion 7 10th Gen Intel Core i9 15.6 inch Full HD Gaming Laptop (16GB/1TB SSD/Windows 10/MS Office 2019/144 Hz/NVIDIA RTX 2080 8GB GDDR6 Graphics/Slate Grey/2.25Kg), 81YU006HIN',\n",
       " 'Dell Precision 5550 || i9 -10885H || 16GB || 1TB NVMe || T2000 4 GB || Win 10 Pro (Free Upgrade Win 11Pro) / 15.6 FHD+ / 3 Year ADP',\n",
       " 'Dell G7 7500 15.6inch FHD 300 Hz Display Gaming Laptop (10th Gen i9-10885H / 16 GB / 1TB SSD / NVIDIA RTX 2070 8GB Graphics / 1Yr Premium Warranty / Win 10 + MS Office H&S 2019) D560233WIN9B, Black',\n",
       " '(Renewed) Dell G7 7500 15.6inch FHD 300 Hz Display Gaming Laptop (10th Gen i9-10885H / 16 GB / 1TB SSD / NVIDIA RTX 2070 8GB Graphics / 1Yr Premium Warranty / Win 10 + MS Office H&S 2019) D560233WIN9B, Black',\n",
       " 'HP ZBOOK Power G8/ Intel core i9-11900H 8 Core/32GB DDR4 3200 RAM/1TB PCIe NVMe TLC SSD /15.6” FHD /Nvidia Quadro T1200 Dedicated Graphics 4GB DDR6 /Windows 10 Pro / 3 Year Warranty',\n",
       " 'Z2 G5 Workstation 700W /Core i9-10900 (2.8GHz 10C) /16GB RAM/512GB SSD+1TB SATA/Nvidia RTX 3070 8GB Graphics/DVDRW/Windows 10 Pro/3 Year Warranty']"
      ]
     },
     "execution_count": 34,
     "metadata": {},
     "output_type": "execute_result"
    }
   ],
   "source": [
    "titles =[]\n",
    "\n",
    "for i in title:\n",
    "    titles.append(i.text)\n",
    "titles[0:10]    "
   ]
  },
  {
   "cell_type": "code",
   "execution_count": 35,
   "id": "4539a3a4",
   "metadata": {},
   "outputs": [
    {
     "data": {
      "text/plain": [
       "[<selenium.webdriver.remote.webelement.WebElement (session=\"2140722c72614f08d20886afcbc34c12\", element=\"9b63bf25-379a-41d4-bf8c-1f2ac3b753fc\")>,\n",
       " <selenium.webdriver.remote.webelement.WebElement (session=\"2140722c72614f08d20886afcbc34c12\", element=\"4057fcf3-ac1a-491a-98b0-cfc1a49f684f\")>,\n",
       " <selenium.webdriver.remote.webelement.WebElement (session=\"2140722c72614f08d20886afcbc34c12\", element=\"06ec49fe-deb5-4549-8b6d-2a62c0a5216d\")>]"
      ]
     },
     "execution_count": 35,
     "metadata": {},
     "output_type": "execute_result"
    }
   ],
   "source": [
    "rating = driver.find_elements_by_xpath('//i[@class=\"a-icon a-icon-star-small a-star-small-4 aok-align-bottom\"]')\n",
    "len(rating)\n",
    "rating[0:10]"
   ]
  },
  {
   "cell_type": "code",
   "execution_count": 36,
   "id": "450ceda2",
   "metadata": {},
   "outputs": [
    {
     "data": {
      "text/plain": [
       "['', '', '']"
      ]
     },
     "execution_count": 36,
     "metadata": {},
     "output_type": "execute_result"
    }
   ],
   "source": [
    "ratings = []\n",
    "\n",
    "for i in rating:\n",
    "    ratings.append(i.text)\n",
    "ratings[0:10]"
   ]
  },
  {
   "cell_type": "code",
   "execution_count": null,
   "id": "db4bcc5a",
   "metadata": {},
   "outputs": [],
   "source": [
    "price = driver.find_elements_by"
   ]
  }
 ],
 "metadata": {
  "kernelspec": {
   "display_name": "Python 3",
   "language": "python",
   "name": "python3"
  },
  "language_info": {
   "codemirror_mode": {
    "name": "ipython",
    "version": 3
   },
   "file_extension": ".py",
   "mimetype": "text/x-python",
   "name": "python",
   "nbconvert_exporter": "python",
   "pygments_lexer": "ipython3",
   "version": "3.8.8"
  }
 },
 "nbformat": 4,
 "nbformat_minor": 5
}
