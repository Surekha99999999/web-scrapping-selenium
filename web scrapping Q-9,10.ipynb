{
 "cells": [
  {
   "cell_type": "code",
   "execution_count": 1,
   "id": "3085b7c9",
   "metadata": {},
   "outputs": [
    {
     "name": "stdout",
     "output_type": "stream",
     "text": [
      "Requirement already satisfied: selenium in c:\\programdata\\anaconda3\\lib\\site-packages (4.1.0)\n",
      "Requirement already satisfied: trio~=0.17 in c:\\programdata\\anaconda3\\lib\\site-packages (from selenium) (0.19.0)\n",
      "Requirement already satisfied: trio-websocket~=0.9 in c:\\programdata\\anaconda3\\lib\\site-packages (from selenium) (0.9.2)\n",
      "Requirement already satisfied: urllib3[secure]~=1.26 in c:\\programdata\\anaconda3\\lib\\site-packages (from selenium) (1.26.4)\n",
      "Requirement already satisfied: cffi>=1.14 in c:\\programdata\\anaconda3\\lib\\site-packages (from trio~=0.17->selenium) (1.14.5)\n",
      "Requirement already satisfied: async-generator>=1.9 in c:\\programdata\\anaconda3\\lib\\site-packages (from trio~=0.17->selenium) (1.10)\n",
      "Requirement already satisfied: attrs>=19.2.0 in c:\\programdata\\anaconda3\\lib\\site-packages (from trio~=0.17->selenium) (20.3.0)\n",
      "Requirement already satisfied: sortedcontainers in c:\\programdata\\anaconda3\\lib\\site-packages (from trio~=0.17->selenium) (2.3.0)\n",
      "Requirement already satisfied: outcome in c:\\programdata\\anaconda3\\lib\\site-packages (from trio~=0.17->selenium) (1.1.0)\n",
      "Requirement already satisfied: sniffio in c:\\programdata\\anaconda3\\lib\\site-packages (from trio~=0.17->selenium) (1.2.0)\n",
      "Requirement already satisfied: idna in c:\\programdata\\anaconda3\\lib\\site-packages (from trio~=0.17->selenium) (2.10)\n",
      "Requirement already satisfied: pycparser in c:\\programdata\\anaconda3\\lib\\site-packages (from cffi>=1.14->trio~=0.17->selenium) (2.20)\n",
      "Requirement already satisfied: wsproto>=0.14 in c:\\programdata\\anaconda3\\lib\\site-packages (from trio-websocket~=0.9->selenium) (1.0.0)\n",
      "Requirement already satisfied: cryptography>=1.3.4 in c:\\programdata\\anaconda3\\lib\\site-packages (from urllib3[secure]~=1.26->selenium) (3.4.7)\n",
      "Requirement already satisfied: certifi in c:\\programdata\\anaconda3\\lib\\site-packages (from urllib3[secure]~=1.26->selenium) (2020.12.5)\n",
      "Requirement already satisfied: pyOpenSSL>=0.14 in c:\\programdata\\anaconda3\\lib\\site-packages (from urllib3[secure]~=1.26->selenium) (20.0.1)\n",
      "Requirement already satisfied: six>=1.5.2 in c:\\programdata\\anaconda3\\lib\\site-packages (from pyOpenSSL>=0.14->urllib3[secure]~=1.26->selenium) (1.15.0)\n",
      "Requirement already satisfied: h11<1,>=0.9.0 in c:\\programdata\\anaconda3\\lib\\site-packages (from wsproto>=0.14->trio-websocket~=0.9->selenium) (0.12.0)\n"
     ]
    }
   ],
   "source": [
    "!pip install selenium"
   ]
  },
  {
   "cell_type": "code",
   "execution_count": 2,
   "id": "aa84f47a",
   "metadata": {},
   "outputs": [],
   "source": [
    "import selenium\n",
    "from selenium import webdriver\n",
    "import pandas as pd \n",
    "import warnings\n",
    "warnings.filterwarnings(\"ignore\")"
   ]
  },
  {
   "cell_type": "code",
   "execution_count": 4,
   "id": "1940097a",
   "metadata": {},
   "outputs": [],
   "source": [
    "driver = webdriver.Chrome(r'C:\\Users\\PC\\Downloads\\chromedriver_win32\\chromedriver.exe')"
   ]
  },
  {
   "cell_type": "code",
   "execution_count": 5,
   "id": "02fe10f2",
   "metadata": {},
   "outputs": [],
   "source": [
    "url ='https://www.ambitionbox.com/'\n",
    "driver.get(url)"
   ]
  },
  {
   "cell_type": "code",
   "execution_count": 20,
   "id": "d1905417",
   "metadata": {},
   "outputs": [
    {
     "data": {
      "text/plain": [
       "<selenium.webdriver.remote.webelement.WebElement (session=\"bfb7bda3bc39dbcfc84c7ebe7dc3aa7e\", element=\"ead97246-0701-4fe3-923d-d9df2ef2c0fb\")>"
      ]
     },
     "execution_count": 20,
     "metadata": {},
     "output_type": "execute_result"
    }
   ],
   "source": [
    "search_job = driver.find_element_by_id(\"jobs-typeahead\")\n",
    "search_job"
   ]
  },
  {
   "cell_type": "code",
   "execution_count": 22,
   "id": "aeaee40b",
   "metadata": {},
   "outputs": [
    {
     "data": {
      "text/plain": [
       "[<selenium.webdriver.remote.webelement.WebElement (session=\"bfb7bda3bc39dbcfc84c7ebe7dc3aa7e\", element=\"a5db5a71-ce82-4c67-ab8d-5bd018e058f4\")>,\n",
       " <selenium.webdriver.remote.webelement.WebElement (session=\"bfb7bda3bc39dbcfc84c7ebe7dc3aa7e\", element=\"587f8d22-e04d-4839-8c18-458b248fced2\")>,\n",
       " <selenium.webdriver.remote.webelement.WebElement (session=\"bfb7bda3bc39dbcfc84c7ebe7dc3aa7e\", element=\"059f5aa3-a91d-4cad-b083-4b548cfdc1e7\")>,\n",
       " <selenium.webdriver.remote.webelement.WebElement (session=\"bfb7bda3bc39dbcfc84c7ebe7dc3aa7e\", element=\"ebaa5d81-985d-4953-91df-8141ccfcab11\")>,\n",
       " <selenium.webdriver.remote.webelement.WebElement (session=\"bfb7bda3bc39dbcfc84c7ebe7dc3aa7e\", element=\"a44d93fe-0c5e-41ed-bbd5-d6bf10794353\")>,\n",
       " <selenium.webdriver.remote.webelement.WebElement (session=\"bfb7bda3bc39dbcfc84c7ebe7dc3aa7e\", element=\"c66ead93-7fb3-4bf3-a2e9-0a6833f42515\")>,\n",
       " <selenium.webdriver.remote.webelement.WebElement (session=\"bfb7bda3bc39dbcfc84c7ebe7dc3aa7e\", element=\"feab7a2a-db6e-4581-a91d-6346bbc683ee\")>,\n",
       " <selenium.webdriver.remote.webelement.WebElement (session=\"bfb7bda3bc39dbcfc84c7ebe7dc3aa7e\", element=\"911c0d2f-7270-45eb-8f58-2978be2430b1\")>,\n",
       " <selenium.webdriver.remote.webelement.WebElement (session=\"bfb7bda3bc39dbcfc84c7ebe7dc3aa7e\", element=\"7e806c16-3d7a-4fae-b7bb-5f610780367f\")>,\n",
       " <selenium.webdriver.remote.webelement.WebElement (session=\"bfb7bda3bc39dbcfc84c7ebe7dc3aa7e\", element=\"3b827476-9750-4a37-a888-b99f8719d5fe\")>]"
      ]
     },
     "execution_count": 22,
     "metadata": {},
     "output_type": "execute_result"
    }
   ],
   "source": [
    "title_tags = driver.find_elements_by_xpath('//a[@class=\"title noclick\"]')\n",
    "len(title_tags)\n",
    "title_tags[0:10]"
   ]
  },
  {
   "cell_type": "code",
   "execution_count": 23,
   "id": "16895993",
   "metadata": {},
   "outputs": [
    {
     "data": {
      "text/plain": [
       "['Manager Data Scientist', 'Data Scientist', '', '', '', '', '', '', '', '']"
      ]
     },
     "execution_count": 23,
     "metadata": {},
     "output_type": "execute_result"
    }
   ],
   "source": [
    "job_titles = []\n",
    "\n",
    "for i in title_tags:\n",
    "    job_titles.append(i.text)\n",
    "job_titles[0:10]  "
   ]
  },
  {
   "cell_type": "code",
   "execution_count": 27,
   "id": "224e75d2",
   "metadata": {},
   "outputs": [
    {
     "data": {
      "text/plain": [
       "[<selenium.webdriver.remote.webelement.WebElement (session=\"bfb7bda3bc39dbcfc84c7ebe7dc3aa7e\", element=\"fe822dc7-05e0-4c24-9fe5-e201a4696801\")>,\n",
       " <selenium.webdriver.remote.webelement.WebElement (session=\"bfb7bda3bc39dbcfc84c7ebe7dc3aa7e\", element=\"4e5f6e6f-6b17-4e78-a669-9a9e67629ef2\")>,\n",
       " <selenium.webdriver.remote.webelement.WebElement (session=\"bfb7bda3bc39dbcfc84c7ebe7dc3aa7e\", element=\"7489d12d-da01-4650-87b3-2f25196dcedd\")>,\n",
       " <selenium.webdriver.remote.webelement.WebElement (session=\"bfb7bda3bc39dbcfc84c7ebe7dc3aa7e\", element=\"0e94a42f-83ea-4471-bcbb-6c69997c2572\")>,\n",
       " <selenium.webdriver.remote.webelement.WebElement (session=\"bfb7bda3bc39dbcfc84c7ebe7dc3aa7e\", element=\"18577d57-8c89-4eec-b5e8-acff121603fd\")>,\n",
       " <selenium.webdriver.remote.webelement.WebElement (session=\"bfb7bda3bc39dbcfc84c7ebe7dc3aa7e\", element=\"6e373f9b-3b94-4472-9c6e-b92d1c6adfe4\")>,\n",
       " <selenium.webdriver.remote.webelement.WebElement (session=\"bfb7bda3bc39dbcfc84c7ebe7dc3aa7e\", element=\"dab8d328-9a0e-4f12-968b-d49a72cddda0\")>,\n",
       " <selenium.webdriver.remote.webelement.WebElement (session=\"bfb7bda3bc39dbcfc84c7ebe7dc3aa7e\", element=\"ef54ef39-5874-4d7e-b1bb-95a543f872a9\")>,\n",
       " <selenium.webdriver.remote.webelement.WebElement (session=\"bfb7bda3bc39dbcfc84c7ebe7dc3aa7e\", element=\"8be7b691-b12f-4377-9ae6-3b80142051d5\")>,\n",
       " <selenium.webdriver.remote.webelement.WebElement (session=\"bfb7bda3bc39dbcfc84c7ebe7dc3aa7e\", element=\"5fc8e1d3-d78e-40a4-92a5-15d6fef1df7d\")>]"
      ]
     },
     "execution_count": 27,
     "metadata": {},
     "output_type": "execute_result"
    }
   ],
   "source": [
    "comp_name = driver.find_elements_by_xpath('//p[@class=\"company body-medium\"]')\n",
    "len(comp_name)\n",
    "comp_name[0:10]"
   ]
  },
  {
   "cell_type": "code",
   "execution_count": 28,
   "id": "2a392b7e",
   "metadata": {},
   "outputs": [
    {
     "data": {
      "text/plain": [
       "['Ameriprise Financial', '', '', '', '', '', '', '', '', '']"
      ]
     },
     "execution_count": 28,
     "metadata": {},
     "output_type": "execute_result"
    }
   ],
   "source": [
    "comp_names = []\n",
    "\n",
    "for i in comp_name:\n",
    "    comp_names.append(i.text)\n",
    "comp_names[0:10]    "
   ]
  },
  {
   "cell_type": "code",
   "execution_count": 29,
   "id": "15c2c7e6",
   "metadata": {},
   "outputs": [
    {
     "data": {
      "text/plain": [
       "[<selenium.webdriver.remote.webelement.WebElement (session=\"bfb7bda3bc39dbcfc84c7ebe7dc3aa7e\", element=\"109eabb8-2368-4490-87bc-fb0a1109cddc\")>,\n",
       " <selenium.webdriver.remote.webelement.WebElement (session=\"bfb7bda3bc39dbcfc84c7ebe7dc3aa7e\", element=\"6de74f69-29f5-4fa2-ac26-f0d208b967c3\")>,\n",
       " <selenium.webdriver.remote.webelement.WebElement (session=\"bfb7bda3bc39dbcfc84c7ebe7dc3aa7e\", element=\"241dc5b4-884c-4cf6-ab3c-760e4b5a2377\")>,\n",
       " <selenium.webdriver.remote.webelement.WebElement (session=\"bfb7bda3bc39dbcfc84c7ebe7dc3aa7e\", element=\"771b37af-42a3-4f59-8a71-66a96a3466bf\")>,\n",
       " <selenium.webdriver.remote.webelement.WebElement (session=\"bfb7bda3bc39dbcfc84c7ebe7dc3aa7e\", element=\"0b30e5bb-e99c-448d-ba4c-9cc039e520f8\")>,\n",
       " <selenium.webdriver.remote.webelement.WebElement (session=\"bfb7bda3bc39dbcfc84c7ebe7dc3aa7e\", element=\"ae1baed4-2f7d-4a10-a19e-3f8a1be9b2af\")>,\n",
       " <selenium.webdriver.remote.webelement.WebElement (session=\"bfb7bda3bc39dbcfc84c7ebe7dc3aa7e\", element=\"1ed9beb1-43de-4066-aca8-d0b4853226b0\")>,\n",
       " <selenium.webdriver.remote.webelement.WebElement (session=\"bfb7bda3bc39dbcfc84c7ebe7dc3aa7e\", element=\"317f83b1-de13-4d2b-9717-07d1b72cdd13\")>,\n",
       " <selenium.webdriver.remote.webelement.WebElement (session=\"bfb7bda3bc39dbcfc84c7ebe7dc3aa7e\", element=\"5644d479-13a1-4330-8d5a-6a227b52d186\")>,\n",
       " <selenium.webdriver.remote.webelement.WebElement (session=\"bfb7bda3bc39dbcfc84c7ebe7dc3aa7e\", element=\"b0099302-b3ab-4447-bd13-70e480e180ed\")>]"
      ]
     },
     "execution_count": 29,
     "metadata": {},
     "output_type": "execute_result"
    }
   ],
   "source": [
    "skill=driver.find_elements_by_xpath('//p[@class=\"body-small-l\"]')\n",
    "len(skill)\n",
    "skill[0:10]"
   ]
  },
  {
   "cell_type": "code",
   "execution_count": 30,
   "id": "da7b7d00",
   "metadata": {},
   "outputs": [
    {
     "data": {
      "text/plain": [
       "['4-6 years',\n",
       " 'Not Disclosed',\n",
       " 'Noida',\n",
       " '1 vacancy',\n",
       " '4-6 Yrs',\n",
       " 'Not Disclosed',\n",
       " 'Noida',\n",
       " 'Automation, Analytics, Asset management +7 more',\n",
       " '',\n",
       " '']"
      ]
     },
     "execution_count": 30,
     "metadata": {},
     "output_type": "execute_result"
    }
   ],
   "source": [
    "skills =[]\n",
    "\n",
    "for i in skill:\n",
    "    skills.append(i.text)\n",
    "skills[0:10]\n",
    "   "
   ]
  },
  {
   "cell_type": "code",
   "execution_count": 16,
   "id": "62d4097a",
   "metadata": {},
   "outputs": [],
   "source": [
    "driver = webdriver.Chrome(r'C:\\Users\\PC\\Downloads\\chromedriver_win32\\chromedriver.exe')"
   ]
  },
  {
   "cell_type": "code",
   "execution_count": 17,
   "id": "b7d5d805",
   "metadata": {},
   "outputs": [],
   "source": [
    "url ='https://www.ambitionbox.com/'\n",
    "driver.get(url)"
   ]
  },
  {
   "cell_type": "code",
   "execution_count": 20,
   "id": "a7c425d1",
   "metadata": {},
   "outputs": [
    {
     "data": {
      "text/plain": [
       "[<selenium.webdriver.remote.webelement.WebElement (session=\"f3dd7bb3bb4f886a610d1f6289fe2bf9\", element=\"320cbf3c-a854-43cc-a98f-df9c9d1b2209\")>,\n",
       " <selenium.webdriver.remote.webelement.WebElement (session=\"f3dd7bb3bb4f886a610d1f6289fe2bf9\", element=\"d7e08ea8-7c6c-4d44-a762-3523ebd4a2f3\")>,\n",
       " <selenium.webdriver.remote.webelement.WebElement (session=\"f3dd7bb3bb4f886a610d1f6289fe2bf9\", element=\"ecd756fa-aeda-4f63-a06c-bf705a826db3\")>,\n",
       " <selenium.webdriver.remote.webelement.WebElement (session=\"f3dd7bb3bb4f886a610d1f6289fe2bf9\", element=\"cf4050a2-7d41-4bd2-bee0-7250f7d5437c\")>,\n",
       " <selenium.webdriver.remote.webelement.WebElement (session=\"f3dd7bb3bb4f886a610d1f6289fe2bf9\", element=\"e9641d95-6d99-4299-9e46-f603c513f3cb\")>,\n",
       " <selenium.webdriver.remote.webelement.WebElement (session=\"f3dd7bb3bb4f886a610d1f6289fe2bf9\", element=\"e7fd09a5-484c-4ad2-898d-f23b9ffd408a\")>,\n",
       " <selenium.webdriver.remote.webelement.WebElement (session=\"f3dd7bb3bb4f886a610d1f6289fe2bf9\", element=\"6a8ca9f4-11ec-4d2c-b88d-bce06cd583be\")>,\n",
       " <selenium.webdriver.remote.webelement.WebElement (session=\"f3dd7bb3bb4f886a610d1f6289fe2bf9\", element=\"d083b731-ed4f-412d-b76f-2d1690c83241\")>,\n",
       " <selenium.webdriver.remote.webelement.WebElement (session=\"f3dd7bb3bb4f886a610d1f6289fe2bf9\", element=\"756e4dda-ad38-4905-846f-5ac8b1d04739\")>,\n",
       " <selenium.webdriver.remote.webelement.WebElement (session=\"f3dd7bb3bb4f886a610d1f6289fe2bf9\", element=\"aed8c4b6-dbc4-4240-9ece-ec63aa710fb3\")>]"
      ]
     },
     "execution_count": 20,
     "metadata": {},
     "output_type": "execute_result"
    }
   ],
   "source": [
    "company = driver.find_elements_by_xpath('//div[@class=\"name\"]')\n",
    "len(company)\n",
    "company[0:10]"
   ]
  },
  {
   "cell_type": "code",
   "execution_count": 21,
   "id": "613f5df4",
   "metadata": {},
   "outputs": [
    {
     "data": {
      "text/plain": [
       "['Tekion\\nbased on 10 salaries',\n",
       " 'Microsoft Corporation\\nbased on 224 salaries',\n",
       " 'Goldman Sachs\\nbased on 11 salaries',\n",
       " 'Flipkart\\nbased on 54 salaries',\n",
       " 'Amazon\\nbased on 85 salaries',\n",
       " 'Arcesium\\nbased on 37 salaries',\n",
       " 'PayPal\\nbased on 12 salaries',\n",
       " 'Servicenow Software Development India\\nbased on 27 salaries',\n",
       " 'Walmart\\nbased on 79 salaries',\n",
       " 'ServiceNow\\nbased on 16 salaries']"
      ]
     },
     "execution_count": 21,
     "metadata": {},
     "output_type": "execute_result"
    }
   ],
   "source": [
    "comp_names = []\n",
    "\n",
    "for i in company:\n",
    "    comp_names.append(i.text)\n",
    "comp_names[0:10]    "
   ]
  },
  {
   "cell_type": "code",
   "execution_count": 22,
   "id": "0978b107",
   "metadata": {},
   "outputs": [
    {
     "data": {
      "text/plain": [
       "[<selenium.webdriver.remote.webelement.WebElement (session=\"f3dd7bb3bb4f886a610d1f6289fe2bf9\", element=\"8019a9e3-11c2-454c-9156-07b1772ffa64\")>,\n",
       " <selenium.webdriver.remote.webelement.WebElement (session=\"f3dd7bb3bb4f886a610d1f6289fe2bf9\", element=\"eab5e068-bb71-42c4-acae-e2d7352a8a5a\")>,\n",
       " <selenium.webdriver.remote.webelement.WebElement (session=\"f3dd7bb3bb4f886a610d1f6289fe2bf9\", element=\"71bd6a2f-bc9a-4823-a472-6100b163cfa7\")>,\n",
       " <selenium.webdriver.remote.webelement.WebElement (session=\"f3dd7bb3bb4f886a610d1f6289fe2bf9\", element=\"ba309218-835a-41d1-b0b4-5bd92ed05c9c\")>,\n",
       " <selenium.webdriver.remote.webelement.WebElement (session=\"f3dd7bb3bb4f886a610d1f6289fe2bf9\", element=\"59978e7c-6fd6-40be-bc14-8bf8071bf5a7\")>,\n",
       " <selenium.webdriver.remote.webelement.WebElement (session=\"f3dd7bb3bb4f886a610d1f6289fe2bf9\", element=\"5245b360-6618-4beb-ad6f-c9c8adbf39da\")>,\n",
       " <selenium.webdriver.remote.webelement.WebElement (session=\"f3dd7bb3bb4f886a610d1f6289fe2bf9\", element=\"1009d18c-f5de-4d4b-a5d2-ace6e8f5f476\")>,\n",
       " <selenium.webdriver.remote.webelement.WebElement (session=\"f3dd7bb3bb4f886a610d1f6289fe2bf9\", element=\"7771769f-70f7-4662-bd12-79a0ac79c4ef\")>,\n",
       " <selenium.webdriver.remote.webelement.WebElement (session=\"f3dd7bb3bb4f886a610d1f6289fe2bf9\", element=\"fe5d960f-386d-47f8-a61c-2418c1fbda12\")>,\n",
       " <selenium.webdriver.remote.webelement.WebElement (session=\"f3dd7bb3bb4f886a610d1f6289fe2bf9\", element=\"b469c365-f3cc-4ee9-81de-9172930363bf\")>]"
      ]
     },
     "execution_count": 22,
     "metadata": {},
     "output_type": "execute_result"
    }
   ],
   "source": [
    "exp = driver.find_elements_by_xpath('//div[@class=\"salaries sbold-list-header\"]')\n",
    "len(exp)\n",
    "exp[0:10]"
   ]
  },
  {
   "cell_type": "code",
   "execution_count": 23,
   "id": "483e63e9",
   "metadata": {},
   "outputs": [
    {
     "data": {
      "text/plain": [
       "['Software Engineer\\n . \\n4 yrs exp',\n",
       " 'Software Engineer\\n . \\n1-4 yrs exp',\n",
       " 'Software Engineer\\n . \\n2 yrs exp',\n",
       " 'Software Engineer\\n . \\n1-4 yrs exp',\n",
       " 'Software Engineer\\n . \\n1-4 yrs exp',\n",
       " 'Software Engineer\\n . \\n1 yr exp',\n",
       " 'Software Engineer\\n . \\n1 yr exp',\n",
       " 'Software Engineer\\n . \\n2-3 yrs exp',\n",
       " 'Software Engineer\\n . \\n1-4 yrs exp',\n",
       " 'Software Engineer\\n . \\n3 yrs exp']"
      ]
     },
     "execution_count": 23,
     "metadata": {},
     "output_type": "execute_result"
    }
   ],
   "source": [
    "experiences = []\n",
    "\n",
    "for i in exp:\n",
    "    experiences.append(i.text)\n",
    "experiences[0:10]"
   ]
  },
  {
   "cell_type": "code",
   "execution_count": 24,
   "id": "28086846",
   "metadata": {},
   "outputs": [
    {
     "data": {
      "text/plain": [
       "[<selenium.webdriver.remote.webelement.WebElement (session=\"f3dd7bb3bb4f886a610d1f6289fe2bf9\", element=\"e3487c56-1939-4ca3-bdfb-925ea356fc59\")>,\n",
       " <selenium.webdriver.remote.webelement.WebElement (session=\"f3dd7bb3bb4f886a610d1f6289fe2bf9\", element=\"a8a07667-3ea4-4a33-b323-f8d3fd085b7d\")>,\n",
       " <selenium.webdriver.remote.webelement.WebElement (session=\"f3dd7bb3bb4f886a610d1f6289fe2bf9\", element=\"15ced23b-42d0-4041-a9c6-c9be54a5b3f3\")>,\n",
       " <selenium.webdriver.remote.webelement.WebElement (session=\"f3dd7bb3bb4f886a610d1f6289fe2bf9\", element=\"b4b4b8bd-c431-4396-b0b5-69c3ec6910ec\")>,\n",
       " <selenium.webdriver.remote.webelement.WebElement (session=\"f3dd7bb3bb4f886a610d1f6289fe2bf9\", element=\"bea610e3-a5aa-4bad-ba93-997744a8433e\")>,\n",
       " <selenium.webdriver.remote.webelement.WebElement (session=\"f3dd7bb3bb4f886a610d1f6289fe2bf9\", element=\"a0a92d1b-ccd5-466b-8a6c-47fcba3fe76e\")>,\n",
       " <selenium.webdriver.remote.webelement.WebElement (session=\"f3dd7bb3bb4f886a610d1f6289fe2bf9\", element=\"0749d665-02c3-41b3-9982-f5524fee9843\")>,\n",
       " <selenium.webdriver.remote.webelement.WebElement (session=\"f3dd7bb3bb4f886a610d1f6289fe2bf9\", element=\"6942bc84-5ab1-4c04-ac7c-e002d7732b75\")>,\n",
       " <selenium.webdriver.remote.webelement.WebElement (session=\"f3dd7bb3bb4f886a610d1f6289fe2bf9\", element=\"8068fd4e-3970-4b58-9f91-458bcbcb4272\")>,\n",
       " <selenium.webdriver.remote.webelement.WebElement (session=\"f3dd7bb3bb4f886a610d1f6289fe2bf9\", element=\"3469d2a1-2a8b-4a95-8b6d-025c0dff4ff4\")>]"
      ]
     },
     "execution_count": 24,
     "metadata": {},
     "output_type": "execute_result"
    }
   ],
   "source": [
    "low_sal = driver.find_elements_by_xpath('//div[@class=\"value body-medium\"]')\n",
    "len(low_sal)\n",
    "low_sal[0:10]"
   ]
  },
  {
   "cell_type": "code",
   "execution_count": 25,
   "id": "28b3298a",
   "metadata": {},
   "outputs": [
    {
     "data": {
      "text/plain": [
       "['₹ 14.0L',\n",
       " '₹ 32.0L',\n",
       " '₹ 12.0L',\n",
       " '₹ 45.0L',\n",
       " '₹ 16.0L',\n",
       " '₹ 30.0L',\n",
       " '₹ 7.0L',\n",
       " '₹ 30.0L',\n",
       " '₹ 8.0L',\n",
       " '₹ 41.5L']"
      ]
     },
     "execution_count": 25,
     "metadata": {},
     "output_type": "execute_result"
    }
   ],
   "source": [
    "low_salerys = []\n",
    "\n",
    "for i in low_sal:\n",
    "    low_salerys.append(i.text)\n",
    "low_salerys[0:10]\n",
    "    "
   ]
  },
  {
   "cell_type": "code",
   "execution_count": 26,
   "id": "f03a398a",
   "metadata": {},
   "outputs": [
    {
     "data": {
      "text/plain": [
       "[<selenium.webdriver.remote.webelement.WebElement (session=\"f3dd7bb3bb4f886a610d1f6289fe2bf9\", element=\"9b2a6e53-ba47-4206-97b1-2ff2b5790fdf\")>,\n",
       " <selenium.webdriver.remote.webelement.WebElement (session=\"f3dd7bb3bb4f886a610d1f6289fe2bf9\", element=\"59b62b42-dbea-4d55-9aa1-e937ba59a9c3\")>,\n",
       " <selenium.webdriver.remote.webelement.WebElement (session=\"f3dd7bb3bb4f886a610d1f6289fe2bf9\", element=\"2a7732a8-1555-4355-a7f1-71701c4d35be\")>,\n",
       " <selenium.webdriver.remote.webelement.WebElement (session=\"f3dd7bb3bb4f886a610d1f6289fe2bf9\", element=\"9485eec5-6b23-4962-9e46-971338dda1f3\")>,\n",
       " <selenium.webdriver.remote.webelement.WebElement (session=\"f3dd7bb3bb4f886a610d1f6289fe2bf9\", element=\"514a0e5e-08f2-43f5-88b4-7d5a2daaa8e6\")>,\n",
       " <selenium.webdriver.remote.webelement.WebElement (session=\"f3dd7bb3bb4f886a610d1f6289fe2bf9\", element=\"4a027c3e-b193-45e4-965c-862772334150\")>,\n",
       " <selenium.webdriver.remote.webelement.WebElement (session=\"f3dd7bb3bb4f886a610d1f6289fe2bf9\", element=\"68f49f82-e198-4b79-9d61-7c793d6359af\")>,\n",
       " <selenium.webdriver.remote.webelement.WebElement (session=\"f3dd7bb3bb4f886a610d1f6289fe2bf9\", element=\"708e46dd-31bb-478d-b88a-d96dcf9c3d8d\")>,\n",
       " <selenium.webdriver.remote.webelement.WebElement (session=\"f3dd7bb3bb4f886a610d1f6289fe2bf9\", element=\"260db646-621f-4f58-8676-68e89340a1eb\")>,\n",
       " <selenium.webdriver.remote.webelement.WebElement (session=\"f3dd7bb3bb4f886a610d1f6289fe2bf9\", element=\"b1785792-3859-40ec-b740-6f6d371c6cbb\")>]"
      ]
     },
     "execution_count": 26,
     "metadata": {},
     "output_type": "execute_result"
    }
   ],
   "source": [
    "avg_sal =driver.find_elements_by_xpath('//p[@class=\"averageCtc\"]')\n",
    "len(avg_sal)\n",
    "avg_sal[0:10]"
   ]
  },
  {
   "cell_type": "code",
   "execution_count": 27,
   "id": "8d101100",
   "metadata": {},
   "outputs": [
    {
     "data": {
      "text/plain": [
       "['₹ 23.3L',\n",
       " '₹ 22.4L',\n",
       " '₹ 21.9L',\n",
       " '₹ 20.6L',\n",
       " '₹ 19.4L',\n",
       " '₹ 18.5L',\n",
       " '₹ 18.4L',\n",
       " '₹ 18.3L',\n",
       " '₹ 17.9L',\n",
       " '₹ 17.8L']"
      ]
     },
     "execution_count": 27,
     "metadata": {},
     "output_type": "execute_result"
    }
   ],
   "source": [
    "avg_salerys=[]\n",
    "\n",
    "for i in avg_sal:\n",
    "    avg_salerys.append(i.text)\n",
    "avg_salerys[0:10]"
   ]
  },
  {
   "cell_type": "code",
   "execution_count": 28,
   "id": "693ce71f",
   "metadata": {},
   "outputs": [
    {
     "data": {
      "text/plain": [
       "[<selenium.webdriver.remote.webelement.WebElement (session=\"f3dd7bb3bb4f886a610d1f6289fe2bf9\", element=\"e3487c56-1939-4ca3-bdfb-925ea356fc59\")>,\n",
       " <selenium.webdriver.remote.webelement.WebElement (session=\"f3dd7bb3bb4f886a610d1f6289fe2bf9\", element=\"a8a07667-3ea4-4a33-b323-f8d3fd085b7d\")>,\n",
       " <selenium.webdriver.remote.webelement.WebElement (session=\"f3dd7bb3bb4f886a610d1f6289fe2bf9\", element=\"15ced23b-42d0-4041-a9c6-c9be54a5b3f3\")>,\n",
       " <selenium.webdriver.remote.webelement.WebElement (session=\"f3dd7bb3bb4f886a610d1f6289fe2bf9\", element=\"b4b4b8bd-c431-4396-b0b5-69c3ec6910ec\")>,\n",
       " <selenium.webdriver.remote.webelement.WebElement (session=\"f3dd7bb3bb4f886a610d1f6289fe2bf9\", element=\"bea610e3-a5aa-4bad-ba93-997744a8433e\")>,\n",
       " <selenium.webdriver.remote.webelement.WebElement (session=\"f3dd7bb3bb4f886a610d1f6289fe2bf9\", element=\"a0a92d1b-ccd5-466b-8a6c-47fcba3fe76e\")>,\n",
       " <selenium.webdriver.remote.webelement.WebElement (session=\"f3dd7bb3bb4f886a610d1f6289fe2bf9\", element=\"0749d665-02c3-41b3-9982-f5524fee9843\")>,\n",
       " <selenium.webdriver.remote.webelement.WebElement (session=\"f3dd7bb3bb4f886a610d1f6289fe2bf9\", element=\"6942bc84-5ab1-4c04-ac7c-e002d7732b75\")>,\n",
       " <selenium.webdriver.remote.webelement.WebElement (session=\"f3dd7bb3bb4f886a610d1f6289fe2bf9\", element=\"8068fd4e-3970-4b58-9f91-458bcbcb4272\")>,\n",
       " <selenium.webdriver.remote.webelement.WebElement (session=\"f3dd7bb3bb4f886a610d1f6289fe2bf9\", element=\"3469d2a1-2a8b-4a95-8b6d-025c0dff4ff4\")>]"
      ]
     },
     "execution_count": 28,
     "metadata": {},
     "output_type": "execute_result"
    }
   ],
   "source": [
    "high_sal = driver.find_elements_by_xpath('//div[@class=\"value body-medium\"]')\n",
    "len(high_sal)\n",
    "high_sal[0:10]"
   ]
  },
  {
   "cell_type": "code",
   "execution_count": 29,
   "id": "a4edc6b8",
   "metadata": {},
   "outputs": [
    {
     "data": {
      "text/plain": [
       "['₹ 14.0L',\n",
       " '₹ 32.0L',\n",
       " '₹ 12.0L',\n",
       " '₹ 45.0L',\n",
       " '₹ 16.0L',\n",
       " '₹ 30.0L',\n",
       " '₹ 7.0L',\n",
       " '₹ 30.0L',\n",
       " '₹ 8.0L',\n",
       " '₹ 41.5L']"
      ]
     },
     "execution_count": 29,
     "metadata": {},
     "output_type": "execute_result"
    }
   ],
   "source": [
    "high_salerys = []\n",
    "\n",
    "for i in high_sal:\n",
    "    high_salerys.append(i.text)\n",
    "high_salerys[0:10]\n",
    "    "
   ]
  },
  {
   "cell_type": "code",
   "execution_count": null,
   "id": "21cea20c",
   "metadata": {},
   "outputs": [],
   "source": []
  }
 ],
 "metadata": {
  "kernelspec": {
   "display_name": "Python 3",
   "language": "python",
   "name": "python3"
  },
  "language_info": {
   "codemirror_mode": {
    "name": "ipython",
    "version": 3
   },
   "file_extension": ".py",
   "mimetype": "text/x-python",
   "name": "python",
   "nbconvert_exporter": "python",
   "pygments_lexer": "ipython3",
   "version": "3.8.8"
  }
 },
 "nbformat": 4,
 "nbformat_minor": 5
}
